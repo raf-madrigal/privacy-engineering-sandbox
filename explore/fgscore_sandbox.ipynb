{
  "nbformat": 4,
  "nbformat_minor": 0,
  "metadata": {
    "colab": {
      "provenance": [],
      "collapsed_sections": [
        "i42Vdn9_thcU",
        "1OtYoREvtZ_T"
      ]
    },
    "kernelspec": {
      "name": "python3",
      "display_name": "Python 3"
    },
    "language_info": {
      "name": "python"
    }
  },
  "cells": [
    {
      "cell_type": "markdown",
      "source": [
        "# Bias and Fairness Sandbox using AScore Dataset\n",
        "\n",
        "Objective: Evaluate Fairness of A Score model wrt to sensitive features\n",
        "\n",
        "**ChangeLog:**\n",
        "- 9 June 2023 - Completed initial assessment and reported via Model Report. Used the following sensitive features: age, marital status, gender, SEC classification\n",
        "- 14 June 2023 - Defined several parity measures (NPV, PPV, FDR, FOR). Refactored code such that it can handle mixed/ multiple sfs at once\n",
        "- 15 June 2023 - Created \"print_report\" that shows a simple assessment report\n",
        "\n",
        "\n",
        "**Technical Next Steps:**\n",
        "\n",
        "*Priority 1: Defining the Fairness Tree*\n",
        "- Fairness Tree. Function that asks the user serveral questions to filter which fairness metric to use.\n",
        "- Metrics Found in Fairness Tree: Define Negative Equalized Odds, Calibration Group metrics\n",
        "- Define performance metrics (accuracy, recall, etc.) using Metric Frame\n",
        "\n",
        "*Priority 2: Fairness - Accuracy Trade Off*\n",
        "- EDA Tools to look at Bias and Fairness\n",
        "- Trade Off Module (Looking at how fairness influence performance metrics)\n",
        "\n",
        "*Priority 3: Rootcause Analysis*\n",
        "- Identify which among the top features influence the bias\n",
        "\n",
        "*Priority Y: Fairness Mitigation*\n",
        "- Post-processing Mitigation techniques from Fairlean\n",
        "\n",
        "\n",
        "*Priority Z*\n",
        "\n",
        "- Define Brier Score and Individual fairness\n",
        "- Confidence Interval\n",
        "\n",
        "Main Reference\n",
        "- Veritas Framework\n",
        "\n"
      ],
      "metadata": {
        "id": "BkbMxD_t63LR"
      }
    },
    {
      "cell_type": "code",
      "source": [
        "pip install aif360 'aif360[Reductions]'  'aif360[LawSchoolGPA]' fairlearn==0.9.0"
      ],
      "metadata": {
        "id": "RdFwPa5AsPJ6",
        "colab": {
          "base_uri": "https://localhost:8080/"
        },
        "outputId": "f384aaad-6db2-4b3c-9a9d-ef69c8ac6d9a"
      },
      "execution_count": null,
      "outputs": [
        {
          "output_type": "stream",
          "name": "stdout",
          "text": [
            "Requirement already satisfied: aif360 in /usr/local/lib/python3.10/dist-packages (0.5.0)\n",
            "Requirement already satisfied: fairlearn==0.9.0 in /usr/local/lib/python3.10/dist-packages (0.9.0)\n",
            "Requirement already satisfied: numpy>=1.18.0 in /usr/local/lib/python3.10/dist-packages (from fairlearn==0.9.0) (1.23.5)\n",
            "Requirement already satisfied: pandas>=0.25.2 in /usr/local/lib/python3.10/dist-packages (from fairlearn==0.9.0) (1.5.3)\n",
            "Requirement already satisfied: scikit-learn>=0.22.1 in /usr/local/lib/python3.10/dist-packages (from fairlearn==0.9.0) (1.2.2)\n",
            "Requirement already satisfied: scipy>=1.5.0 in /usr/local/lib/python3.10/dist-packages (from fairlearn==0.9.0) (1.11.2)\n",
            "Requirement already satisfied: matplotlib in /usr/local/lib/python3.10/dist-packages (from aif360) (3.7.1)\n",
            "Requirement already satisfied: tempeh in /usr/local/lib/python3.10/dist-packages (from aif360) (0.1.12)\n",
            "Requirement already satisfied: python-dateutil>=2.8.1 in /usr/local/lib/python3.10/dist-packages (from pandas>=0.25.2->fairlearn==0.9.0) (2.8.2)\n",
            "Requirement already satisfied: pytz>=2020.1 in /usr/local/lib/python3.10/dist-packages (from pandas>=0.25.2->fairlearn==0.9.0) (2023.3.post1)\n",
            "Requirement already satisfied: joblib>=1.1.1 in /usr/local/lib/python3.10/dist-packages (from scikit-learn>=0.22.1->fairlearn==0.9.0) (1.3.2)\n",
            "Requirement already satisfied: threadpoolctl>=2.0.0 in /usr/local/lib/python3.10/dist-packages (from scikit-learn>=0.22.1->fairlearn==0.9.0) (3.2.0)\n",
            "Requirement already satisfied: contourpy>=1.0.1 in /usr/local/lib/python3.10/dist-packages (from matplotlib->aif360) (1.1.0)\n",
            "Requirement already satisfied: cycler>=0.10 in /usr/local/lib/python3.10/dist-packages (from matplotlib->aif360) (0.11.0)\n",
            "Requirement already satisfied: fonttools>=4.22.0 in /usr/local/lib/python3.10/dist-packages (from matplotlib->aif360) (4.42.1)\n",
            "Requirement already satisfied: kiwisolver>=1.0.1 in /usr/local/lib/python3.10/dist-packages (from matplotlib->aif360) (1.4.5)\n",
            "Requirement already satisfied: packaging>=20.0 in /usr/local/lib/python3.10/dist-packages (from matplotlib->aif360) (23.1)\n",
            "Requirement already satisfied: pillow>=6.2.0 in /usr/local/lib/python3.10/dist-packages (from matplotlib->aif360) (9.4.0)\n",
            "Requirement already satisfied: pyparsing>=2.3.1 in /usr/local/lib/python3.10/dist-packages (from matplotlib->aif360) (3.1.1)\n",
            "Requirement already satisfied: memory-profiler in /usr/local/lib/python3.10/dist-packages (from tempeh->aif360) (0.61.0)\n",
            "Requirement already satisfied: pytest in /usr/local/lib/python3.10/dist-packages (from tempeh->aif360) (7.4.1)\n",
            "Requirement already satisfied: requests in /usr/local/lib/python3.10/dist-packages (from tempeh->aif360) (2.31.0)\n",
            "Requirement already satisfied: shap in /usr/local/lib/python3.10/dist-packages (from tempeh->aif360) (0.42.1)\n",
            "Requirement already satisfied: six>=1.5 in /usr/local/lib/python3.10/dist-packages (from python-dateutil>=2.8.1->pandas>=0.25.2->fairlearn==0.9.0) (1.16.0)\n",
            "Requirement already satisfied: psutil in /usr/local/lib/python3.10/dist-packages (from memory-profiler->tempeh->aif360) (5.9.5)\n",
            "Requirement already satisfied: iniconfig in /usr/local/lib/python3.10/dist-packages (from pytest->tempeh->aif360) (2.0.0)\n",
            "Requirement already satisfied: pluggy<2.0,>=0.12 in /usr/local/lib/python3.10/dist-packages (from pytest->tempeh->aif360) (1.3.0)\n",
            "Requirement already satisfied: exceptiongroup>=1.0.0rc8 in /usr/local/lib/python3.10/dist-packages (from pytest->tempeh->aif360) (1.1.3)\n",
            "Requirement already satisfied: tomli>=1.0.0 in /usr/local/lib/python3.10/dist-packages (from pytest->tempeh->aif360) (2.0.1)\n",
            "Requirement already satisfied: charset-normalizer<4,>=2 in /usr/local/lib/python3.10/dist-packages (from requests->tempeh->aif360) (3.2.0)\n",
            "Requirement already satisfied: idna<4,>=2.5 in /usr/local/lib/python3.10/dist-packages (from requests->tempeh->aif360) (3.4)\n",
            "Requirement already satisfied: urllib3<3,>=1.21.1 in /usr/local/lib/python3.10/dist-packages (from requests->tempeh->aif360) (2.0.4)\n",
            "Requirement already satisfied: certifi>=2017.4.17 in /usr/local/lib/python3.10/dist-packages (from requests->tempeh->aif360) (2023.7.22)\n",
            "Requirement already satisfied: tqdm>=4.27.0 in /usr/local/lib/python3.10/dist-packages (from shap->tempeh->aif360) (4.66.1)\n",
            "Requirement already satisfied: slicer==0.0.7 in /usr/local/lib/python3.10/dist-packages (from shap->tempeh->aif360) (0.0.7)\n",
            "Requirement already satisfied: numba in /usr/local/lib/python3.10/dist-packages (from shap->tempeh->aif360) (0.56.4)\n",
            "Requirement already satisfied: cloudpickle in /usr/local/lib/python3.10/dist-packages (from shap->tempeh->aif360) (2.2.1)\n",
            "Requirement already satisfied: llvmlite<0.40,>=0.39.0dev0 in /usr/local/lib/python3.10/dist-packages (from numba->shap->tempeh->aif360) (0.39.1)\n",
            "Requirement already satisfied: setuptools in /usr/local/lib/python3.10/dist-packages (from numba->shap->tempeh->aif360) (67.7.2)\n"
          ]
        }
      ]
    },
    {
      "cell_type": "code",
      "execution_count": null,
      "metadata": {
        "id": "dMhATgpg1eMf"
      },
      "outputs": [],
      "source": [
        "import pandas as pd\n",
        "import numpy as np\n",
        "import matplotlib.pyplot as plt\n",
        "import seaborn as sns\n",
        "from sklearn.metrics import accuracy_score, precision_score, recall_score\n",
        "from fairlearn.metrics import (\n",
        "    MetricFrame,\n",
        "    count,\n",
        "    false_negative_rate,\n",
        "    false_positive_rate,\n",
        "    selection_rate,\n",
        "    true_negative_rate,\n",
        "    true_positive_rate,\n",
        "    demographic_parity_ratio,\n",
        "    equalized_odds_ratio,\n",
        "    mean_prediction,\n",
        "    # _balanced_root_mean_squared_error\n",
        ")\n",
        "\n",
        "from fairlearn.metrics._base_metrics import _get_labels_for_confusion_matrix\n",
        "from sklearn.metrics import confusion_matrix\n",
        "from fairlearn.metrics import make_derived_metric\n",
        "from sklearn.metrics import confusion_matrix\n",
        "from sklearn.metrics import recall_score, precision_score, f1_score, accuracy_score\n",
        "\n",
        "path = '/content/drive/MyDrive/data/ascore_with_protected_feats.csv'"
      ]
    },
    {
      "cell_type": "markdown",
      "source": [
        "## Data Import/ Dictionary\n",
        "\n",
        "```python\n",
        "# Identifiers\n",
        "'ip_role_id', 'agent_id', 'gcashwallet',\n",
        "\n",
        "# Training Metadata\n",
        "\n",
        "'dataset_split'\n",
        "\n",
        "# Label\n",
        "'bad30', 'prediction', 'score'\n",
        "\n",
        "# Timestamps\n",
        "'billing_date', 'sunday_billing_date',\n",
        "'due_date', 'repayment_date',\n",
        "\n",
        "# KYC Data\n",
        "\n",
        "'agent_id_kyc', 'gcashwallet_kyc',\n",
        "'pa_town', 'pa_province', 'ca_town', 'ca_province', 'gender_id',\n",
        "'gender', 'birth_date', 'nature_of_work', 'consent', 'marital_status',\n",
        "'email_address_verified'\n",
        "\n",
        "# Transaction Information\n",
        "\n",
        "'balance_cv_balance_90',\n",
        "'balance_sma_balance_90', 'balance_tot_cv_balance_180d',\n",
        "'balance_tot_sma_balance_90d', 'billpay_avg_monthly_pay_cnt',\n",
        "'billpay_cc_sma_amt', 'billpay_consistency', 'billpay_govt_sma_amt',\n",
        "'billpay_homecredit_amt_60d', 'billpay_loans_amt_pct',\n",
        "'billpay_months_active', 'billpay_pay_date_stddev',\n",
        "'fs_ginsure_trans_amt_90d', 'fs_ginsure_trans_cnt_std',\n",
        "'fs_ginvest_m_avg_bal_std', 'fs_gsave_deposit_cnt_90d',\n",
        "'fs_gsave_m_avg_growth_rate', 'kyc_crp_cnt', 'kyc_crp_gcredit_pct',\n",
        "'kyc_source_of_funds_bank', 'transactions_buyload_trans_med_90d',\n",
        "'transactions_days_from_first_login',\n",
        "'transactions_fundin_trans_date_delta_med_180d',\n",
        "'transactions_fundout_failed_trans_cnt_60d',\n",
        "'transactions_fundout_trans_amt_avg_60d',\n",
        "'transactions_fundout_trans_date_delta_med_180d',\n",
        "'transactions_offline_cashin_avg_use_case_amt_pct',\n",
        "'transactions_offline_cashin_trans_med_90d',\n",
        "'transactions_online_cashin_avg_inflow_amt_pct',\n",
        "'transactions_online_spending_avg_outflow_amt_pct',\n",
        "'transactions_online_spending_sma_use_case_amt', 'transactions_recency',\n",
        "'transactions_scan2pay_convenience_med_amt_180d',\n",
        "'transactions_scan2pay_trans_med_90d',\n",
        "'transactions_sendmoney_avg_use_case_amt_pct',\n",
        "'transactions_sendmoney_rcv_avg_inflow_amt_pct',\n",
        "'transactions_utilities_avg_outflow_amt_pct',\n",
        "'transactions_utilities_cv_use_case_amt',\n",
        "'transactions_webpay_ecommerce_med_amt_180d',\n",
        "'transactions_webpay_trans_med_90d',\n",
        "```\n"
      ],
      "metadata": {
        "id": "i42Vdn9_thcU"
      }
    },
    {
      "cell_type": "code",
      "source": [
        "df = pd.read_csv(path)\n",
        "print('Size of thee DataFrame', df.shape)\n",
        "print('DataFrame Columns:', df.columns)\n",
        "df"
      ],
      "metadata": {
        "colab": {
          "base_uri": "https://localhost:8080/",
          "height": 1000
        },
        "id": "vBvWQGmT1i2X",
        "outputId": "a09c853a-a51c-4fdb-e365-3a383daaa415"
      },
      "execution_count": null,
      "outputs": [
        {
          "output_type": "stream",
          "name": "stdout",
          "text": [
            "Size of thee DataFrame (463793, 64)\n",
            "DataFrame Columns: Index(['ip_role_id', 'agent_id', 'gcashwallet', 'dataset_split', 'bad30',\n",
            "       'prediction', 'score', 'billing_date', 'sunday_billing_date',\n",
            "       'due_date', 'repayment_date', 'balance_cv_balance_90',\n",
            "       'balance_sma_balance_90', 'balance_tot_cv_balance_180d',\n",
            "       'balance_tot_sma_balance_90d', 'billpay_avg_monthly_pay_cnt',\n",
            "       'billpay_cc_sma_amt', 'billpay_consistency', 'billpay_govt_sma_amt',\n",
            "       'billpay_homecredit_amt_60d', 'billpay_loans_amt_pct',\n",
            "       'billpay_months_active', 'billpay_pay_date_stddev',\n",
            "       'fs_ginsure_trans_amt_90d', 'fs_ginsure_trans_cnt_std',\n",
            "       'fs_ginvest_m_avg_bal_std', 'fs_gsave_deposit_cnt_90d',\n",
            "       'fs_gsave_m_avg_growth_rate', 'kyc_crp_cnt', 'kyc_crp_gcredit_pct',\n",
            "       'kyc_source_of_funds_bank', 'transactions_buyload_trans_med_90d',\n",
            "       'transactions_days_from_first_login',\n",
            "       'transactions_fundin_trans_date_delta_med_180d',\n",
            "       'transactions_fundout_failed_trans_cnt_60d',\n",
            "       'transactions_fundout_trans_amt_avg_60d',\n",
            "       'transactions_fundout_trans_date_delta_med_180d',\n",
            "       'transactions_offline_cashin_avg_use_case_amt_pct',\n",
            "       'transactions_offline_cashin_trans_med_90d',\n",
            "       'transactions_online_cashin_avg_inflow_amt_pct',\n",
            "       'transactions_online_spending_avg_outflow_amt_pct',\n",
            "       'transactions_online_spending_sma_use_case_amt', 'transactions_recency',\n",
            "       'transactions_scan2pay_convenience_med_amt_180d',\n",
            "       'transactions_scan2pay_trans_med_90d',\n",
            "       'transactions_sendmoney_avg_use_case_amt_pct',\n",
            "       'transactions_sendmoney_rcv_avg_inflow_amt_pct',\n",
            "       'transactions_utilities_avg_outflow_amt_pct',\n",
            "       'transactions_utilities_cv_use_case_amt',\n",
            "       'transactions_webpay_ecommerce_med_amt_180d',\n",
            "       'transactions_webpay_trans_med_90d', 'agent_id_kyc', 'gcashwallet_kyc',\n",
            "       'pa_town', 'pa_province', 'ca_town', 'ca_province', 'gender_id',\n",
            "       'gender', 'birth_date', 'nature_of_work', 'consent', 'marital_status',\n",
            "       'email_address_verified'],\n",
            "      dtype='object')\n"
          ]
        },
        {
          "output_type": "execute_result",
          "data": {
            "text/plain": [
              "                   ip_role_id   agent_id  gcashwallet dataset_split  bad30  \\\n",
              "0       217010000020139921503  100029892   9276859252         train      0   \n",
              "1       217010000017512486690  100094848   9157039015         train      0   \n",
              "2       217010000010782419647  100213032   9666953206           val      0   \n",
              "3       217010000022471413540  100228945   9270470148         train      0   \n",
              "4       217010000004160576354  100253494   9053155094         train      0   \n",
              "...                       ...        ...          ...           ...    ...   \n",
              "463788  217010000000762835723   99849151   9121879731          test      0   \n",
              "463789  217010000009697528533   99860462   9179156357         train      0   \n",
              "463790  217010000005443611984   99872204   9273279221         train      0   \n",
              "463791  217010000032772184281   99885851   9177070712         train      0   \n",
              "463792  217010000018626442112   99918280   9164652483           val      0   \n",
              "\n",
              "        prediction  score  billing_date  sunday_billing_date  \\\n",
              "0         0.563409    432      20210727             20210718   \n",
              "1         0.189596    555      20210101             20201220   \n",
              "2         0.739763    375      20210715             20210704   \n",
              "3         0.805375    348      20210116             20210103   \n",
              "4         0.843810    328      20210318             20210307   \n",
              "...            ...    ...           ...                  ...   \n",
              "463788    0.704675    387      20210626             20210613   \n",
              "463789    0.370284    488      20210602             20210523   \n",
              "463790    0.414541    475      20210126             20210117   \n",
              "463791    0.140356    581      20210128             20210117   \n",
              "463792    0.288285    515      20210826             20210815   \n",
              "\n",
              "                   due_date  ... pa_province             ca_town  \\\n",
              "0       2021-08-11 00:00:00  ...         NaN       BULI / CUPANG   \n",
              "1       2021-01-16 00:00:00  ...         NaN        Tandang Sora   \n",
              "2       2021-07-30 00:00:00  ...         NaN    MARIKINA HEIGHTS   \n",
              "3       2021-01-31 00:00:00  ...         NaN         SAN PASCUAL   \n",
              "4       2021-04-02 00:00:00  ...         NaN             Bulihan   \n",
              "...                     ...  ...         ...                 ...   \n",
              "463788  2021-07-11 00:00:00  ...         NaN            San Jose   \n",
              "463789  2021-06-17 00:00:00  ...         NaN        Barangay 521   \n",
              "463790  2021-02-10 00:00:00  ...         NaN  Pasong Camachile I   \n",
              "463791  2021-02-12 00:00:00  ...         NaN                CEBU   \n",
              "463792  2021-09-10 00:00:00  ...         NaN          BUENAVISTA   \n",
              "\n",
              "                 ca_province  gender_id  gender  birth_date  \\\n",
              "0                        NCR        2.0  FEMALE  1993-07-21   \n",
              "1               METRO MANILA        1.0    MALE  1978-06-26   \n",
              "2               MARIKINA NCR        0.0     NaN  1972-04-12   \n",
              "3                   BATANGAS        0.0     NaN  1989-09-13   \n",
              "4                    BULACAN        2.0  FEMALE  1999-03-18   \n",
              "...                      ...        ...     ...         ...   \n",
              "463788                 RIZAL        2.0  FEMALE  1987-12-17   \n",
              "463789          METRO MANILA        2.0  FEMALE  1994-09-11   \n",
              "463790                CAVITE        2.0  FEMALE  1990-10-13   \n",
              "463791           LILOAN CEBU        0.0     NaN  1990-12-02   \n",
              "463792  GENERAL TRIAS CAVITE        0.0     NaN  1975-11-18   \n",
              "\n",
              "                                           nature_of_work  consent  \\\n",
              "0                            Manufacturing and Production      0.0   \n",
              "1                                              Unemployed      0.0   \n",
              "2                                     GOVERNMENT EMPLOYEE      0.0   \n",
              "3                                                  OTHERS      0.0   \n",
              "4                                                 Student      0.0   \n",
              "...                                                   ...      ...   \n",
              "463788  Manpower Services ( Contractuals, Agency, Hous...      0.0   \n",
              "463789                    Healthcare and Medical Services      0.0   \n",
              "463790                               Wholesale and Retail      0.0   \n",
              "463791                                    FOOD AND RETAIL      0.0   \n",
              "463792                                     ONLINE SELLING      0.0   \n",
              "\n",
              "        marital_status  email_address_verified  \n",
              "0               Single                     1.0  \n",
              "1               Single                     1.0  \n",
              "2                  NaN                     1.0  \n",
              "3                  NaN                     1.0  \n",
              "4               Single                     1.0  \n",
              "...                ...                     ...  \n",
              "463788          Single                     1.0  \n",
              "463789          Single                     1.0  \n",
              "463790         Married                     1.0  \n",
              "463791             NaN                     1.0  \n",
              "463792             NaN                     1.0  \n",
              "\n",
              "[463793 rows x 64 columns]"
            ],
            "text/html": [
              "\n",
              "  <div id=\"df-39a03678-024e-4939-9670-cdc0578ccce4\" class=\"colab-df-container\">\n",
              "    <div>\n",
              "<style scoped>\n",
              "    .dataframe tbody tr th:only-of-type {\n",
              "        vertical-align: middle;\n",
              "    }\n",
              "\n",
              "    .dataframe tbody tr th {\n",
              "        vertical-align: top;\n",
              "    }\n",
              "\n",
              "    .dataframe thead th {\n",
              "        text-align: right;\n",
              "    }\n",
              "</style>\n",
              "<table border=\"1\" class=\"dataframe\">\n",
              "  <thead>\n",
              "    <tr style=\"text-align: right;\">\n",
              "      <th></th>\n",
              "      <th>ip_role_id</th>\n",
              "      <th>agent_id</th>\n",
              "      <th>gcashwallet</th>\n",
              "      <th>dataset_split</th>\n",
              "      <th>bad30</th>\n",
              "      <th>prediction</th>\n",
              "      <th>score</th>\n",
              "      <th>billing_date</th>\n",
              "      <th>sunday_billing_date</th>\n",
              "      <th>due_date</th>\n",
              "      <th>...</th>\n",
              "      <th>pa_province</th>\n",
              "      <th>ca_town</th>\n",
              "      <th>ca_province</th>\n",
              "      <th>gender_id</th>\n",
              "      <th>gender</th>\n",
              "      <th>birth_date</th>\n",
              "      <th>nature_of_work</th>\n",
              "      <th>consent</th>\n",
              "      <th>marital_status</th>\n",
              "      <th>email_address_verified</th>\n",
              "    </tr>\n",
              "  </thead>\n",
              "  <tbody>\n",
              "    <tr>\n",
              "      <th>0</th>\n",
              "      <td>217010000020139921503</td>\n",
              "      <td>100029892</td>\n",
              "      <td>9276859252</td>\n",
              "      <td>train</td>\n",
              "      <td>0</td>\n",
              "      <td>0.563409</td>\n",
              "      <td>432</td>\n",
              "      <td>20210727</td>\n",
              "      <td>20210718</td>\n",
              "      <td>2021-08-11 00:00:00</td>\n",
              "      <td>...</td>\n",
              "      <td>NaN</td>\n",
              "      <td>BULI / CUPANG</td>\n",
              "      <td>NCR</td>\n",
              "      <td>2.0</td>\n",
              "      <td>FEMALE</td>\n",
              "      <td>1993-07-21</td>\n",
              "      <td>Manufacturing and Production</td>\n",
              "      <td>0.0</td>\n",
              "      <td>Single</td>\n",
              "      <td>1.0</td>\n",
              "    </tr>\n",
              "    <tr>\n",
              "      <th>1</th>\n",
              "      <td>217010000017512486690</td>\n",
              "      <td>100094848</td>\n",
              "      <td>9157039015</td>\n",
              "      <td>train</td>\n",
              "      <td>0</td>\n",
              "      <td>0.189596</td>\n",
              "      <td>555</td>\n",
              "      <td>20210101</td>\n",
              "      <td>20201220</td>\n",
              "      <td>2021-01-16 00:00:00</td>\n",
              "      <td>...</td>\n",
              "      <td>NaN</td>\n",
              "      <td>Tandang Sora</td>\n",
              "      <td>METRO MANILA</td>\n",
              "      <td>1.0</td>\n",
              "      <td>MALE</td>\n",
              "      <td>1978-06-26</td>\n",
              "      <td>Unemployed</td>\n",
              "      <td>0.0</td>\n",
              "      <td>Single</td>\n",
              "      <td>1.0</td>\n",
              "    </tr>\n",
              "    <tr>\n",
              "      <th>2</th>\n",
              "      <td>217010000010782419647</td>\n",
              "      <td>100213032</td>\n",
              "      <td>9666953206</td>\n",
              "      <td>val</td>\n",
              "      <td>0</td>\n",
              "      <td>0.739763</td>\n",
              "      <td>375</td>\n",
              "      <td>20210715</td>\n",
              "      <td>20210704</td>\n",
              "      <td>2021-07-30 00:00:00</td>\n",
              "      <td>...</td>\n",
              "      <td>NaN</td>\n",
              "      <td>MARIKINA HEIGHTS</td>\n",
              "      <td>MARIKINA NCR</td>\n",
              "      <td>0.0</td>\n",
              "      <td>NaN</td>\n",
              "      <td>1972-04-12</td>\n",
              "      <td>GOVERNMENT EMPLOYEE</td>\n",
              "      <td>0.0</td>\n",
              "      <td>NaN</td>\n",
              "      <td>1.0</td>\n",
              "    </tr>\n",
              "    <tr>\n",
              "      <th>3</th>\n",
              "      <td>217010000022471413540</td>\n",
              "      <td>100228945</td>\n",
              "      <td>9270470148</td>\n",
              "      <td>train</td>\n",
              "      <td>0</td>\n",
              "      <td>0.805375</td>\n",
              "      <td>348</td>\n",
              "      <td>20210116</td>\n",
              "      <td>20210103</td>\n",
              "      <td>2021-01-31 00:00:00</td>\n",
              "      <td>...</td>\n",
              "      <td>NaN</td>\n",
              "      <td>SAN PASCUAL</td>\n",
              "      <td>BATANGAS</td>\n",
              "      <td>0.0</td>\n",
              "      <td>NaN</td>\n",
              "      <td>1989-09-13</td>\n",
              "      <td>OTHERS</td>\n",
              "      <td>0.0</td>\n",
              "      <td>NaN</td>\n",
              "      <td>1.0</td>\n",
              "    </tr>\n",
              "    <tr>\n",
              "      <th>4</th>\n",
              "      <td>217010000004160576354</td>\n",
              "      <td>100253494</td>\n",
              "      <td>9053155094</td>\n",
              "      <td>train</td>\n",
              "      <td>0</td>\n",
              "      <td>0.843810</td>\n",
              "      <td>328</td>\n",
              "      <td>20210318</td>\n",
              "      <td>20210307</td>\n",
              "      <td>2021-04-02 00:00:00</td>\n",
              "      <td>...</td>\n",
              "      <td>NaN</td>\n",
              "      <td>Bulihan</td>\n",
              "      <td>BULACAN</td>\n",
              "      <td>2.0</td>\n",
              "      <td>FEMALE</td>\n",
              "      <td>1999-03-18</td>\n",
              "      <td>Student</td>\n",
              "      <td>0.0</td>\n",
              "      <td>Single</td>\n",
              "      <td>1.0</td>\n",
              "    </tr>\n",
              "    <tr>\n",
              "      <th>...</th>\n",
              "      <td>...</td>\n",
              "      <td>...</td>\n",
              "      <td>...</td>\n",
              "      <td>...</td>\n",
              "      <td>...</td>\n",
              "      <td>...</td>\n",
              "      <td>...</td>\n",
              "      <td>...</td>\n",
              "      <td>...</td>\n",
              "      <td>...</td>\n",
              "      <td>...</td>\n",
              "      <td>...</td>\n",
              "      <td>...</td>\n",
              "      <td>...</td>\n",
              "      <td>...</td>\n",
              "      <td>...</td>\n",
              "      <td>...</td>\n",
              "      <td>...</td>\n",
              "      <td>...</td>\n",
              "      <td>...</td>\n",
              "      <td>...</td>\n",
              "    </tr>\n",
              "    <tr>\n",
              "      <th>463788</th>\n",
              "      <td>217010000000762835723</td>\n",
              "      <td>99849151</td>\n",
              "      <td>9121879731</td>\n",
              "      <td>test</td>\n",
              "      <td>0</td>\n",
              "      <td>0.704675</td>\n",
              "      <td>387</td>\n",
              "      <td>20210626</td>\n",
              "      <td>20210613</td>\n",
              "      <td>2021-07-11 00:00:00</td>\n",
              "      <td>...</td>\n",
              "      <td>NaN</td>\n",
              "      <td>San Jose</td>\n",
              "      <td>RIZAL</td>\n",
              "      <td>2.0</td>\n",
              "      <td>FEMALE</td>\n",
              "      <td>1987-12-17</td>\n",
              "      <td>Manpower Services ( Contractuals, Agency, Hous...</td>\n",
              "      <td>0.0</td>\n",
              "      <td>Single</td>\n",
              "      <td>1.0</td>\n",
              "    </tr>\n",
              "    <tr>\n",
              "      <th>463789</th>\n",
              "      <td>217010000009697528533</td>\n",
              "      <td>99860462</td>\n",
              "      <td>9179156357</td>\n",
              "      <td>train</td>\n",
              "      <td>0</td>\n",
              "      <td>0.370284</td>\n",
              "      <td>488</td>\n",
              "      <td>20210602</td>\n",
              "      <td>20210523</td>\n",
              "      <td>2021-06-17 00:00:00</td>\n",
              "      <td>...</td>\n",
              "      <td>NaN</td>\n",
              "      <td>Barangay 521</td>\n",
              "      <td>METRO MANILA</td>\n",
              "      <td>2.0</td>\n",
              "      <td>FEMALE</td>\n",
              "      <td>1994-09-11</td>\n",
              "      <td>Healthcare and Medical Services</td>\n",
              "      <td>0.0</td>\n",
              "      <td>Single</td>\n",
              "      <td>1.0</td>\n",
              "    </tr>\n",
              "    <tr>\n",
              "      <th>463790</th>\n",
              "      <td>217010000005443611984</td>\n",
              "      <td>99872204</td>\n",
              "      <td>9273279221</td>\n",
              "      <td>train</td>\n",
              "      <td>0</td>\n",
              "      <td>0.414541</td>\n",
              "      <td>475</td>\n",
              "      <td>20210126</td>\n",
              "      <td>20210117</td>\n",
              "      <td>2021-02-10 00:00:00</td>\n",
              "      <td>...</td>\n",
              "      <td>NaN</td>\n",
              "      <td>Pasong Camachile I</td>\n",
              "      <td>CAVITE</td>\n",
              "      <td>2.0</td>\n",
              "      <td>FEMALE</td>\n",
              "      <td>1990-10-13</td>\n",
              "      <td>Wholesale and Retail</td>\n",
              "      <td>0.0</td>\n",
              "      <td>Married</td>\n",
              "      <td>1.0</td>\n",
              "    </tr>\n",
              "    <tr>\n",
              "      <th>463791</th>\n",
              "      <td>217010000032772184281</td>\n",
              "      <td>99885851</td>\n",
              "      <td>9177070712</td>\n",
              "      <td>train</td>\n",
              "      <td>0</td>\n",
              "      <td>0.140356</td>\n",
              "      <td>581</td>\n",
              "      <td>20210128</td>\n",
              "      <td>20210117</td>\n",
              "      <td>2021-02-12 00:00:00</td>\n",
              "      <td>...</td>\n",
              "      <td>NaN</td>\n",
              "      <td>CEBU</td>\n",
              "      <td>LILOAN CEBU</td>\n",
              "      <td>0.0</td>\n",
              "      <td>NaN</td>\n",
              "      <td>1990-12-02</td>\n",
              "      <td>FOOD AND RETAIL</td>\n",
              "      <td>0.0</td>\n",
              "      <td>NaN</td>\n",
              "      <td>1.0</td>\n",
              "    </tr>\n",
              "    <tr>\n",
              "      <th>463792</th>\n",
              "      <td>217010000018626442112</td>\n",
              "      <td>99918280</td>\n",
              "      <td>9164652483</td>\n",
              "      <td>val</td>\n",
              "      <td>0</td>\n",
              "      <td>0.288285</td>\n",
              "      <td>515</td>\n",
              "      <td>20210826</td>\n",
              "      <td>20210815</td>\n",
              "      <td>2021-09-10 00:00:00</td>\n",
              "      <td>...</td>\n",
              "      <td>NaN</td>\n",
              "      <td>BUENAVISTA</td>\n",
              "      <td>GENERAL TRIAS CAVITE</td>\n",
              "      <td>0.0</td>\n",
              "      <td>NaN</td>\n",
              "      <td>1975-11-18</td>\n",
              "      <td>ONLINE SELLING</td>\n",
              "      <td>0.0</td>\n",
              "      <td>NaN</td>\n",
              "      <td>1.0</td>\n",
              "    </tr>\n",
              "  </tbody>\n",
              "</table>\n",
              "<p>463793 rows × 64 columns</p>\n",
              "</div>\n",
              "    <div class=\"colab-df-buttons\">\n",
              "\n",
              "  <div class=\"colab-df-container\">\n",
              "    <button class=\"colab-df-convert\" onclick=\"convertToInteractive('df-39a03678-024e-4939-9670-cdc0578ccce4')\"\n",
              "            title=\"Convert this dataframe to an interactive table.\"\n",
              "            style=\"display:none;\">\n",
              "\n",
              "  <svg xmlns=\"http://www.w3.org/2000/svg\" height=\"24px\" viewBox=\"0 -960 960 960\">\n",
              "    <path d=\"M120-120v-720h720v720H120Zm60-500h600v-160H180v160Zm220 220h160v-160H400v160Zm0 220h160v-160H400v160ZM180-400h160v-160H180v160Zm440 0h160v-160H620v160ZM180-180h160v-160H180v160Zm440 0h160v-160H620v160Z\"/>\n",
              "  </svg>\n",
              "    </button>\n",
              "\n",
              "  <style>\n",
              "    .colab-df-container {\n",
              "      display:flex;\n",
              "      gap: 12px;\n",
              "    }\n",
              "\n",
              "    .colab-df-convert {\n",
              "      background-color: #E8F0FE;\n",
              "      border: none;\n",
              "      border-radius: 50%;\n",
              "      cursor: pointer;\n",
              "      display: none;\n",
              "      fill: #1967D2;\n",
              "      height: 32px;\n",
              "      padding: 0 0 0 0;\n",
              "      width: 32px;\n",
              "    }\n",
              "\n",
              "    .colab-df-convert:hover {\n",
              "      background-color: #E2EBFA;\n",
              "      box-shadow: 0px 1px 2px rgba(60, 64, 67, 0.3), 0px 1px 3px 1px rgba(60, 64, 67, 0.15);\n",
              "      fill: #174EA6;\n",
              "    }\n",
              "\n",
              "    .colab-df-buttons div {\n",
              "      margin-bottom: 4px;\n",
              "    }\n",
              "\n",
              "    [theme=dark] .colab-df-convert {\n",
              "      background-color: #3B4455;\n",
              "      fill: #D2E3FC;\n",
              "    }\n",
              "\n",
              "    [theme=dark] .colab-df-convert:hover {\n",
              "      background-color: #434B5C;\n",
              "      box-shadow: 0px 1px 3px 1px rgba(0, 0, 0, 0.15);\n",
              "      filter: drop-shadow(0px 1px 2px rgba(0, 0, 0, 0.3));\n",
              "      fill: #FFFFFF;\n",
              "    }\n",
              "  </style>\n",
              "\n",
              "    <script>\n",
              "      const buttonEl =\n",
              "        document.querySelector('#df-39a03678-024e-4939-9670-cdc0578ccce4 button.colab-df-convert');\n",
              "      buttonEl.style.display =\n",
              "        google.colab.kernel.accessAllowed ? 'block' : 'none';\n",
              "\n",
              "      async function convertToInteractive(key) {\n",
              "        const element = document.querySelector('#df-39a03678-024e-4939-9670-cdc0578ccce4');\n",
              "        const dataTable =\n",
              "          await google.colab.kernel.invokeFunction('convertToInteractive',\n",
              "                                                    [key], {});\n",
              "        if (!dataTable) return;\n",
              "\n",
              "        const docLinkHtml = 'Like what you see? Visit the ' +\n",
              "          '<a target=\"_blank\" href=https://colab.research.google.com/notebooks/data_table.ipynb>data table notebook</a>'\n",
              "          + ' to learn more about interactive tables.';\n",
              "        element.innerHTML = '';\n",
              "        dataTable['output_type'] = 'display_data';\n",
              "        await google.colab.output.renderOutput(dataTable, element);\n",
              "        const docLink = document.createElement('div');\n",
              "        docLink.innerHTML = docLinkHtml;\n",
              "        element.appendChild(docLink);\n",
              "      }\n",
              "    </script>\n",
              "  </div>\n",
              "\n",
              "\n",
              "<div id=\"df-72ac17c2-7748-42d5-bdd6-02c7b9ebb30f\">\n",
              "  <button class=\"colab-df-quickchart\" onclick=\"quickchart('df-72ac17c2-7748-42d5-bdd6-02c7b9ebb30f')\"\n",
              "            title=\"Suggest charts.\"\n",
              "            style=\"display:none;\">\n",
              "\n",
              "<svg xmlns=\"http://www.w3.org/2000/svg\" height=\"24px\"viewBox=\"0 0 24 24\"\n",
              "     width=\"24px\">\n",
              "    <g>\n",
              "        <path d=\"M19 3H5c-1.1 0-2 .9-2 2v14c0 1.1.9 2 2 2h14c1.1 0 2-.9 2-2V5c0-1.1-.9-2-2-2zM9 17H7v-7h2v7zm4 0h-2V7h2v10zm4 0h-2v-4h2v4z\"/>\n",
              "    </g>\n",
              "</svg>\n",
              "  </button>\n",
              "\n",
              "<style>\n",
              "  .colab-df-quickchart {\n",
              "      --bg-color: #E8F0FE;\n",
              "      --fill-color: #1967D2;\n",
              "      --hover-bg-color: #E2EBFA;\n",
              "      --hover-fill-color: #174EA6;\n",
              "      --disabled-fill-color: #AAA;\n",
              "      --disabled-bg-color: #DDD;\n",
              "  }\n",
              "\n",
              "  [theme=dark] .colab-df-quickchart {\n",
              "      --bg-color: #3B4455;\n",
              "      --fill-color: #D2E3FC;\n",
              "      --hover-bg-color: #434B5C;\n",
              "      --hover-fill-color: #FFFFFF;\n",
              "      --disabled-bg-color: #3B4455;\n",
              "      --disabled-fill-color: #666;\n",
              "  }\n",
              "\n",
              "  .colab-df-quickchart {\n",
              "    background-color: var(--bg-color);\n",
              "    border: none;\n",
              "    border-radius: 50%;\n",
              "    cursor: pointer;\n",
              "    display: none;\n",
              "    fill: var(--fill-color);\n",
              "    height: 32px;\n",
              "    padding: 0;\n",
              "    width: 32px;\n",
              "  }\n",
              "\n",
              "  .colab-df-quickchart:hover {\n",
              "    background-color: var(--hover-bg-color);\n",
              "    box-shadow: 0 1px 2px rgba(60, 64, 67, 0.3), 0 1px 3px 1px rgba(60, 64, 67, 0.15);\n",
              "    fill: var(--button-hover-fill-color);\n",
              "  }\n",
              "\n",
              "  .colab-df-quickchart-complete:disabled,\n",
              "  .colab-df-quickchart-complete:disabled:hover {\n",
              "    background-color: var(--disabled-bg-color);\n",
              "    fill: var(--disabled-fill-color);\n",
              "    box-shadow: none;\n",
              "  }\n",
              "\n",
              "  .colab-df-spinner {\n",
              "    border: 2px solid var(--fill-color);\n",
              "    border-color: transparent;\n",
              "    border-bottom-color: var(--fill-color);\n",
              "    animation:\n",
              "      spin 1s steps(1) infinite;\n",
              "  }\n",
              "\n",
              "  @keyframes spin {\n",
              "    0% {\n",
              "      border-color: transparent;\n",
              "      border-bottom-color: var(--fill-color);\n",
              "      border-left-color: var(--fill-color);\n",
              "    }\n",
              "    20% {\n",
              "      border-color: transparent;\n",
              "      border-left-color: var(--fill-color);\n",
              "      border-top-color: var(--fill-color);\n",
              "    }\n",
              "    30% {\n",
              "      border-color: transparent;\n",
              "      border-left-color: var(--fill-color);\n",
              "      border-top-color: var(--fill-color);\n",
              "      border-right-color: var(--fill-color);\n",
              "    }\n",
              "    40% {\n",
              "      border-color: transparent;\n",
              "      border-right-color: var(--fill-color);\n",
              "      border-top-color: var(--fill-color);\n",
              "    }\n",
              "    60% {\n",
              "      border-color: transparent;\n",
              "      border-right-color: var(--fill-color);\n",
              "    }\n",
              "    80% {\n",
              "      border-color: transparent;\n",
              "      border-right-color: var(--fill-color);\n",
              "      border-bottom-color: var(--fill-color);\n",
              "    }\n",
              "    90% {\n",
              "      border-color: transparent;\n",
              "      border-bottom-color: var(--fill-color);\n",
              "    }\n",
              "  }\n",
              "</style>\n",
              "\n",
              "  <script>\n",
              "    async function quickchart(key) {\n",
              "      const quickchartButtonEl =\n",
              "        document.querySelector('#' + key + ' button');\n",
              "      quickchartButtonEl.disabled = true;  // To prevent multiple clicks.\n",
              "      quickchartButtonEl.classList.add('colab-df-spinner');\n",
              "      try {\n",
              "        const charts = await google.colab.kernel.invokeFunction(\n",
              "            'suggestCharts', [key], {});\n",
              "      } catch (error) {\n",
              "        console.error('Error during call to suggestCharts:', error);\n",
              "      }\n",
              "      quickchartButtonEl.classList.remove('colab-df-spinner');\n",
              "      quickchartButtonEl.classList.add('colab-df-quickchart-complete');\n",
              "    }\n",
              "    (() => {\n",
              "      let quickchartButtonEl =\n",
              "        document.querySelector('#df-72ac17c2-7748-42d5-bdd6-02c7b9ebb30f button');\n",
              "      quickchartButtonEl.style.display =\n",
              "        google.colab.kernel.accessAllowed ? 'block' : 'none';\n",
              "    })();\n",
              "  </script>\n",
              "</div>\n",
              "    </div>\n",
              "  </div>\n"
            ]
          },
          "metadata": {},
          "execution_count": 6
        }
      ]
    },
    {
      "cell_type": "code",
      "source": [
        "df.consent.value_counts()"
      ],
      "metadata": {
        "colab": {
          "base_uri": "https://localhost:8080/"
        },
        "id": "VBTUzc1P4Ztb",
        "outputId": "e12944c1-61be-4217-b414-22a09b51edf8"
      },
      "execution_count": null,
      "outputs": [
        {
          "output_type": "execute_result",
          "data": {
            "text/plain": [
              "0.0    457917\n",
              "1.0      5245\n",
              "Name: consent, dtype: int64"
            ]
          },
          "metadata": {},
          "execution_count": 37
        }
      ]
    },
    {
      "cell_type": "markdown",
      "source": [
        "## Data Cleaning\n"
      ],
      "metadata": {
        "id": "1OtYoREvtZ_T"
      }
    },
    {
      "cell_type": "markdown",
      "source": [
        "### Null Investigation\n",
        "\n",
        "Notes/ Findings:\n",
        "- 630 rows from AScore Table failed to match with KYC Table. **ACTION**: Drop Rows\n",
        "- Gender column contains ['FEMALE', 'MALE', '0']. Replaced '0 (Count: 16,356) with np.nan. 287,442 rows (61.98%) do not have gender information\n",
        "- 302177 rows (65%) do not have marital status information\n"
      ],
      "metadata": {
        "id": "3kZoYEePuTwC"
      }
    },
    {
      "cell_type": "markdown",
      "source": [
        "#### Gender Cleanup"
      ],
      "metadata": {
        "id": "kgaE_hX7vpy9"
      }
    },
    {
      "cell_type": "code",
      "source": [
        "# Cleaning Gender Columns\n",
        "rows = df.shape[0]\n",
        "df.gender = df.gender.replace('0', np.nan)\n",
        "df.gender_id = df.gender_id.fillna(0.0)"
      ],
      "metadata": {
        "id": "ttIm59ZTwLAR"
      },
      "execution_count": null,
      "outputs": []
    },
    {
      "cell_type": "code",
      "source": [
        "(df.loc[:, ['gender_id', 'gender', 'gcashwallet']]\n",
        "   .groupby(['gender_id','gender'])\n",
        "   .agg(Count=('gcashwallet', 'count'))\n",
        "   .assign(Count_percent=lambda x: 100*x.Count/ x.Count.sum()))"
      ],
      "metadata": {
        "id": "rYhzAMRFv5aB",
        "colab": {
          "base_uri": "https://localhost:8080/",
          "height": 143
        },
        "outputId": "a0d60bf3-1643-42c3-c40d-3976d2a5d5d6"
      },
      "execution_count": null,
      "outputs": [
        {
          "output_type": "execute_result",
          "data": {
            "text/plain": [
              "                   Count  Count_percent\n",
              "gender_id gender                       \n",
              "1.0       MALE     59545      33.765048\n",
              "2.0       FEMALE  116806      66.234952"
            ],
            "text/html": [
              "\n",
              "\n",
              "  <div id=\"df-1417cff1-aadb-43e0-8aae-9f18772dad01\">\n",
              "    <div class=\"colab-df-container\">\n",
              "      <div>\n",
              "<style scoped>\n",
              "    .dataframe tbody tr th:only-of-type {\n",
              "        vertical-align: middle;\n",
              "    }\n",
              "\n",
              "    .dataframe tbody tr th {\n",
              "        vertical-align: top;\n",
              "    }\n",
              "\n",
              "    .dataframe thead th {\n",
              "        text-align: right;\n",
              "    }\n",
              "</style>\n",
              "<table border=\"1\" class=\"dataframe\">\n",
              "  <thead>\n",
              "    <tr style=\"text-align: right;\">\n",
              "      <th></th>\n",
              "      <th></th>\n",
              "      <th>Count</th>\n",
              "      <th>Count_percent</th>\n",
              "    </tr>\n",
              "    <tr>\n",
              "      <th>gender_id</th>\n",
              "      <th>gender</th>\n",
              "      <th></th>\n",
              "      <th></th>\n",
              "    </tr>\n",
              "  </thead>\n",
              "  <tbody>\n",
              "    <tr>\n",
              "      <th>1.0</th>\n",
              "      <th>MALE</th>\n",
              "      <td>59545</td>\n",
              "      <td>33.765048</td>\n",
              "    </tr>\n",
              "    <tr>\n",
              "      <th>2.0</th>\n",
              "      <th>FEMALE</th>\n",
              "      <td>116806</td>\n",
              "      <td>66.234952</td>\n",
              "    </tr>\n",
              "  </tbody>\n",
              "</table>\n",
              "</div>\n",
              "      <button class=\"colab-df-convert\" onclick=\"convertToInteractive('df-1417cff1-aadb-43e0-8aae-9f18772dad01')\"\n",
              "              title=\"Convert this dataframe to an interactive table.\"\n",
              "              style=\"display:none;\">\n",
              "\n",
              "  <svg xmlns=\"http://www.w3.org/2000/svg\" height=\"24px\"viewBox=\"0 0 24 24\"\n",
              "       width=\"24px\">\n",
              "    <path d=\"M0 0h24v24H0V0z\" fill=\"none\"/>\n",
              "    <path d=\"M18.56 5.44l.94 2.06.94-2.06 2.06-.94-2.06-.94-.94-2.06-.94 2.06-2.06.94zm-11 1L8.5 8.5l.94-2.06 2.06-.94-2.06-.94L8.5 2.5l-.94 2.06-2.06.94zm10 10l.94 2.06.94-2.06 2.06-.94-2.06-.94-.94-2.06-.94 2.06-2.06.94z\"/><path d=\"M17.41 7.96l-1.37-1.37c-.4-.4-.92-.59-1.43-.59-.52 0-1.04.2-1.43.59L10.3 9.45l-7.72 7.72c-.78.78-.78 2.05 0 2.83L4 21.41c.39.39.9.59 1.41.59.51 0 1.02-.2 1.41-.59l7.78-7.78 2.81-2.81c.8-.78.8-2.07 0-2.86zM5.41 20L4 18.59l7.72-7.72 1.47 1.35L5.41 20z\"/>\n",
              "  </svg>\n",
              "      </button>\n",
              "\n",
              "\n",
              "\n",
              "    <div id=\"df-41079061-cc6a-4fe1-ab5a-c9164d7d193e\">\n",
              "      <button class=\"colab-df-quickchart\" onclick=\"quickchart('df-41079061-cc6a-4fe1-ab5a-c9164d7d193e')\"\n",
              "              title=\"Suggest charts.\"\n",
              "              style=\"display:none;\">\n",
              "\n",
              "<svg xmlns=\"http://www.w3.org/2000/svg\" height=\"24px\"viewBox=\"0 0 24 24\"\n",
              "     width=\"24px\">\n",
              "    <g>\n",
              "        <path d=\"M19 3H5c-1.1 0-2 .9-2 2v14c0 1.1.9 2 2 2h14c1.1 0 2-.9 2-2V5c0-1.1-.9-2-2-2zM9 17H7v-7h2v7zm4 0h-2V7h2v10zm4 0h-2v-4h2v4z\"/>\n",
              "    </g>\n",
              "</svg>\n",
              "      </button>\n",
              "    </div>\n",
              "\n",
              "<style>\n",
              "  .colab-df-quickchart {\n",
              "    background-color: #E8F0FE;\n",
              "    border: none;\n",
              "    border-radius: 50%;\n",
              "    cursor: pointer;\n",
              "    display: none;\n",
              "    fill: #1967D2;\n",
              "    height: 32px;\n",
              "    padding: 0 0 0 0;\n",
              "    width: 32px;\n",
              "  }\n",
              "\n",
              "  .colab-df-quickchart:hover {\n",
              "    background-color: #E2EBFA;\n",
              "    box-shadow: 0px 1px 2px rgba(60, 64, 67, 0.3), 0px 1px 3px 1px rgba(60, 64, 67, 0.15);\n",
              "    fill: #174EA6;\n",
              "  }\n",
              "\n",
              "  [theme=dark] .colab-df-quickchart {\n",
              "    background-color: #3B4455;\n",
              "    fill: #D2E3FC;\n",
              "  }\n",
              "\n",
              "  [theme=dark] .colab-df-quickchart:hover {\n",
              "    background-color: #434B5C;\n",
              "    box-shadow: 0px 1px 3px 1px rgba(0, 0, 0, 0.15);\n",
              "    filter: drop-shadow(0px 1px 2px rgba(0, 0, 0, 0.3));\n",
              "    fill: #FFFFFF;\n",
              "  }\n",
              "</style>\n",
              "\n",
              "    <script>\n",
              "      async function quickchart(key) {\n",
              "        const containerElement = document.querySelector('#' + key);\n",
              "        const charts = await google.colab.kernel.invokeFunction(\n",
              "            'suggestCharts', [key], {});\n",
              "      }\n",
              "    </script>\n",
              "\n",
              "      <script>\n",
              "\n",
              "function displayQuickchartButton(domScope) {\n",
              "  let quickchartButtonEl =\n",
              "    domScope.querySelector('#df-41079061-cc6a-4fe1-ab5a-c9164d7d193e button.colab-df-quickchart');\n",
              "  quickchartButtonEl.style.display =\n",
              "    google.colab.kernel.accessAllowed ? 'block' : 'none';\n",
              "}\n",
              "\n",
              "        displayQuickchartButton(document);\n",
              "      </script>\n",
              "      <style>\n",
              "    .colab-df-container {\n",
              "      display:flex;\n",
              "      flex-wrap:wrap;\n",
              "      gap: 12px;\n",
              "    }\n",
              "\n",
              "    .colab-df-convert {\n",
              "      background-color: #E8F0FE;\n",
              "      border: none;\n",
              "      border-radius: 50%;\n",
              "      cursor: pointer;\n",
              "      display: none;\n",
              "      fill: #1967D2;\n",
              "      height: 32px;\n",
              "      padding: 0 0 0 0;\n",
              "      width: 32px;\n",
              "    }\n",
              "\n",
              "    .colab-df-convert:hover {\n",
              "      background-color: #E2EBFA;\n",
              "      box-shadow: 0px 1px 2px rgba(60, 64, 67, 0.3), 0px 1px 3px 1px rgba(60, 64, 67, 0.15);\n",
              "      fill: #174EA6;\n",
              "    }\n",
              "\n",
              "    [theme=dark] .colab-df-convert {\n",
              "      background-color: #3B4455;\n",
              "      fill: #D2E3FC;\n",
              "    }\n",
              "\n",
              "    [theme=dark] .colab-df-convert:hover {\n",
              "      background-color: #434B5C;\n",
              "      box-shadow: 0px 1px 3px 1px rgba(0, 0, 0, 0.15);\n",
              "      filter: drop-shadow(0px 1px 2px rgba(0, 0, 0, 0.3));\n",
              "      fill: #FFFFFF;\n",
              "    }\n",
              "  </style>\n",
              "\n",
              "      <script>\n",
              "        const buttonEl =\n",
              "          document.querySelector('#df-1417cff1-aadb-43e0-8aae-9f18772dad01 button.colab-df-convert');\n",
              "        buttonEl.style.display =\n",
              "          google.colab.kernel.accessAllowed ? 'block' : 'none';\n",
              "\n",
              "        async function convertToInteractive(key) {\n",
              "          const element = document.querySelector('#df-1417cff1-aadb-43e0-8aae-9f18772dad01');\n",
              "          const dataTable =\n",
              "            await google.colab.kernel.invokeFunction('convertToInteractive',\n",
              "                                                     [key], {});\n",
              "          if (!dataTable) return;\n",
              "\n",
              "          const docLinkHtml = 'Like what you see? Visit the ' +\n",
              "            '<a target=\"_blank\" href=https://colab.research.google.com/notebooks/data_table.ipynb>data table notebook</a>'\n",
              "            + ' to learn more about interactive tables.';\n",
              "          element.innerHTML = '';\n",
              "          dataTable['output_type'] = 'display_data';\n",
              "          await google.colab.output.renderOutput(dataTable, element);\n",
              "          const docLink = document.createElement('div');\n",
              "          docLink.innerHTML = docLinkHtml;\n",
              "          element.appendChild(docLink);\n",
              "        }\n",
              "      </script>\n",
              "    </div>\n",
              "  </div>\n"
            ]
          },
          "metadata": {},
          "execution_count": 5
        }
      ]
    },
    {
      "cell_type": "markdown",
      "source": [
        "#### Marital Status Cleanup\n",
        "- Merge \"Single\", \"SINGLE\", \"S\", \"SINGE\", \"UM\" (Unmarried),\n",
        "- Merge \"Married\", \"MARIED\", \"M\"\n",
        "- Retain and Merge \"Separated\", \"SEPARATED\"\n",
        "- Retain and Merge \"Widowed\" and \"WIDOWED\"\n",
        "- Others will be converted to null\n",
        "- Create a new column containing \"Never married\" and \"Married\". Married combines Separated, Married, Widowed\n"
      ],
      "metadata": {
        "id": "Y1F_NXdm5Tzz"
      }
    },
    {
      "cell_type": "code",
      "source": [
        "df.marital_status.value_counts()"
      ],
      "metadata": {
        "colab": {
          "base_uri": "https://localhost:8080/"
        },
        "id": "9x3_aiYGyUTu",
        "outputId": "2a44f40d-dec2-4fc4-c1ee-719851db46e2"
      },
      "execution_count": null,
      "outputs": [
        {
          "output_type": "execute_result",
          "data": {
            "text/plain": [
              "Single            86439\n",
              "Married           54062\n",
              "MARITAL STATUS     9152\n",
              "SINGLE             5267\n",
              "MARRIED            2161\n",
              "Separated          1900\n",
              "Widowed            1445\n",
              "S                   350\n",
              "M                   100\n",
              "SEPARATED            55\n",
              "WIDOWED              35\n",
              "FILIPINO              7\n",
              "SINGE                 4\n",
              "1986-08-29            1\n",
              "UM                    1\n",
              "1996-01-30            1\n",
              "1987-04-02            1\n",
              "1991-10-31            1\n",
              "1988-05-03            1\n",
              "09164210785           1\n",
              "1997-06-12            1\n",
              "1990-03-03            1\n",
              "Name: marital_status, dtype: int64"
            ]
          },
          "metadata": {},
          "execution_count": 6
        }
      ]
    },
    {
      "cell_type": "code",
      "source": [
        "MARITAL_STATUS_MAPPING = {\n",
        "    'SINGLE': 'SINGLE',\n",
        "    'SINGE': 'SINGLE',\n",
        "    'S' : 'SINGLE',\n",
        "    'UM': 'SINGLE',\n",
        "    'SEPARATED': 'SEPARATED',\n",
        "    'WIDOWED': 'WIDOWED',\n",
        "    'MARRIED': 'MARRIED',\n",
        "    'M' : 'MARRIED',\n",
        "    }\n",
        "\n",
        "df.marital_status = df.marital_status.str.upper().map(MARITAL_STATUS_MAPPING)\n",
        "df['marital_status__never_married'] = df.marital_status.map({'SINGLE':1,\n",
        "                                                             'MARRIED': 0,\n",
        "                                                             'SEPARATED':0,\n",
        "                                                             'WIDOWED':0})"
      ],
      "metadata": {
        "id": "6lFo-iu3xyiF"
      },
      "execution_count": null,
      "outputs": []
    },
    {
      "cell_type": "markdown",
      "source": [
        "#### Age Cleanup\n",
        "\n",
        "- Convert birth date to date time format and compute the age as of 2023\n",
        "- Bin ages as follows: '< 18', '18-24' '25-34', '35-44', '45-54', '55-64',  '65 and older'"
      ],
      "metadata": {
        "id": "OisZugCQlOhu"
      }
    },
    {
      "cell_type": "code",
      "source": [
        "# Date format yyyy-mm-dd\n",
        "\n",
        "df.birth_date = pd.to_datetime(df.birth_date)\n",
        "df['age__2023'] = 2023 - df.birth_date.dt.year\n",
        "df['age__2023__ranges'] = pd.cut(x=df.age__2023,\n",
        "                                  bins=[0, 17, 24, 34, 44, 54, 64, 100],\n",
        "                                  labels=['< 18', '18-24', '25-34',\n",
        "                                          '35-44', '45-54',\n",
        "                                          '55-64',  '65 and older'])"
      ],
      "metadata": {
        "id": "KPAQGbz-uXFv"
      },
      "execution_count": null,
      "outputs": []
    },
    {
      "cell_type": "code",
      "source": [
        "df.age__2023__ranges.value_counts()"
      ],
      "metadata": {
        "colab": {
          "base_uri": "https://localhost:8080/"
        },
        "id": "MbnNTR1SjjKJ",
        "outputId": "8e50c3d9-32ee-48e9-9edc-652ed413cc54"
      },
      "execution_count": null,
      "outputs": [
        {
          "output_type": "execute_result",
          "data": {
            "text/plain": [
              "25-34           213778\n",
              "35-44           160666\n",
              "45-54            61000\n",
              "55-64            14790\n",
              "18-24            11839\n",
              "65 and older      1088\n",
              "< 18                 0\n",
              "Name: age__2023__ranges, dtype: int64"
            ]
          },
          "metadata": {},
          "execution_count": 9
        }
      ]
    },
    {
      "cell_type": "markdown",
      "source": [
        "### Prepare Dataset for Export to Data Robot\n",
        "- Add dataset split tags\n",
        "- Drop kyc nulls"
      ],
      "metadata": {
        "id": "21EGFUGRlcMC"
      }
    },
    {
      "cell_type": "code",
      "source": [
        "df['dataset_split__dr'] = df.dataset_split.map({'train': 't', 'val':'v', 'test':'h'})"
      ],
      "metadata": {
        "id": "NS6m9ezEDU5a"
      },
      "execution_count": null,
      "outputs": []
    },
    {
      "cell_type": "code",
      "source": [
        "dff = df.dropna(subset=['agent_id_kyc', 'gcashwallet_kyc'])"
      ],
      "metadata": {
        "id": "mBp7KPAfEq4T"
      },
      "execution_count": null,
      "outputs": []
    },
    {
      "cell_type": "code",
      "source": [
        "# dff.to_csv('/content/drive/MyDrive/data/ascore-with-sensitive-feats.csv', index=False)"
      ],
      "metadata": {
        "id": "jn_dRdcK3Ixr"
      },
      "execution_count": null,
      "outputs": []
    },
    {
      "cell_type": "code",
      "source": [
        "# dff.sample(100).to_csv('/content/drive/MyDrive/data/ascore-with-sensitive-feats-sample.csv', index=False)"
      ],
      "metadata": {
        "id": "o2MPK84LOmsV"
      },
      "execution_count": null,
      "outputs": []
    },
    {
      "cell_type": "markdown",
      "source": [
        "## (Start) Quick Exploration of Sensitive Feature Distribution\n",
        "\n",
        "Defining additional columns that reflect thresholds for various loan products\n",
        "- GCredit Threshold: 1 if Prediction <=0.30, 0 otherwise\n",
        "- GLoan Threshold: 1 if Prediction <=0.60, 0 otherwise\n",
        "- Normal Threshold: 1 if Prediction <= 0.50, 0 otherwise\n",
        "\n",
        "1 means that the user is qualified and will be offered the product i.e. the user is a good customer such that Bad30 ~= 0\n",
        "\n",
        "Defining \"good30\" which is the inverse of \"bad30\" to align with the defined threshold results i.e. good30==1 means a good customer\n"
      ],
      "metadata": {
        "id": "Dbesx7nfGdb7"
      }
    },
    {
      "cell_type": "code",
      "source": [
        "df = pd.read_csv('/content/drive/MyDrive/data/ascore-with-sensitive-feats-and-income-class.csv')\n",
        "\n",
        "# defining a subset of df to be used for data exploration and fairness testing\n",
        "# zf = df.copy()\n",
        "\n",
        "# zf['above_gcredit'] = (zf.prediction<=0.30).map(int)\n",
        "# zf['above_gloan'] =  (zf.prediction<=0.60).map(int)\n",
        "# zf['above_normal'] = (zf.prediction<=0.50).map(int)\n",
        "# zf['good30'] = zf.bad30.map({0:1, 1:0})"
      ],
      "metadata": {
        "id": "7Zlv4bVaB5_W",
        "colab": {
          "base_uri": "https://localhost:8080/"
        },
        "outputId": "d0abb10f-88cb-4fbd-ec97-3a3ece9a3885"
      },
      "execution_count": null,
      "outputs": [
        {
          "output_type": "stream",
          "name": "stderr",
          "text": [
            "<ipython-input-7-d2ca76b6596a>:1: DtypeWarning: Columns (74) have mixed types. Specify dtype option on import or set low_memory=False.\n",
            "  df = pd.read_csv('/content/drive/MyDrive/data/ascore-with-sensitive-feats-and-income-class.csv')\n"
          ]
        }
      ]
    },
    {
      "cell_type": "code",
      "source": [
        "df.columns"
      ],
      "metadata": {
        "colab": {
          "base_uri": "https://localhost:8080/"
        },
        "id": "Y9WVhGMGtJq9",
        "outputId": "066692be-bceb-497d-d4f4-fda3b99effdc"
      },
      "execution_count": null,
      "outputs": [
        {
          "output_type": "execute_result",
          "data": {
            "text/plain": [
              "Index(['ip_role_id', 'agent_id', 'gcashwallet', 'dataset_split', 'bad30',\n",
              "       'prediction', 'score', 'billing_date', 'sunday_billing_date',\n",
              "       'due_date', 'repayment_date', 'balance_cv_balance_90',\n",
              "       'balance_sma_balance_90', 'balance_tot_cv_balance_180d',\n",
              "       'balance_tot_sma_balance_90d', 'billpay_avg_monthly_pay_cnt',\n",
              "       'billpay_cc_sma_amt', 'billpay_consistency', 'billpay_govt_sma_amt',\n",
              "       'billpay_homecredit_amt_60d', 'billpay_loans_amt_pct',\n",
              "       'billpay_months_active', 'billpay_pay_date_stddev',\n",
              "       'fs_ginsure_trans_amt_90d', 'fs_ginsure_trans_cnt_std',\n",
              "       'fs_ginvest_m_avg_bal_std', 'fs_gsave_deposit_cnt_90d',\n",
              "       'fs_gsave_m_avg_growth_rate', 'kyc_crp_cnt', 'kyc_crp_gcredit_pct',\n",
              "       'kyc_source_of_funds_bank', 'transactions_buyload_trans_med_90d',\n",
              "       'transactions_days_from_first_login',\n",
              "       'transactions_fundin_trans_date_delta_med_180d',\n",
              "       'transactions_fundout_failed_trans_cnt_60d',\n",
              "       'transactions_fundout_trans_amt_avg_60d',\n",
              "       'transactions_fundout_trans_date_delta_med_180d',\n",
              "       'transactions_offline_cashin_avg_use_case_amt_pct',\n",
              "       'transactions_offline_cashin_trans_med_90d',\n",
              "       'transactions_online_cashin_avg_inflow_amt_pct',\n",
              "       'transactions_online_spending_avg_outflow_amt_pct',\n",
              "       'transactions_online_spending_sma_use_case_amt', 'transactions_recency',\n",
              "       'transactions_scan2pay_convenience_med_amt_180d',\n",
              "       'transactions_scan2pay_trans_med_90d',\n",
              "       'transactions_sendmoney_avg_use_case_amt_pct',\n",
              "       'transactions_sendmoney_rcv_avg_inflow_amt_pct',\n",
              "       'transactions_utilities_avg_outflow_amt_pct',\n",
              "       'transactions_utilities_cv_use_case_amt',\n",
              "       'transactions_webpay_ecommerce_med_amt_180d',\n",
              "       'transactions_webpay_trans_med_90d', 'agent_id_kyc', 'gcashwallet_kyc',\n",
              "       'pa_town', 'pa_province', 'ca_town', 'ca_province', 'gender_id',\n",
              "       'gender', 'birth_date', 'nature_of_work', 'consent', 'marital_status',\n",
              "       'email_address_verified', 'marital_status__never_married', 'age__2023',\n",
              "       'age__2023__ranges', 'dataset_split__dr', 'above_gcredit',\n",
              "       'above_gloan', 'above_normal', 'good30', 'bank_segment', 'area_class',\n",
              "       'urban_household_income', 'SEC', 'lifestage', 'province', 'region',\n",
              "       'tenure_nps', 'macroregion'],\n",
              "      dtype='object')"
            ]
          },
          "metadata": {},
          "execution_count": 8
        }
      ]
    },
    {
      "cell_type": "code",
      "source": [
        "y_true_col = 'good30'\n",
        "y_pred_col = 'above_normal'\n",
        "y_prob_col = 'prediction'\n",
        "sensitive_feature = ['gender']"
      ],
      "metadata": {
        "id": "DMKjEPbkb6kY"
      },
      "execution_count": null,
      "outputs": []
    },
    {
      "cell_type": "markdown",
      "source": [
        "### Quick Visualizations"
      ],
      "metadata": {
        "id": "jP5l0abICpKY"
      }
    },
    {
      "cell_type": "code",
      "source": [
        "sns.catplot(zf, x='score', y='SEC', hue='bad30', kind='box')"
      ],
      "metadata": {
        "colab": {
          "base_uri": "https://localhost:8080/",
          "height": 524
        },
        "id": "NaoW6CcAp3fx",
        "outputId": "a4dc665f-067a-44cd-b22a-2a6e155efb08"
      },
      "execution_count": null,
      "outputs": [
        {
          "output_type": "execute_result",
          "data": {
            "text/plain": [
              "<seaborn.axisgrid.FacetGrid at 0x78d38be2f7f0>"
            ]
          },
          "metadata": {},
          "execution_count": 6
        },
        {
          "output_type": "display_data",
          "data": {
            "text/plain": [
              "<Figure size 558.875x500 with 1 Axes>"
            ],
            "image/png": "[encoded data removed]"
          },
          "metadata": {}
        }
      ]
    },
    {
      "cell_type": "code",
      "source": [
        "sns.displot(zf, x='prediction', hue='bad30', kind='kde', col='gender')"
      ],
      "metadata": {
        "colab": {
          "base_uri": "https://localhost:8080/",
          "height": 525
        },
        "id": "2a_KhLWNne0r",
        "outputId": "ecb3d27c-473b-4689-bb81-d31ae65e4eca"
      },
      "execution_count": null,
      "outputs": [
        {
          "output_type": "execute_result",
          "data": {
            "text/plain": [
              "<seaborn.axisgrid.FacetGrid at 0x78d38b580b50>"
            ]
          },
          "metadata": {},
          "execution_count": 7
        },
        {
          "output_type": "display_data",
          "data": {
            "text/plain": [
              "<Figure size 1058.88x500 with 2 Axes>"
            ],
            "image/png": "[encoded data removed]"
          },
          "metadata": {}
        }
      ]
    },
    {
      "cell_type": "code",
      "source": [
        "sns.displot(zf, x='score', hue='bad30', col='gender', kind='kde')"
      ],
      "metadata": {
        "colab": {
          "base_uri": "https://localhost:8080/",
          "height": 525
        },
        "id": "B0Qdh072Lu4Z",
        "outputId": "69b35f94-1206-41ad-e3ca-4a98024858d3"
      },
      "execution_count": null,
      "outputs": [
        {
          "output_type": "execute_result",
          "data": {
            "text/plain": [
              "<seaborn.axisgrid.FacetGrid at 0x78d3106176d0>"
            ]
          },
          "metadata": {},
          "execution_count": 8
        },
        {
          "output_type": "display_data",
          "data": {
            "text/plain": [
              "<Figure size 1058.88x500 with 2 Axes>"
            ],
            "image/png": "[encoded data removed]"
          },
          "metadata": {}
        }
      ]
    },
    {
      "cell_type": "code",
      "source": [
        "sns.displot(zf, x='prediction', hue='bad30', col='marital_status', kind='kde')"
      ],
      "metadata": {
        "colab": {
          "base_uri": "https://localhost:8080/",
          "height": 435
        },
        "id": "RSVxWMuSMCmu",
        "outputId": "0c2357da-e91e-4946-e35b-d1e81d84064a"
      },
      "execution_count": null,
      "outputs": [
        {
          "output_type": "execute_result",
          "data": {
            "text/plain": [
              "<seaborn.axisgrid.FacetGrid at 0x78d30ccd7af0>"
            ]
          },
          "metadata": {},
          "execution_count": 9
        },
        {
          "output_type": "display_data",
          "data": {
            "text/plain": [
              "<Figure size 2058.88x500 with 4 Axes>"
            ],
            "image/png": "[encoded data removed]"
          },
          "metadata": {}
        }
      ]
    },
    {
      "cell_type": "code",
      "source": [
        "sns.displot(zf, x='prediction', hue='age__2023__ranges', kind='kde', col='bad30')"
      ],
      "metadata": {
        "colab": {
          "base_uri": "https://localhost:8080/",
          "height": 525
        },
        "id": "dXLP1K0ZMVL1",
        "outputId": "b33ac914-d58d-46c4-cdb2-4ef19656904b"
      },
      "execution_count": null,
      "outputs": [
        {
          "output_type": "execute_result",
          "data": {
            "text/plain": [
              "<seaborn.axisgrid.FacetGrid at 0x78d389387400>"
            ]
          },
          "metadata": {},
          "execution_count": 10
        },
        {
          "output_type": "display_data",
          "data": {
            "text/plain": [
              "<Figure size 1147.74x500 with 2 Axes>"
            ],
            "image/png": "[encoded data removed]"
          },
          "metadata": {}
        }
      ]
    },
    {
      "cell_type": "code",
      "source": [
        "sns.displot(zf, x='score', hue='bad30', kind='kde', col='SEC')"
      ],
      "metadata": {
        "colab": {
          "base_uri": "https://localhost:8080/",
          "height": 435
        },
        "id": "9YUXf3XiTDo9",
        "outputId": "2983d19a-9130-44b7-b491-339020f27bb2"
      },
      "execution_count": null,
      "outputs": [
        {
          "output_type": "execute_result",
          "data": {
            "text/plain": [
              "<seaborn.axisgrid.FacetGrid at 0x78d38923cbb0>"
            ]
          },
          "metadata": {},
          "execution_count": 11
        },
        {
          "output_type": "display_data",
          "data": {
            "text/plain": [
              "<Figure size 2058.88x500 with 4 Axes>"
            ],
            "image/png": "[encoded data removed]"
          },
          "metadata": {}
        }
      ]
    },
    {
      "cell_type": "markdown",
      "source": [
        "## Fairness Testing using Fairlearn"
      ],
      "metadata": {
        "id": "lX78qWD4stIU"
      }
    },
    {
      "cell_type": "markdown",
      "source": [
        "### Defining Fairness Functions"
      ],
      "metadata": {
        "id": "9kT4IeMUCuJl"
      }
    },
    {
      "cell_type": "code",
      "source": [
        "## Additional Metrics\n",
        "\n",
        "def negative_predictive_value(y_true,\n",
        "                       y_pred,\n",
        "                       sample_weight=None,\n",
        "                       pos_label=None) -> float:\n",
        "\n",
        "    unique_labels = _get_labels_for_confusion_matrix(np.vstack((y_true, y_pred)),\n",
        "                                                     pos_label)\n",
        "    npv, fdr, fo_rate, ppv = confusion_matrix(y_true,\n",
        "                                                y_pred,\n",
        "                                                sample_weight=sample_weight,\n",
        "                                                labels=unique_labels,\n",
        "                                                normalize=\"pred\").ravel()\n",
        "    return npv\n",
        "\n",
        "def false_discovery_rate(y_true,\n",
        "                       y_pred,\n",
        "                       sample_weight=None,\n",
        "                       pos_label=None) -> float:\n",
        "\n",
        "    unique_labels = _get_labels_for_confusion_matrix(np.vstack((y_true, y_pred)),\n",
        "                                                     pos_label)\n",
        "    npv, fdr, fo_rate, ppv = confusion_matrix(y_true,\n",
        "                                                y_pred,\n",
        "                                                sample_weight=sample_weight,\n",
        "                                                labels=unique_labels,\n",
        "                                                normalize=\"pred\").ravel()\n",
        "    return fdr\n",
        "\n",
        "def false_omission_rate(y_true,\n",
        "                       y_pred,\n",
        "                       sample_weight=None,\n",
        "                       pos_label=None) -> float:\n",
        "\n",
        "    unique_labels = _get_labels_for_confusion_matrix(np.vstack((y_true, y_pred)),\n",
        "                                                     pos_label)\n",
        "    npv, fdr, fo_rate, ppv = confusion_matrix(y_true,\n",
        "                                                y_pred,\n",
        "                                                sample_weight=sample_weight,\n",
        "                                                labels=unique_labels,\n",
        "                                                normalize=\"pred\").ravel()\n",
        "    return fo_rate\n",
        "\n",
        "def positive_predictive_value(y_true,\n",
        "                       y_pred,\n",
        "                       sample_weight=None,\n",
        "                       pos_label=None) -> float:\n",
        "\n",
        "    unique_labels = _get_labels_for_confusion_matrix(np.vstack((y_true, y_pred)),\n",
        "                                                     pos_label)\n",
        "    npv, fdr, fo_rate, ppv = confusion_matrix(y_true,\n",
        "                                                y_pred,\n",
        "                                                sample_weight=sample_weight,\n",
        "                                                labels=unique_labels,\n",
        "                                                normalize=\"pred\").ravel()\n",
        "    return ppv\n",
        "\n",
        "# Additional Ratios\n",
        "def recall_parity_ratio(y_true, y_pred, *, sensitive_features,\n",
        "                         method=\"between_groups\", ratio=True,sample_weight=None):\n",
        "    mf = MetricFrame(metrics={'tpr':true_positive_rate},\n",
        "                     y_true=y_true,\n",
        "                     y_pred=y_pred,\n",
        "                     sensitive_features=sensitive_features)\n",
        "    # eo = _get_eo_frame(y_true, y_pred, sensitive_features, sample_weight)\n",
        "\n",
        "    return min(mf.ratio(method=method))\n",
        "\n",
        "\n",
        "def equalized_odds_ratio_modified(y_true, y_pred, *, sensitive_features,\n",
        "                         method=\"between_groups\", sample_weight=None):\n",
        "    mf = MetricFrame(metrics={'tpr':true_positive_rate, 'fpr': false_positive_rate},\n",
        "                     y_true=y_true,\n",
        "                     y_pred=y_pred,\n",
        "                     sensitive_features=sensitive_features)\n",
        "    # eo = _get_eo_frame(y_true, y_pred, sensitive_features, sample_weight)\n",
        "\n",
        "    return min(mf.ratio(method=method).loc[lambda x: x>0])\n",
        "\n",
        "def false_discovery_rate_parity_ratio(y_true, y_pred, *, sensitive_features,\n",
        "                         method=\"between_groups\", sample_weight=None):\n",
        "    mf = MetricFrame(metrics={'fpr':false_discovery_rate},\n",
        "                     y_true=y_true,\n",
        "                     y_pred=y_pred,\n",
        "                     sensitive_features=sensitive_features)\n",
        "\n",
        "    return min(mf.ratio(method=method))\n",
        "\n",
        "def false_omission_rate_parity_ratio(y_true, y_pred, *, sensitive_features,\n",
        "                         method=\"between_groups\", sample_weight=None):\n",
        "    mf = MetricFrame(metrics={'for':false_omission_rate},\n",
        "                     y_true=y_true,\n",
        "                     y_pred=y_pred,\n",
        "                     sensitive_features=sensitive_features)\n",
        "    # eo = _get_eo_frame(y_true, y_pred, sensitive_features, sample_weight)\n",
        "\n",
        "\n",
        "    return min(mf.ratio(method=method))\n",
        "\n",
        "def precision_parity_ratio(y_true, y_pred, *, sensitive_features,\n",
        "                         method=\"between_groups\", sample_weight=None):\n",
        "    mf = MetricFrame(metrics={'ppv':precision_score},\n",
        "                     y_true=y_true,\n",
        "                     y_pred=y_pred,\n",
        "                     sensitive_features=sensitive_features)\n",
        "    # eo = _get_eo_frame(y_true, y_pred, sensitive_features, sample_weight)\n",
        "\n",
        "    return min(mf.ratio(method=method))\n",
        "\n",
        "def true_negative_rate_parity(y_true, y_pred, *, sensitive_features,\n",
        "                         method=\"between_groups\", sample_weight=None):\n",
        "    mf = MetricFrame(metrics={'tnr':true_negative_rate},\n",
        "                     y_true=y_true,\n",
        "                     y_pred=y_pred,\n",
        "                     sensitive_features=sensitive_features)\n",
        "    # eo = _get_eo_frame(y_true, y_pred, sensitive_features, sample_weight)\n",
        "\n",
        "    return min(mf.ratio(method=method))\n",
        "\n",
        "def negative_predictive_value_parity(y_true, y_pred, *, sensitive_features,\n",
        "                         method=\"between_groups\", sample_weight=None):\n",
        "    mf = MetricFrame(metrics={'npv':negative_predictive_value},\n",
        "                     y_true=y_true,\n",
        "                     y_pred=y_pred,\n",
        "                     sensitive_features=sensitive_features)\n",
        "    # eo = _get_eo_frame(y_true, y_pred, sensitive_features, sample_weight)\n",
        "\n",
        "    return min(mf.ratio(method=method))\n",
        "\n",
        "def positive_predictive_value_parity(y_true, y_pred, *, sensitive_features,\n",
        "                         method=\"between_groups\", sample_weight=None):\n",
        "    mf = MetricFrame(metrics={'ppv':positive_predictive_value},\n",
        "                     y_true=y_true,\n",
        "                     y_pred=y_pred,\n",
        "                     sensitive_features=sensitive_features)\n",
        "    # eo = _get_eo_frame(y_true, y_pred, sensitive_features, sample_weight)\n",
        "\n",
        "    return min(mf.ratio(method=method))"
      ],
      "metadata": {
        "id": "falmyr26_iQv"
      },
      "execution_count": null,
      "outputs": []
    },
    {
      "cell_type": "markdown",
      "source": [
        "### Utility Functions"
      ],
      "metadata": {
        "id": "mbvQPrw7C1bE"
      }
    },
    {
      "cell_type": "code",
      "source": [
        "def get_data_subset(df, y_true_col, y_pred_col, y_prob_col, sf_cols=[], impute_strategy='drop'):\n",
        "    if impute_strategy=='drop':\n",
        "        return df[[y_true_col, y_pred_col, y_prob_col]+sf_cols].dropna(subset=sf_cols)\n",
        "\n",
        "    else:\n",
        "        return df[[y_true_col, y_pred_col, y_prob_col]+sf_cols].dropna(subset=sf_cols)\n",
        "\n",
        "\n",
        "\n",
        "def generate_metric_frame(df, y_true_col, y_pred_col, y_prob_col, sf_cols=[],\n",
        "                          aggregate=None, **mfkwargs):\n",
        "\n",
        "    _metrics = [accuracy_score,\n",
        "               precision_score,\n",
        "               recall_score,\n",
        "               selection_rate,\n",
        "               true_negative_rate,\n",
        "               false_positive_rate,\n",
        "               false_negative_rate,\n",
        "               true_positive_rate,\n",
        "               negative_predictive_value,\n",
        "               false_discovery_rate,\n",
        "               false_omission_rate,\n",
        "               positive_predictive_value,\n",
        "\n",
        "               count]\n",
        "\n",
        "    metrics = {m.__name__:m for m in _metrics}\n",
        "\n",
        "    s_df = get_data_subset(df, y_true_col,\n",
        "                           y_pred_col, y_prob_col,\n",
        "                           sf_cols)\n",
        "\n",
        "    mf = MetricFrame(\n",
        "        metrics=metrics,\n",
        "        y_true=s_df[y_true_col],\n",
        "        y_pred=s_df[y_pred_col],\n",
        "        sensitive_features=s_df[sf_cols],\n",
        "        **mfkwargs)\n",
        "\n",
        "    if not aggregate:\n",
        "        return mf\n",
        "    elif aggregate=='by_group':\n",
        "        return mf.by_group\n",
        "    elif aggregate=='ratio':\n",
        "        return mf.ratio\n",
        "    else:\n",
        "        None\n",
        "\n",
        "\n"
      ],
      "metadata": {
        "id": "fDtexHY3eCTZ"
      },
      "execution_count": null,
      "outputs": []
    },
    {
      "cell_type": "markdown",
      "source": [
        "### Compute Fairness Scores\n",
        "\n",
        "- define a group mask"
      ],
      "metadata": {
        "id": "4Cm2TXbnC_M1"
      }
    },
    {
      "cell_type": "code",
      "source": [
        "get_data_subset(df, y_true_col, y_pred_col, y_prob_col, sf_cols=['age__2023__ranges'], impute_strategy='drop')\n"
      ],
      "metadata": {
        "colab": {
          "base_uri": "https://localhost:8080/",
          "height": 424
        },
        "id": "dkwI_GuItgMH",
        "outputId": "44976d58-bf7f-4139-924d-24175cf5f55c"
      },
      "execution_count": null,
      "outputs": [
        {
          "output_type": "execute_result",
          "data": {
            "text/plain": [
              "        good30  above_normal  prediction age__2023__ranges\n",
              "0            1             0    0.563409             25-34\n",
              "1            1             1    0.189596             45-54\n",
              "2            1             0    0.739763             45-54\n",
              "3            1             0    0.805375             25-34\n",
              "4            1             0    0.843810             18-24\n",
              "...        ...           ...         ...               ...\n",
              "463158       1             0    0.704675             35-44\n",
              "463159       1             1    0.370284             25-34\n",
              "463160       1             1    0.414541             25-34\n",
              "463161       1             1    0.140356             25-34\n",
              "463162       1             1    0.288285             45-54\n",
              "\n",
              "[463161 rows x 4 columns]"
            ],
            "text/html": [
              "\n",
              "\n",
              "  <div id=\"df-044bb049-a426-4014-8c05-7acf7248ddc1\">\n",
              "    <div class=\"colab-df-container\">\n",
              "      <div>\n",
              "<style scoped>\n",
              "    .dataframe tbody tr th:only-of-type {\n",
              "        vertical-align: middle;\n",
              "    }\n",
              "\n",
              "    .dataframe tbody tr th {\n",
              "        vertical-align: top;\n",
              "    }\n",
              "\n",
              "    .dataframe thead th {\n",
              "        text-align: right;\n",
              "    }\n",
              "</style>\n",
              "<table border=\"1\" class=\"dataframe\">\n",
              "  <thead>\n",
              "    <tr style=\"text-align: right;\">\n",
              "      <th></th>\n",
              "      <th>good30</th>\n",
              "      <th>above_normal</th>\n",
              "      <th>prediction</th>\n",
              "      <th>age__2023__ranges</th>\n",
              "    </tr>\n",
              "  </thead>\n",
              "  <tbody>\n",
              "    <tr>\n",
              "      <th>0</th>\n",
              "      <td>1</td>\n",
              "      <td>0</td>\n",
              "      <td>0.563409</td>\n",
              "      <td>25-34</td>\n",
              "    </tr>\n",
              "    <tr>\n",
              "      <th>1</th>\n",
              "      <td>1</td>\n",
              "      <td>1</td>\n",
              "      <td>0.189596</td>\n",
              "      <td>45-54</td>\n",
              "    </tr>\n",
              "    <tr>\n",
              "      <th>2</th>\n",
              "      <td>1</td>\n",
              "      <td>0</td>\n",
              "      <td>0.739763</td>\n",
              "      <td>45-54</td>\n",
              "    </tr>\n",
              "    <tr>\n",
              "      <th>3</th>\n",
              "      <td>1</td>\n",
              "      <td>0</td>\n",
              "      <td>0.805375</td>\n",
              "      <td>25-34</td>\n",
              "    </tr>\n",
              "    <tr>\n",
              "      <th>4</th>\n",
              "      <td>1</td>\n",
              "      <td>0</td>\n",
              "      <td>0.843810</td>\n",
              "      <td>18-24</td>\n",
              "    </tr>\n",
              "    <tr>\n",
              "      <th>...</th>\n",
              "      <td>...</td>\n",
              "      <td>...</td>\n",
              "      <td>...</td>\n",
              "      <td>...</td>\n",
              "    </tr>\n",
              "    <tr>\n",
              "      <th>463158</th>\n",
              "      <td>1</td>\n",
              "      <td>0</td>\n",
              "      <td>0.704675</td>\n",
              "      <td>35-44</td>\n",
              "    </tr>\n",
              "    <tr>\n",
              "      <th>463159</th>\n",
              "      <td>1</td>\n",
              "      <td>1</td>\n",
              "      <td>0.370284</td>\n",
              "      <td>25-34</td>\n",
              "    </tr>\n",
              "    <tr>\n",
              "      <th>463160</th>\n",
              "      <td>1</td>\n",
              "      <td>1</td>\n",
              "      <td>0.414541</td>\n",
              "      <td>25-34</td>\n",
              "    </tr>\n",
              "    <tr>\n",
              "      <th>463161</th>\n",
              "      <td>1</td>\n",
              "      <td>1</td>\n",
              "      <td>0.140356</td>\n",
              "      <td>25-34</td>\n",
              "    </tr>\n",
              "    <tr>\n",
              "      <th>463162</th>\n",
              "      <td>1</td>\n",
              "      <td>1</td>\n",
              "      <td>0.288285</td>\n",
              "      <td>45-54</td>\n",
              "    </tr>\n",
              "  </tbody>\n",
              "</table>\n",
              "<p>463161 rows × 4 columns</p>\n",
              "</div>\n",
              "      <button class=\"colab-df-convert\" onclick=\"convertToInteractive('df-044bb049-a426-4014-8c05-7acf7248ddc1')\"\n",
              "              title=\"Convert this dataframe to an interactive table.\"\n",
              "              style=\"display:none;\">\n",
              "\n",
              "  <svg xmlns=\"http://www.w3.org/2000/svg\" height=\"24px\"viewBox=\"0 0 24 24\"\n",
              "       width=\"24px\">\n",
              "    <path d=\"M0 0h24v24H0V0z\" fill=\"none\"/>\n",
              "    <path d=\"M18.56 5.44l.94 2.06.94-2.06 2.06-.94-2.06-.94-.94-2.06-.94 2.06-2.06.94zm-11 1L8.5 8.5l.94-2.06 2.06-.94-2.06-.94L8.5 2.5l-.94 2.06-2.06.94zm10 10l.94 2.06.94-2.06 2.06-.94-2.06-.94-.94-2.06-.94 2.06-2.06.94z\"/><path d=\"M17.41 7.96l-1.37-1.37c-.4-.4-.92-.59-1.43-.59-.52 0-1.04.2-1.43.59L10.3 9.45l-7.72 7.72c-.78.78-.78 2.05 0 2.83L4 21.41c.39.39.9.59 1.41.59.51 0 1.02-.2 1.41-.59l7.78-7.78 2.81-2.81c.8-.78.8-2.07 0-2.86zM5.41 20L4 18.59l7.72-7.72 1.47 1.35L5.41 20z\"/>\n",
              "  </svg>\n",
              "      </button>\n",
              "\n",
              "\n",
              "\n",
              "    <div id=\"df-a9050da7-eaa5-4e16-8c55-168cb8500cef\">\n",
              "      <button class=\"colab-df-quickchart\" onclick=\"quickchart('df-a9050da7-eaa5-4e16-8c55-168cb8500cef')\"\n",
              "              title=\"Suggest charts.\"\n",
              "              style=\"display:none;\">\n",
              "\n",
              "<svg xmlns=\"http://www.w3.org/2000/svg\" height=\"24px\"viewBox=\"0 0 24 24\"\n",
              "     width=\"24px\">\n",
              "    <g>\n",
              "        <path d=\"M19 3H5c-1.1 0-2 .9-2 2v14c0 1.1.9 2 2 2h14c1.1 0 2-.9 2-2V5c0-1.1-.9-2-2-2zM9 17H7v-7h2v7zm4 0h-2V7h2v10zm4 0h-2v-4h2v4z\"/>\n",
              "    </g>\n",
              "</svg>\n",
              "      </button>\n",
              "    </div>\n",
              "\n",
              "<style>\n",
              "  .colab-df-quickchart {\n",
              "    background-color: #E8F0FE;\n",
              "    border: none;\n",
              "    border-radius: 50%;\n",
              "    cursor: pointer;\n",
              "    display: none;\n",
              "    fill: #1967D2;\n",
              "    height: 32px;\n",
              "    padding: 0 0 0 0;\n",
              "    width: 32px;\n",
              "  }\n",
              "\n",
              "  .colab-df-quickchart:hover {\n",
              "    background-color: #E2EBFA;\n",
              "    box-shadow: 0px 1px 2px rgba(60, 64, 67, 0.3), 0px 1px 3px 1px rgba(60, 64, 67, 0.15);\n",
              "    fill: #174EA6;\n",
              "  }\n",
              "\n",
              "  [theme=dark] .colab-df-quickchart {\n",
              "    background-color: #3B4455;\n",
              "    fill: #D2E3FC;\n",
              "  }\n",
              "\n",
              "  [theme=dark] .colab-df-quickchart:hover {\n",
              "    background-color: #434B5C;\n",
              "    box-shadow: 0px 1px 3px 1px rgba(0, 0, 0, 0.15);\n",
              "    filter: drop-shadow(0px 1px 2px rgba(0, 0, 0, 0.3));\n",
              "    fill: #FFFFFF;\n",
              "  }\n",
              "</style>\n",
              "\n",
              "    <script>\n",
              "      async function quickchart(key) {\n",
              "        const containerElement = document.querySelector('#' + key);\n",
              "        const charts = await google.colab.kernel.invokeFunction(\n",
              "            'suggestCharts', [key], {});\n",
              "      }\n",
              "    </script>\n",
              "\n",
              "      <script>\n",
              "\n",
              "function displayQuickchartButton(domScope) {\n",
              "  let quickchartButtonEl =\n",
              "    domScope.querySelector('#df-a9050da7-eaa5-4e16-8c55-168cb8500cef button.colab-df-quickchart');\n",
              "  quickchartButtonEl.style.display =\n",
              "    google.colab.kernel.accessAllowed ? 'block' : 'none';\n",
              "}\n",
              "\n",
              "        displayQuickchartButton(document);\n",
              "      </script>\n",
              "      <style>\n",
              "    .colab-df-container {\n",
              "      display:flex;\n",
              "      flex-wrap:wrap;\n",
              "      gap: 12px;\n",
              "    }\n",
              "\n",
              "    .colab-df-convert {\n",
              "      background-color: #E8F0FE;\n",
              "      border: none;\n",
              "      border-radius: 50%;\n",
              "      cursor: pointer;\n",
              "      display: none;\n",
              "      fill: #1967D2;\n",
              "      height: 32px;\n",
              "      padding: 0 0 0 0;\n",
              "      width: 32px;\n",
              "    }\n",
              "\n",
              "    .colab-df-convert:hover {\n",
              "      background-color: #E2EBFA;\n",
              "      box-shadow: 0px 1px 2px rgba(60, 64, 67, 0.3), 0px 1px 3px 1px rgba(60, 64, 67, 0.15);\n",
              "      fill: #174EA6;\n",
              "    }\n",
              "\n",
              "    [theme=dark] .colab-df-convert {\n",
              "      background-color: #3B4455;\n",
              "      fill: #D2E3FC;\n",
              "    }\n",
              "\n",
              "    [theme=dark] .colab-df-convert:hover {\n",
              "      background-color: #434B5C;\n",
              "      box-shadow: 0px 1px 3px 1px rgba(0, 0, 0, 0.15);\n",
              "      filter: drop-shadow(0px 1px 2px rgba(0, 0, 0, 0.3));\n",
              "      fill: #FFFFFF;\n",
              "    }\n",
              "  </style>\n",
              "\n",
              "      <script>\n",
              "        const buttonEl =\n",
              "          document.querySelector('#df-044bb049-a426-4014-8c05-7acf7248ddc1 button.colab-df-convert');\n",
              "        buttonEl.style.display =\n",
              "          google.colab.kernel.accessAllowed ? 'block' : 'none';\n",
              "\n",
              "        async function convertToInteractive(key) {\n",
              "          const element = document.querySelector('#df-044bb049-a426-4014-8c05-7acf7248ddc1');\n",
              "          const dataTable =\n",
              "            await google.colab.kernel.invokeFunction('convertToInteractive',\n",
              "                                                     [key], {});\n",
              "          if (!dataTable) return;\n",
              "\n",
              "          const docLinkHtml = 'Like what you see? Visit the ' +\n",
              "            '<a target=\"_blank\" href=https://colab.research.google.com/notebooks/data_table.ipynb>data table notebook</a>'\n",
              "            + ' to learn more about interactive tables.';\n",
              "          element.innerHTML = '';\n",
              "          dataTable['output_type'] = 'display_data';\n",
              "          await google.colab.output.renderOutput(dataTable, element);\n",
              "          const docLink = document.createElement('div');\n",
              "          docLink.innerHTML = docLinkHtml;\n",
              "          element.appendChild(docLink);\n",
              "        }\n",
              "      </script>\n",
              "    </div>\n",
              "  </div>\n"
            ]
          },
          "metadata": {},
          "execution_count": 35
        }
      ]
    },
    {
      "cell_type": "code",
      "source": [
        "mf = generate_metric_frame(df, y_true_col='good30', y_prob_col='prediction', y_pred_col='above_gcredit', sf_cols=['age__2023__ranges'])\n",
        "\n",
        "mf.by_group"
      ],
      "metadata": {
        "colab": {
          "base_uri": "https://localhost:8080/",
          "height": 333
        },
        "id": "kCovxUo7nJbV",
        "outputId": "148d768f-c086-424b-8891-cf8a02f3b312"
      },
      "execution_count": null,
      "outputs": [
        {
          "output_type": "execute_result",
          "data": {
            "text/plain": [
              "                   accuracy_score  precision_score  recall_score  \\\n",
              "age__2023__ranges                                                  \n",
              "18-24                    0.419292         0.977896      0.339617   \n",
              "25-34                    0.443465         0.975519      0.378235   \n",
              "35-44                    0.461000         0.976994      0.407653   \n",
              "45-54                    0.466869         0.980089      0.424951   \n",
              "55-64                    0.466802         0.981973      0.430642   \n",
              "65 and older             0.481618         0.986696      0.443669   \n",
              "\n",
              "                   selection_rate  true_negative_rate  false_positive_rate  \\\n",
              "age__2023__ranges                                                            \n",
              "18-24                    0.301884            0.948966             0.051034   \n",
              "25-34                    0.341831            0.929303             0.070697   \n",
              "35-44                    0.373620            0.917803             0.082197   \n",
              "45-54                    0.396033            0.908953             0.091047   \n",
              "55-64                    0.405071            0.904340             0.095660   \n",
              "65 and older             0.414522            0.929412             0.070588   \n",
              "\n",
              "                   false_negative_rate  true_positive_rate  \\\n",
              "age__2023__ranges                                            \n",
              "18-24                         0.660383            0.339617   \n",
              "25-34                         0.621765            0.378235   \n",
              "35-44                         0.592347            0.407653   \n",
              "45-54                         0.575049            0.424951   \n",
              "55-64                         0.569358            0.430642   \n",
              "65 and older                  0.556331            0.443669   \n",
              "\n",
              "                   negative_predictive_value  false_discovery_rate  \\\n",
              "age__2023__ranges                                                    \n",
              "18-24                               0.177737              0.022104   \n",
              "25-34                               0.167133              0.024481   \n",
              "35-44                               0.153222              0.023006   \n",
              "45-54                               0.130340              0.019911   \n",
              "55-64                               0.116036              0.018027   \n",
              "65 and older                        0.124019              0.013304   \n",
              "\n",
              "                   false_omission_rate  positive_predictive_value     count  \n",
              "age__2023__ranges                                                            \n",
              "18-24                         0.822263                   0.977896   11839.0  \n",
              "25-34                         0.832867                   0.975519  213778.0  \n",
              "35-44                         0.846778                   0.976994  160666.0  \n",
              "45-54                         0.869660                   0.980089   61000.0  \n",
              "55-64                         0.883964                   0.981973   14790.0  \n",
              "65 and older                  0.875981                   0.986696    1088.0  "
            ],
            "text/html": [
              "\n",
              "\n",
              "  <div id=\"df-6f8edd1b-341b-4a5d-8c46-29b0aec4d30e\">\n",
              "    <div class=\"colab-df-container\">\n",
              "      <div>\n",
              "<style scoped>\n",
              "    .dataframe tbody tr th:only-of-type {\n",
              "        vertical-align: middle;\n",
              "    }\n",
              "\n",
              "    .dataframe tbody tr th {\n",
              "        vertical-align: top;\n",
              "    }\n",
              "\n",
              "    .dataframe thead th {\n",
              "        text-align: right;\n",
              "    }\n",
              "</style>\n",
              "<table border=\"1\" class=\"dataframe\">\n",
              "  <thead>\n",
              "    <tr style=\"text-align: right;\">\n",
              "      <th></th>\n",
              "      <th>accuracy_score</th>\n",
              "      <th>precision_score</th>\n",
              "      <th>recall_score</th>\n",
              "      <th>selection_rate</th>\n",
              "      <th>true_negative_rate</th>\n",
              "      <th>false_positive_rate</th>\n",
              "      <th>false_negative_rate</th>\n",
              "      <th>true_positive_rate</th>\n",
              "      <th>negative_predictive_value</th>\n",
              "      <th>false_discovery_rate</th>\n",
              "      <th>false_omission_rate</th>\n",
              "      <th>positive_predictive_value</th>\n",
              "      <th>count</th>\n",
              "    </tr>\n",
              "    <tr>\n",
              "      <th>age__2023__ranges</th>\n",
              "      <th></th>\n",
              "      <th></th>\n",
              "      <th></th>\n",
              "      <th></th>\n",
              "      <th></th>\n",
              "      <th></th>\n",
              "      <th></th>\n",
              "      <th></th>\n",
              "      <th></th>\n",
              "      <th></th>\n",
              "      <th></th>\n",
              "      <th></th>\n",
              "      <th></th>\n",
              "    </tr>\n",
              "  </thead>\n",
              "  <tbody>\n",
              "    <tr>\n",
              "      <th>18-24</th>\n",
              "      <td>0.419292</td>\n",
              "      <td>0.977896</td>\n",
              "      <td>0.339617</td>\n",
              "      <td>0.301884</td>\n",
              "      <td>0.948966</td>\n",
              "      <td>0.051034</td>\n",
              "      <td>0.660383</td>\n",
              "      <td>0.339617</td>\n",
              "      <td>0.177737</td>\n",
              "      <td>0.022104</td>\n",
              "      <td>0.822263</td>\n",
              "      <td>0.977896</td>\n",
              "      <td>11839.0</td>\n",
              "    </tr>\n",
              "    <tr>\n",
              "      <th>25-34</th>\n",
              "      <td>0.443465</td>\n",
              "      <td>0.975519</td>\n",
              "      <td>0.378235</td>\n",
              "      <td>0.341831</td>\n",
              "      <td>0.929303</td>\n",
              "      <td>0.070697</td>\n",
              "      <td>0.621765</td>\n",
              "      <td>0.378235</td>\n",
              "      <td>0.167133</td>\n",
              "      <td>0.024481</td>\n",
              "      <td>0.832867</td>\n",
              "      <td>0.975519</td>\n",
              "      <td>213778.0</td>\n",
              "    </tr>\n",
              "    <tr>\n",
              "      <th>35-44</th>\n",
              "      <td>0.461000</td>\n",
              "      <td>0.976994</td>\n",
              "      <td>0.407653</td>\n",
              "      <td>0.373620</td>\n",
              "      <td>0.917803</td>\n",
              "      <td>0.082197</td>\n",
              "      <td>0.592347</td>\n",
              "      <td>0.407653</td>\n",
              "      <td>0.153222</td>\n",
              "      <td>0.023006</td>\n",
              "      <td>0.846778</td>\n",
              "      <td>0.976994</td>\n",
              "      <td>160666.0</td>\n",
              "    </tr>\n",
              "    <tr>\n",
              "      <th>45-54</th>\n",
              "      <td>0.466869</td>\n",
              "      <td>0.980089</td>\n",
              "      <td>0.424951</td>\n",
              "      <td>0.396033</td>\n",
              "      <td>0.908953</td>\n",
              "      <td>0.091047</td>\n",
              "      <td>0.575049</td>\n",
              "      <td>0.424951</td>\n",
              "      <td>0.130340</td>\n",
              "      <td>0.019911</td>\n",
              "      <td>0.869660</td>\n",
              "      <td>0.980089</td>\n",
              "      <td>61000.0</td>\n",
              "    </tr>\n",
              "    <tr>\n",
              "      <th>55-64</th>\n",
              "      <td>0.466802</td>\n",
              "      <td>0.981973</td>\n",
              "      <td>0.430642</td>\n",
              "      <td>0.405071</td>\n",
              "      <td>0.904340</td>\n",
              "      <td>0.095660</td>\n",
              "      <td>0.569358</td>\n",
              "      <td>0.430642</td>\n",
              "      <td>0.116036</td>\n",
              "      <td>0.018027</td>\n",
              "      <td>0.883964</td>\n",
              "      <td>0.981973</td>\n",
              "      <td>14790.0</td>\n",
              "    </tr>\n",
              "    <tr>\n",
              "      <th>65 and older</th>\n",
              "      <td>0.481618</td>\n",
              "      <td>0.986696</td>\n",
              "      <td>0.443669</td>\n",
              "      <td>0.414522</td>\n",
              "      <td>0.929412</td>\n",
              "      <td>0.070588</td>\n",
              "      <td>0.556331</td>\n",
              "      <td>0.443669</td>\n",
              "      <td>0.124019</td>\n",
              "      <td>0.013304</td>\n",
              "      <td>0.875981</td>\n",
              "      <td>0.986696</td>\n",
              "      <td>1088.0</td>\n",
              "    </tr>\n",
              "  </tbody>\n",
              "</table>\n",
              "</div>\n",
              "      <button class=\"colab-df-convert\" onclick=\"convertToInteractive('df-6f8edd1b-341b-4a5d-8c46-29b0aec4d30e')\"\n",
              "              title=\"Convert this dataframe to an interactive table.\"\n",
              "              style=\"display:none;\">\n",
              "\n",
              "  <svg xmlns=\"http://www.w3.org/2000/svg\" height=\"24px\"viewBox=\"0 0 24 24\"\n",
              "       width=\"24px\">\n",
              "    <path d=\"M0 0h24v24H0V0z\" fill=\"none\"/>\n",
              "    <path d=\"M18.56 5.44l.94 2.06.94-2.06 2.06-.94-2.06-.94-.94-2.06-.94 2.06-2.06.94zm-11 1L8.5 8.5l.94-2.06 2.06-.94-2.06-.94L8.5 2.5l-.94 2.06-2.06.94zm10 10l.94 2.06.94-2.06 2.06-.94-2.06-.94-.94-2.06-.94 2.06-2.06.94z\"/><path d=\"M17.41 7.96l-1.37-1.37c-.4-.4-.92-.59-1.43-.59-.52 0-1.04.2-1.43.59L10.3 9.45l-7.72 7.72c-.78.78-.78 2.05 0 2.83L4 21.41c.39.39.9.59 1.41.59.51 0 1.02-.2 1.41-.59l7.78-7.78 2.81-2.81c.8-.78.8-2.07 0-2.86zM5.41 20L4 18.59l7.72-7.72 1.47 1.35L5.41 20z\"/>\n",
              "  </svg>\n",
              "      </button>\n",
              "\n",
              "\n",
              "\n",
              "    <div id=\"df-f6019e13-97d7-4b29-b4d1-9808b5b4d0ff\">\n",
              "      <button class=\"colab-df-quickchart\" onclick=\"quickchart('df-f6019e13-97d7-4b29-b4d1-9808b5b4d0ff')\"\n",
              "              title=\"Suggest charts.\"\n",
              "              style=\"display:none;\">\n",
              "\n",
              "<svg xmlns=\"http://www.w3.org/2000/svg\" height=\"24px\"viewBox=\"0 0 24 24\"\n",
              "     width=\"24px\">\n",
              "    <g>\n",
              "        <path d=\"M19 3H5c-1.1 0-2 .9-2 2v14c0 1.1.9 2 2 2h14c1.1 0 2-.9 2-2V5c0-1.1-.9-2-2-2zM9 17H7v-7h2v7zm4 0h-2V7h2v10zm4 0h-2v-4h2v4z\"/>\n",
              "    </g>\n",
              "</svg>\n",
              "      </button>\n",
              "    </div>\n",
              "\n",
              "<style>\n",
              "  .colab-df-quickchart {\n",
              "    background-color: #E8F0FE;\n",
              "    border: none;\n",
              "    border-radius: 50%;\n",
              "    cursor: pointer;\n",
              "    display: none;\n",
              "    fill: #1967D2;\n",
              "    height: 32px;\n",
              "    padding: 0 0 0 0;\n",
              "    width: 32px;\n",
              "  }\n",
              "\n",
              "  .colab-df-quickchart:hover {\n",
              "    background-color: #E2EBFA;\n",
              "    box-shadow: 0px 1px 2px rgba(60, 64, 67, 0.3), 0px 1px 3px 1px rgba(60, 64, 67, 0.15);\n",
              "    fill: #174EA6;\n",
              "  }\n",
              "\n",
              "  [theme=dark] .colab-df-quickchart {\n",
              "    background-color: #3B4455;\n",
              "    fill: #D2E3FC;\n",
              "  }\n",
              "\n",
              "  [theme=dark] .colab-df-quickchart:hover {\n",
              "    background-color: #434B5C;\n",
              "    box-shadow: 0px 1px 3px 1px rgba(0, 0, 0, 0.15);\n",
              "    filter: drop-shadow(0px 1px 2px rgba(0, 0, 0, 0.3));\n",
              "    fill: #FFFFFF;\n",
              "  }\n",
              "</style>\n",
              "\n",
              "    <script>\n",
              "      async function quickchart(key) {\n",
              "        const containerElement = document.querySelector('#' + key);\n",
              "        const charts = await google.colab.kernel.invokeFunction(\n",
              "            'suggestCharts', [key], {});\n",
              "      }\n",
              "    </script>\n",
              "\n",
              "      <script>\n",
              "\n",
              "function displayQuickchartButton(domScope) {\n",
              "  let quickchartButtonEl =\n",
              "    domScope.querySelector('#df-f6019e13-97d7-4b29-b4d1-9808b5b4d0ff button.colab-df-quickchart');\n",
              "  quickchartButtonEl.style.display =\n",
              "    google.colab.kernel.accessAllowed ? 'block' : 'none';\n",
              "}\n",
              "\n",
              "        displayQuickchartButton(document);\n",
              "      </script>\n",
              "      <style>\n",
              "    .colab-df-container {\n",
              "      display:flex;\n",
              "      flex-wrap:wrap;\n",
              "      gap: 12px;\n",
              "    }\n",
              "\n",
              "    .colab-df-convert {\n",
              "      background-color: #E8F0FE;\n",
              "      border: none;\n",
              "      border-radius: 50%;\n",
              "      cursor: pointer;\n",
              "      display: none;\n",
              "      fill: #1967D2;\n",
              "      height: 32px;\n",
              "      padding: 0 0 0 0;\n",
              "      width: 32px;\n",
              "    }\n",
              "\n",
              "    .colab-df-convert:hover {\n",
              "      background-color: #E2EBFA;\n",
              "      box-shadow: 0px 1px 2px rgba(60, 64, 67, 0.3), 0px 1px 3px 1px rgba(60, 64, 67, 0.15);\n",
              "      fill: #174EA6;\n",
              "    }\n",
              "\n",
              "    [theme=dark] .colab-df-convert {\n",
              "      background-color: #3B4455;\n",
              "      fill: #D2E3FC;\n",
              "    }\n",
              "\n",
              "    [theme=dark] .colab-df-convert:hover {\n",
              "      background-color: #434B5C;\n",
              "      box-shadow: 0px 1px 3px 1px rgba(0, 0, 0, 0.15);\n",
              "      filter: drop-shadow(0px 1px 2px rgba(0, 0, 0, 0.3));\n",
              "      fill: #FFFFFF;\n",
              "    }\n",
              "  </style>\n",
              "\n",
              "      <script>\n",
              "        const buttonEl =\n",
              "          document.querySelector('#df-6f8edd1b-341b-4a5d-8c46-29b0aec4d30e button.colab-df-convert');\n",
              "        buttonEl.style.display =\n",
              "          google.colab.kernel.accessAllowed ? 'block' : 'none';\n",
              "\n",
              "        async function convertToInteractive(key) {\n",
              "          const element = document.querySelector('#df-6f8edd1b-341b-4a5d-8c46-29b0aec4d30e');\n",
              "          const dataTable =\n",
              "            await google.colab.kernel.invokeFunction('convertToInteractive',\n",
              "                                                     [key], {});\n",
              "          if (!dataTable) return;\n",
              "\n",
              "          const docLinkHtml = 'Like what you see? Visit the ' +\n",
              "            '<a target=\"_blank\" href=https://colab.research.google.com/notebooks/data_table.ipynb>data table notebook</a>'\n",
              "            + ' to learn more about interactive tables.';\n",
              "          element.innerHTML = '';\n",
              "          dataTable['output_type'] = 'display_data';\n",
              "          await google.colab.output.renderOutput(dataTable, element);\n",
              "          const docLink = document.createElement('div');\n",
              "          docLink.innerHTML = docLinkHtml;\n",
              "          element.appendChild(docLink);\n",
              "        }\n",
              "      </script>\n",
              "    </div>\n",
              "  </div>\n"
            ]
          },
          "metadata": {},
          "execution_count": 33
        }
      ]
    },
    {
      "cell_type": "code",
      "source": [
        "mf.ratio(method='between_groups')"
      ],
      "metadata": {
        "colab": {
          "base_uri": "https://localhost:8080/"
        },
        "id": "CIrfEZPnjw53",
        "outputId": "41593135-bf9e-483e-dba0-d9b80519e2e5"
      },
      "execution_count": null,
      "outputs": [
        {
          "output_type": "execute_result",
          "data": {
            "text/plain": [
              "accuracy_score               0.870591\n",
              "precision_score              0.988672\n",
              "recall_score                 0.765474\n",
              "selection_rate               0.728269\n",
              "true_negative_rate           0.952974\n",
              "false_positive_rate          0.533490\n",
              "false_negative_rate          0.842437\n",
              "true_positive_rate           0.765474\n",
              "negative_predictive_value    0.652850\n",
              "false_discovery_rate         0.543424\n",
              "false_omission_rate          0.930199\n",
              "positive_predictive_value    0.988672\n",
              "count                        0.005089\n",
              "dtype: float64"
            ]
          },
          "metadata": {},
          "execution_count": 34
        }
      ]
    },
    {
      "cell_type": "code",
      "source": [
        "# Trying to create a Generate Fairness Report Function\n",
        "\n",
        "# User INputs\n",
        "f_df = mf.ratio(method='between_groups')\n",
        "fair_threshold = 0.80\n",
        "fair_metric_suggestion = \"True Positive Rate\"\n",
        "\n",
        "fair_is_positive_favorable = True\n",
        "fair_priority = \"benefit\"\n",
        "fair_concern = \"eligible\"\n",
        "fair_impact = \"normal\"\n",
        "fair_metric_type = \"ratio\"\n",
        "\n",
        "## Report Generation\n",
        "print('-'*20, 'Fairness Evaluation', '-'*20, '\\n')\n",
        "print(f'Suggested Fairness Metric: {fair_metric_suggestion}\\n\\tbased on, \\n\\t',\n",
        "      f'  fair_is_positive_favorable = {fair_is_positive_favorable}\\n\\t',\n",
        "      f'  fair_priority = {fair_priority}\\n\\t',\n",
        "      f'  fair_concern = {fair_concern}\\n\\t',\n",
        "      f'  fair_impact = {fair_impact}\\n\\t',\n",
        "      f'  fair_metric_type = {fair_metric_type}\\n'\n",
        "      )\n",
        "\n",
        "\n",
        "f_dff = (f_df.to_frame().reset_index()\n",
        "     .rename(columns={0:'fairness_score', 'index':'fairness_metric'})\n",
        "     .assign(fair=lambda x:\n",
        "                (x['fairness_score']>=fair_threshold)\n",
        "                .map({True:\"Pass\", False:'Fail'}))\n",
        "\n",
        ")\n",
        "\n",
        "\n",
        "\n",
        "print('Identified Protected Features: \\n\\t{sfs}\\n'.format(sfs=',\\n\\t'.join([i.replace(\"__\", \"-\").replace(\"_\", \" \").title() for i in mf.by_group.index.names])))\n",
        "print(f'Fairness Treshold:\\n\\t{fair_threshold*100:0.2f}%\\n')\n",
        "print(f'Fairness Metrics:')\n",
        "for i, (fm, score, feval) in f_dff.iterrows():\n",
        "    print(f'\\t{fm.replace(\"_\", \" \").title()}',\n",
        "          ' '*(35-len(fm)-5),\n",
        "          f'{score*100:0.2f}%  ({feval})')\n",
        "\n",
        "\n"
      ],
      "metadata": {
        "id": "zsDBl_oBvE7B"
      },
      "execution_count": null,
      "outputs": []
    },
    {
      "cell_type": "code",
      "source": [
        "sns.catplot(df.dropna(subset='gender'), x='gender', hue='bad30', kind='count')"
      ],
      "metadata": {
        "id": "Mrb7gYEElP6c",
        "colab": {
          "base_uri": "https://localhost:8080/",
          "height": 524
        },
        "outputId": "5901cbdc-be56-4cb5-8ff5-567796929019"
      },
      "execution_count": null,
      "outputs": [
        {
          "output_type": "execute_result",
          "data": {
            "text/plain": [
              "<seaborn.axisgrid.FacetGrid at 0x7a9275f35390>"
            ]
          },
          "metadata": {},
          "execution_count": 16
        },
        {
          "output_type": "display_data",
          "data": {
            "text/plain": [
              "<Figure size 558.875x500 with 1 Axes>"
            ],
            "image/png": "[encoded data removed]"
          },
          "metadata": {}
        }
      ]
    },
    {
      "cell_type": "code",
      "source": [
        "sns.catplot(df.dropna(subset='marital_status'), x='marital_status', hue='bad30', kind='count')"
      ],
      "metadata": {
        "id": "5p9PO0VbEQAx",
        "colab": {
          "base_uri": "https://localhost:8080/",
          "height": 525
        },
        "outputId": "615d5112-1ae2-47bb-dd4b-d472241f7ff7"
      },
      "execution_count": null,
      "outputs": [
        {
          "output_type": "execute_result",
          "data": {
            "text/plain": [
              "<seaborn.axisgrid.FacetGrid at 0x7a92ae9b6ec0>"
            ]
          },
          "metadata": {},
          "execution_count": 17
        },
        {
          "output_type": "display_data",
          "data": {
            "text/plain": [
              "<Figure size 558.875x500 with 1 Axes>"
            ],
            "image/png": "[encoded data removed]"
          },
          "metadata": {}
        }
      ]
    },
    {
      "cell_type": "code",
      "source": [
        "sns.catplot(df.dropna(subset='marital_status__never_married'), x='marital_status__never_married', hue='bad30', kind='count')"
      ],
      "metadata": {
        "id": "Ej3C1w18jN10",
        "colab": {
          "base_uri": "https://localhost:8080/",
          "height": 525
        },
        "outputId": "ce10f677-cd74-43eb-cca4-5dfaec4c0333"
      },
      "execution_count": null,
      "outputs": [
        {
          "output_type": "execute_result",
          "data": {
            "text/plain": [
              "<seaborn.axisgrid.FacetGrid at 0x7a92adba7400>"
            ]
          },
          "metadata": {},
          "execution_count": 18
        },
        {
          "output_type": "display_data",
          "data": {
            "text/plain": [
              "<Figure size 558.875x500 with 1 Axes>"
            ],
            "image/png": "[encoded data removed]"
          },
          "metadata": {}
        }
      ]
    },
    {
      "cell_type": "code",
      "source": [
        "sns.catplot(df.dropna(subset='age__2023__ranges'), x='age__2023__ranges', hue='bad30', kind='count')\n"
      ],
      "metadata": {
        "id": "lPS7fcqIjQYS",
        "colab": {
          "base_uri": "https://localhost:8080/",
          "height": 524
        },
        "outputId": "6ae00b29-c0ec-47bb-9532-699c5af0868f"
      },
      "execution_count": null,
      "outputs": [
        {
          "output_type": "execute_result",
          "data": {
            "text/plain": [
              "<seaborn.axisgrid.FacetGrid at 0x7a9275a79870>"
            ]
          },
          "metadata": {},
          "execution_count": 19
        },
        {
          "output_type": "display_data",
          "data": {
            "text/plain": [
              "<Figure size 558.875x500 with 1 Axes>"
            ],
            "image/png": "[encoded data removed]"
          },
          "metadata": {}
        }
      ]
    },
    {
      "cell_type": "code",
      "source": [
        "df.age__2023__ranges.dropna().value_counts().plot(kind='barh')"
      ],
      "metadata": {
        "id": "FUBs3N48jcGr",
        "colab": {
          "base_uri": "https://localhost:8080/",
          "height": 448
        },
        "outputId": "93b035b9-fa61-47cc-c197-4e4e14551694"
      },
      "execution_count": null,
      "outputs": [
        {
          "output_type": "execute_result",
          "data": {
            "text/plain": [
              "<Axes: >"
            ]
          },
          "metadata": {},
          "execution_count": 20
        },
        {
          "output_type": "display_data",
          "data": {
            "text/plain": [
              "<Figure size 640x480 with 1 Axes>"
            ],
            "image/png": "[encoded data removed]"
          },
          "metadata": {}
        }
      ]
    },
    {
      "cell_type": "code",
      "source": [
        "def visualize_fairness_metrics(mf, relative=True,\n",
        "                               metric='selection rate', threshold=0.80):\n",
        "    mf = mf.by_group\n",
        "    if relative:\n",
        "        mf = (mf/mf.max())\n",
        "        print('Results are taken relative to the maximum value for the metric')\n",
        "\n",
        "    mf = mf.reset_index()\n",
        "    sensitive_feature = mf.columns[0]\n",
        "    g = sns.catplot(mf,\n",
        "                    kind='bar', x=metric, y=sensitive_feature)\n",
        "    g.set(xlim=(0, 1))\n",
        "    if relative:\n",
        "        for ax in g.axes.flatten():\n",
        "            ax.axvline(threshold, ls='-', color='black')\n",
        "\n",
        "\n",
        "\n",
        "    return g"
      ],
      "metadata": {
        "id": "8kVjNsfa14IK"
      },
      "execution_count": null,
      "outputs": []
    },
    {
      "cell_type": "code",
      "source": [
        "visualize_fairness_metrics(mf, relative=True,\n",
        "                               metric='true_positive_rate', threshold=0.80)"
      ],
      "metadata": {
        "id": "YzzhVb6DmAql",
        "colab": {
          "base_uri": "https://localhost:8080/",
          "height": 524
        },
        "outputId": "5e169f96-ab21-44e8-9792-dfe81bbd7e93"
      },
      "execution_count": null,
      "outputs": [
        {
          "output_type": "execute_result",
          "data": {
            "text/plain": [
              "<seaborn.axisgrid.FacetGrid at 0x7a9250678fa0>"
            ]
          },
          "metadata": {},
          "execution_count": 32
        },
        {
          "output_type": "display_data",
          "data": {
            "text/plain": [
              "<Figure size 500x500 with 1 Axes>"
            ],
            "image/png": "[encoded data removed]"
          },
          "metadata": {}
        }
      ]
    },
    {
      "cell_type": "markdown",
      "source": [
        "### Confidence Intervals for Metrics (Using Bootstrap)\n",
        "\n"
      ],
      "metadata": {
        "id": "aQXavvguQXjC"
      }
    },
    {
      "cell_type": "markdown",
      "source": [
        "## Fairness/ Accuracy Tradeoff Map\n"
      ],
      "metadata": {
        "id": "jlpUg5jLALOK"
      }
    },
    {
      "cell_type": "code",
      "source": [
        "from sklearn.metrics import roc_curve, RocCurveDisplay\n",
        "\n",
        "# y_true = df.good30\n",
        "# y_prob_good_30 = 1-df.prediction\n",
        "y_true = df.good30\n",
        "y_prob = 1-df.prediction\n",
        "y_pred = df.above_normal\n"
      ],
      "metadata": {
        "id": "uKsWZrk1bAbB"
      },
      "execution_count": null,
      "outputs": []
    },
    {
      "cell_type": "code",
      "source": [
        "# 1. get the convex hull of the roc curve (https://stats.stackexchange.com/questions/120361/what-is-the-convex-hull-in-roc-curve)\n",
        "# 2. interpolate the curve\n",
        "# 3. using the tpr, fpr, compute for other metrics\n",
        "# 4."
      ],
      "metadata": {
        "id": "j1Fp8ArdYnJc"
      },
      "execution_count": null,
      "outputs": []
    },
    {
      "cell_type": "code",
      "source": [
        "mf.by_group"
      ],
      "metadata": {
        "colab": {
          "base_uri": "https://localhost:8080/",
          "height": 207
        },
        "id": "FO4yDsJi7-oB",
        "outputId": "66dd8a9d-d64d-42e0-d5a1-54d05676336b"
      },
      "execution_count": null,
      "outputs": [
        {
          "output_type": "execute_result",
          "data": {
            "text/plain": [
              "        accuracy_score  precision_score  recall_score  selection_rate  \\\n",
              "gender                                                                  \n",
              "FEMALE        0.700717         0.963841      0.698470        0.661764   \n",
              "MALE          0.700193         0.956464      0.693512        0.643043   \n",
              "\n",
              "        true_negative_rate  false_positive_rate  false_negative_rate  \\\n",
              "gender                                                                 \n",
              "FEMALE            0.724359             0.275641             0.301530   \n",
              "MALE              0.752560             0.247440             0.306488   \n",
              "\n",
              "        true_positive_rate  negative_predictive_value  false_discovery_rate  \\\n",
              "gender                                                                        \n",
              "FEMALE            0.698470                   0.185912              0.036159   \n",
              "MALE              0.693512                   0.238532              0.043536   \n",
              "\n",
              "        false_omission_rate  positive_predictive_value     count  \n",
              "gender                                                            \n",
              "FEMALE             0.814088                   0.963841  116806.0  \n",
              "MALE               0.761468                   0.956464   59545.0  "
            ],
            "text/html": [
              "\n",
              "\n",
              "  <div id=\"df-7c55bf4c-8cb5-4a85-a2e9-076a4ddad39c\">\n",
              "    <div class=\"colab-df-container\">\n",
              "      <div>\n",
              "<style scoped>\n",
              "    .dataframe tbody tr th:only-of-type {\n",
              "        vertical-align: middle;\n",
              "    }\n",
              "\n",
              "    .dataframe tbody tr th {\n",
              "        vertical-align: top;\n",
              "    }\n",
              "\n",
              "    .dataframe thead th {\n",
              "        text-align: right;\n",
              "    }\n",
              "</style>\n",
              "<table border=\"1\" class=\"dataframe\">\n",
              "  <thead>\n",
              "    <tr style=\"text-align: right;\">\n",
              "      <th></th>\n",
              "      <th>accuracy_score</th>\n",
              "      <th>precision_score</th>\n",
              "      <th>recall_score</th>\n",
              "      <th>selection_rate</th>\n",
              "      <th>true_negative_rate</th>\n",
              "      <th>false_positive_rate</th>\n",
              "      <th>false_negative_rate</th>\n",
              "      <th>true_positive_rate</th>\n",
              "      <th>negative_predictive_value</th>\n",
              "      <th>false_discovery_rate</th>\n",
              "      <th>false_omission_rate</th>\n",
              "      <th>positive_predictive_value</th>\n",
              "      <th>count</th>\n",
              "    </tr>\n",
              "    <tr>\n",
              "      <th>gender</th>\n",
              "      <th></th>\n",
              "      <th></th>\n",
              "      <th></th>\n",
              "      <th></th>\n",
              "      <th></th>\n",
              "      <th></th>\n",
              "      <th></th>\n",
              "      <th></th>\n",
              "      <th></th>\n",
              "      <th></th>\n",
              "      <th></th>\n",
              "      <th></th>\n",
              "      <th></th>\n",
              "    </tr>\n",
              "  </thead>\n",
              "  <tbody>\n",
              "    <tr>\n",
              "      <th>FEMALE</th>\n",
              "      <td>0.700717</td>\n",
              "      <td>0.963841</td>\n",
              "      <td>0.698470</td>\n",
              "      <td>0.661764</td>\n",
              "      <td>0.724359</td>\n",
              "      <td>0.275641</td>\n",
              "      <td>0.301530</td>\n",
              "      <td>0.698470</td>\n",
              "      <td>0.185912</td>\n",
              "      <td>0.036159</td>\n",
              "      <td>0.814088</td>\n",
              "      <td>0.963841</td>\n",
              "      <td>116806.0</td>\n",
              "    </tr>\n",
              "    <tr>\n",
              "      <th>MALE</th>\n",
              "      <td>0.700193</td>\n",
              "      <td>0.956464</td>\n",
              "      <td>0.693512</td>\n",
              "      <td>0.643043</td>\n",
              "      <td>0.752560</td>\n",
              "      <td>0.247440</td>\n",
              "      <td>0.306488</td>\n",
              "      <td>0.693512</td>\n",
              "      <td>0.238532</td>\n",
              "      <td>0.043536</td>\n",
              "      <td>0.761468</td>\n",
              "      <td>0.956464</td>\n",
              "      <td>59545.0</td>\n",
              "    </tr>\n",
              "  </tbody>\n",
              "</table>\n",
              "</div>\n",
              "      <button class=\"colab-df-convert\" onclick=\"convertToInteractive('df-7c55bf4c-8cb5-4a85-a2e9-076a4ddad39c')\"\n",
              "              title=\"Convert this dataframe to an interactive table.\"\n",
              "              style=\"display:none;\">\n",
              "\n",
              "  <svg xmlns=\"http://www.w3.org/2000/svg\" height=\"24px\"viewBox=\"0 0 24 24\"\n",
              "       width=\"24px\">\n",
              "    <path d=\"M0 0h24v24H0V0z\" fill=\"none\"/>\n",
              "    <path d=\"M18.56 5.44l.94 2.06.94-2.06 2.06-.94-2.06-.94-.94-2.06-.94 2.06-2.06.94zm-11 1L8.5 8.5l.94-2.06 2.06-.94-2.06-.94L8.5 2.5l-.94 2.06-2.06.94zm10 10l.94 2.06.94-2.06 2.06-.94-2.06-.94-.94-2.06-.94 2.06-2.06.94z\"/><path d=\"M17.41 7.96l-1.37-1.37c-.4-.4-.92-.59-1.43-.59-.52 0-1.04.2-1.43.59L10.3 9.45l-7.72 7.72c-.78.78-.78 2.05 0 2.83L4 21.41c.39.39.9.59 1.41.59.51 0 1.02-.2 1.41-.59l7.78-7.78 2.81-2.81c.8-.78.8-2.07 0-2.86zM5.41 20L4 18.59l7.72-7.72 1.47 1.35L5.41 20z\"/>\n",
              "  </svg>\n",
              "      </button>\n",
              "\n",
              "\n",
              "\n",
              "    <div id=\"df-71afcc46-2ba8-424a-a619-952580541935\">\n",
              "      <button class=\"colab-df-quickchart\" onclick=\"quickchart('df-71afcc46-2ba8-424a-a619-952580541935')\"\n",
              "              title=\"Suggest charts.\"\n",
              "              style=\"display:none;\">\n",
              "\n",
              "<svg xmlns=\"http://www.w3.org/2000/svg\" height=\"24px\"viewBox=\"0 0 24 24\"\n",
              "     width=\"24px\">\n",
              "    <g>\n",
              "        <path d=\"M19 3H5c-1.1 0-2 .9-2 2v14c0 1.1.9 2 2 2h14c1.1 0 2-.9 2-2V5c0-1.1-.9-2-2-2zM9 17H7v-7h2v7zm4 0h-2V7h2v10zm4 0h-2v-4h2v4z\"/>\n",
              "    </g>\n",
              "</svg>\n",
              "      </button>\n",
              "    </div>\n",
              "\n",
              "<style>\n",
              "  .colab-df-quickchart {\n",
              "    background-color: #E8F0FE;\n",
              "    border: none;\n",
              "    border-radius: 50%;\n",
              "    cursor: pointer;\n",
              "    display: none;\n",
              "    fill: #1967D2;\n",
              "    height: 32px;\n",
              "    padding: 0 0 0 0;\n",
              "    width: 32px;\n",
              "  }\n",
              "\n",
              "  .colab-df-quickchart:hover {\n",
              "    background-color: #E2EBFA;\n",
              "    box-shadow: 0px 1px 2px rgba(60, 64, 67, 0.3), 0px 1px 3px 1px rgba(60, 64, 67, 0.15);\n",
              "    fill: #174EA6;\n",
              "  }\n",
              "\n",
              "  [theme=dark] .colab-df-quickchart {\n",
              "    background-color: #3B4455;\n",
              "    fill: #D2E3FC;\n",
              "  }\n",
              "\n",
              "  [theme=dark] .colab-df-quickchart:hover {\n",
              "    background-color: #434B5C;\n",
              "    box-shadow: 0px 1px 3px 1px rgba(0, 0, 0, 0.15);\n",
              "    filter: drop-shadow(0px 1px 2px rgba(0, 0, 0, 0.3));\n",
              "    fill: #FFFFFF;\n",
              "  }\n",
              "</style>\n",
              "\n",
              "    <script>\n",
              "      async function quickchart(key) {\n",
              "        const containerElement = document.querySelector('#' + key);\n",
              "        const charts = await google.colab.kernel.invokeFunction(\n",
              "            'suggestCharts', [key], {});\n",
              "      }\n",
              "    </script>\n",
              "\n",
              "      <script>\n",
              "\n",
              "function displayQuickchartButton(domScope) {\n",
              "  let quickchartButtonEl =\n",
              "    domScope.querySelector('#df-71afcc46-2ba8-424a-a619-952580541935 button.colab-df-quickchart');\n",
              "  quickchartButtonEl.style.display =\n",
              "    google.colab.kernel.accessAllowed ? 'block' : 'none';\n",
              "}\n",
              "\n",
              "        displayQuickchartButton(document);\n",
              "      </script>\n",
              "      <style>\n",
              "    .colab-df-container {\n",
              "      display:flex;\n",
              "      flex-wrap:wrap;\n",
              "      gap: 12px;\n",
              "    }\n",
              "\n",
              "    .colab-df-convert {\n",
              "      background-color: #E8F0FE;\n",
              "      border: none;\n",
              "      border-radius: 50%;\n",
              "      cursor: pointer;\n",
              "      display: none;\n",
              "      fill: #1967D2;\n",
              "      height: 32px;\n",
              "      padding: 0 0 0 0;\n",
              "      width: 32px;\n",
              "    }\n",
              "\n",
              "    .colab-df-convert:hover {\n",
              "      background-color: #E2EBFA;\n",
              "      box-shadow: 0px 1px 2px rgba(60, 64, 67, 0.3), 0px 1px 3px 1px rgba(60, 64, 67, 0.15);\n",
              "      fill: #174EA6;\n",
              "    }\n",
              "\n",
              "    [theme=dark] .colab-df-convert {\n",
              "      background-color: #3B4455;\n",
              "      fill: #D2E3FC;\n",
              "    }\n",
              "\n",
              "    [theme=dark] .colab-df-convert:hover {\n",
              "      background-color: #434B5C;\n",
              "      box-shadow: 0px 1px 3px 1px rgba(0, 0, 0, 0.15);\n",
              "      filter: drop-shadow(0px 1px 2px rgba(0, 0, 0, 0.3));\n",
              "      fill: #FFFFFF;\n",
              "    }\n",
              "  </style>\n",
              "\n",
              "      <script>\n",
              "        const buttonEl =\n",
              "          document.querySelector('#df-7c55bf4c-8cb5-4a85-a2e9-076a4ddad39c button.colab-df-convert');\n",
              "        buttonEl.style.display =\n",
              "          google.colab.kernel.accessAllowed ? 'block' : 'none';\n",
              "\n",
              "        async function convertToInteractive(key) {\n",
              "          const element = document.querySelector('#df-7c55bf4c-8cb5-4a85-a2e9-076a4ddad39c');\n",
              "          const dataTable =\n",
              "            await google.colab.kernel.invokeFunction('convertToInteractive',\n",
              "                                                     [key], {});\n",
              "          if (!dataTable) return;\n",
              "\n",
              "          const docLinkHtml = 'Like what you see? Visit the ' +\n",
              "            '<a target=\"_blank\" href=https://colab.research.google.com/notebooks/data_table.ipynb>data table notebook</a>'\n",
              "            + ' to learn more about interactive tables.';\n",
              "          element.innerHTML = '';\n",
              "          dataTable['output_type'] = 'display_data';\n",
              "          await google.colab.output.renderOutput(dataTable, element);\n",
              "          const docLink = document.createElement('div');\n",
              "          docLink.innerHTML = docLinkHtml;\n",
              "          element.appendChild(docLink);\n",
              "        }\n",
              "      </script>\n",
              "    </div>\n",
              "  </div>\n"
            ]
          },
          "metadata": {},
          "execution_count": 273
        }
      ]
    },
    {
      "cell_type": "code",
      "source": [
        "from scipy.interpolate import interp1d\n",
        "\n",
        "class ModelRates:\n",
        "    \"\"\"Generate interpolation methods for the rates defined\"\"\"\n",
        "    def __init__(self, y_true, y_prob):\n",
        "        (ths, fpr, tpr, fnr, tnr, ppv, f_or, fdr, npv, sr) = self.compute_rates(y_true, y_prob)\n",
        "        # self.base_default_rate = bdr\n",
        "        self.fpr = interp1d(ths, fpr)\n",
        "        self.tpr = interp1d(ths, tpr)\n",
        "        self.fnr = interp1d(ths, fnr)\n",
        "        self.tnr = interp1d(ths, tnr)\n",
        "        self.ppv = interp1d(ths, ppv)\n",
        "        self.f_or = interp1d(ths, f_or)\n",
        "        self.fdr = interp1d(ths, fdr)\n",
        "        self.npv = interp1d(ths, npv)\n",
        "        self.sr = interp1d(ths, sr)\n",
        "\n",
        "    @staticmethod\n",
        "    def compute_rates(y_true, y_prob):\n",
        "        # Vectorizable computation of rates\n",
        "        fpr, tpr, ths = roc_curve(y_true, y_prob, pos_label=1)\n",
        "        ths[0] = 1.0  # roc_curve sets max threshold arbitrarily above 1\n",
        "        ths = np.append(ths, [0.0])  # Add endpoints for ease of interpolation\n",
        "        fpr = np.append(fpr, [1.0])\n",
        "        tpr = np.append(tpr, [1.0])\n",
        "\n",
        "\n",
        "        P, N = (y_true==1).sum(), (y_true==0).sum()\n",
        "        n = P + N\n",
        "\n",
        "        # Computed Metrics based on tpr, fpr\n",
        "        fnr = 1 - tpr\n",
        "        tnr = 1 - fpr\n",
        "\n",
        "        PP = tpr*P + fpr*N\n",
        "        PN = tnr*P + fnr*N\n",
        "        ppv = pd.Series(np.divide(tpr*P, PP,  out=np.zeros_like(PP)+1, where=(PP!=0))).bfill().values\n",
        "        f_or = pd.Series(np.divide(fnr*N, PN,  out=np.zeros_like(PP), where=(PN!=0))).ffill().values\n",
        "        fdr = 1 - ppv\n",
        "        npv = 1 - f_or\n",
        "        sr = PP/n\n",
        "\n",
        "        # base_default_rate = 1 - np.mean(y_true)\n",
        "        # accept_rate = (1 - base_default_rate) * tpr + base_default_rate * fpr\n",
        "        # prob_tp = (1 - base_default_rate) * tpr\n",
        "        # ppv = np.divide(prob_tp, accept_rate, out=np.zeros_like(prob_tp), where=(accept_rate != 0))\n",
        "        return (ths, fpr, tpr, fnr, tnr, ppv, f_or, fdr, npv, sr)"
      ],
      "metadata": {
        "id": "ODYyP-UKwiwR"
      },
      "execution_count": null,
      "outputs": []
    },
    {
      "cell_type": "code",
      "source": [
        "s_df = get_data_subset(df, y_true_col='good30',\n",
        "                        y_pred_col='above_gcredit', y_prob_col='prediction',\n",
        "                        sf_cols=['gender','marital_status', 'age__2023__ranges'])\n",
        "\n",
        "# protected_sf_subgroup = \"FEMALE\"\n",
        "s_df['sf_mask'] = ((s_df.gender==\"FEMALE\") & (s_df.age__2023__ranges=='18-24')& (s_df.marital_status=='SINGLE'))\n",
        "\n",
        "s_df"
      ],
      "metadata": {
        "colab": {
          "base_uri": "https://localhost:8080/",
          "height": 424
        },
        "id": "zUasuHC59TIq",
        "outputId": "cf46ef9c-8f59-4e91-8172-81dca3903524"
      },
      "execution_count": null,
      "outputs": [
        {
          "output_type": "execute_result",
          "data": {
            "text/plain": [
              "        good30  above_gcredit  prediction  gender marital_status  \\\n",
              "0            1              0    0.563409  FEMALE         SINGLE   \n",
              "1            1              1    0.189596    MALE         SINGLE   \n",
              "4            1              0    0.843810  FEMALE         SINGLE   \n",
              "6            1              0    0.454479  FEMALE         SINGLE   \n",
              "7            1              1    0.287038    MALE        MARRIED   \n",
              "...        ...            ...         ...     ...            ...   \n",
              "463156       1              0    0.567663    MALE         SINGLE   \n",
              "463157       1              1    0.256532  FEMALE         SINGLE   \n",
              "463158       1              0    0.704675  FEMALE         SINGLE   \n",
              "463159       1              0    0.370284  FEMALE         SINGLE   \n",
              "463160       1              0    0.414541  FEMALE        MARRIED   \n",
              "\n",
              "       age__2023__ranges  sf_mask  \n",
              "0                  25-34    False  \n",
              "1                  45-54    False  \n",
              "4                  18-24     True  \n",
              "6                  35-44    False  \n",
              "7                  35-44    False  \n",
              "...                  ...      ...  \n",
              "463156             25-34    False  \n",
              "463157             25-34    False  \n",
              "463158             35-44    False  \n",
              "463159             25-34    False  \n",
              "463160             25-34    False  \n",
              "\n",
              "[146581 rows x 7 columns]"
            ],
            "text/html": [
              "\n",
              "\n",
              "  <div id=\"df-561a04e9-b58f-4fce-b070-a30343f5f2b8\">\n",
              "    <div class=\"colab-df-container\">\n",
              "      <div>\n",
              "<style scoped>\n",
              "    .dataframe tbody tr th:only-of-type {\n",
              "        vertical-align: middle;\n",
              "    }\n",
              "\n",
              "    .dataframe tbody tr th {\n",
              "        vertical-align: top;\n",
              "    }\n",
              "\n",
              "    .dataframe thead th {\n",
              "        text-align: right;\n",
              "    }\n",
              "</style>\n",
              "<table border=\"1\" class=\"dataframe\">\n",
              "  <thead>\n",
              "    <tr style=\"text-align: right;\">\n",
              "      <th></th>\n",
              "      <th>good30</th>\n",
              "      <th>above_gcredit</th>\n",
              "      <th>prediction</th>\n",
              "      <th>gender</th>\n",
              "      <th>marital_status</th>\n",
              "      <th>age__2023__ranges</th>\n",
              "      <th>sf_mask</th>\n",
              "    </tr>\n",
              "  </thead>\n",
              "  <tbody>\n",
              "    <tr>\n",
              "      <th>0</th>\n",
              "      <td>1</td>\n",
              "      <td>0</td>\n",
              "      <td>0.563409</td>\n",
              "      <td>FEMALE</td>\n",
              "      <td>SINGLE</td>\n",
              "      <td>25-34</td>\n",
              "      <td>False</td>\n",
              "    </tr>\n",
              "    <tr>\n",
              "      <th>1</th>\n",
              "      <td>1</td>\n",
              "      <td>1</td>\n",
              "      <td>0.189596</td>\n",
              "      <td>MALE</td>\n",
              "      <td>SINGLE</td>\n",
              "      <td>45-54</td>\n",
              "      <td>False</td>\n",
              "    </tr>\n",
              "    <tr>\n",
              "      <th>4</th>\n",
              "      <td>1</td>\n",
              "      <td>0</td>\n",
              "      <td>0.843810</td>\n",
              "      <td>FEMALE</td>\n",
              "      <td>SINGLE</td>\n",
              "      <td>18-24</td>\n",
              "      <td>True</td>\n",
              "    </tr>\n",
              "    <tr>\n",
              "      <th>6</th>\n",
              "      <td>1</td>\n",
              "      <td>0</td>\n",
              "      <td>0.454479</td>\n",
              "      <td>FEMALE</td>\n",
              "      <td>SINGLE</td>\n",
              "      <td>35-44</td>\n",
              "      <td>False</td>\n",
              "    </tr>\n",
              "    <tr>\n",
              "      <th>7</th>\n",
              "      <td>1</td>\n",
              "      <td>1</td>\n",
              "      <td>0.287038</td>\n",
              "      <td>MALE</td>\n",
              "      <td>MARRIED</td>\n",
              "      <td>35-44</td>\n",
              "      <td>False</td>\n",
              "    </tr>\n",
              "    <tr>\n",
              "      <th>...</th>\n",
              "      <td>...</td>\n",
              "      <td>...</td>\n",
              "      <td>...</td>\n",
              "      <td>...</td>\n",
              "      <td>...</td>\n",
              "      <td>...</td>\n",
              "      <td>...</td>\n",
              "    </tr>\n",
              "    <tr>\n",
              "      <th>463156</th>\n",
              "      <td>1</td>\n",
              "      <td>0</td>\n",
              "      <td>0.567663</td>\n",
              "      <td>MALE</td>\n",
              "      <td>SINGLE</td>\n",
              "      <td>25-34</td>\n",
              "      <td>False</td>\n",
              "    </tr>\n",
              "    <tr>\n",
              "      <th>463157</th>\n",
              "      <td>1</td>\n",
              "      <td>1</td>\n",
              "      <td>0.256532</td>\n",
              "      <td>FEMALE</td>\n",
              "      <td>SINGLE</td>\n",
              "      <td>25-34</td>\n",
              "      <td>False</td>\n",
              "    </tr>\n",
              "    <tr>\n",
              "      <th>463158</th>\n",
              "      <td>1</td>\n",
              "      <td>0</td>\n",
              "      <td>0.704675</td>\n",
              "      <td>FEMALE</td>\n",
              "      <td>SINGLE</td>\n",
              "      <td>35-44</td>\n",
              "      <td>False</td>\n",
              "    </tr>\n",
              "    <tr>\n",
              "      <th>463159</th>\n",
              "      <td>1</td>\n",
              "      <td>0</td>\n",
              "      <td>0.370284</td>\n",
              "      <td>FEMALE</td>\n",
              "      <td>SINGLE</td>\n",
              "      <td>25-34</td>\n",
              "      <td>False</td>\n",
              "    </tr>\n",
              "    <tr>\n",
              "      <th>463160</th>\n",
              "      <td>1</td>\n",
              "      <td>0</td>\n",
              "      <td>0.414541</td>\n",
              "      <td>FEMALE</td>\n",
              "      <td>MARRIED</td>\n",
              "      <td>25-34</td>\n",
              "      <td>False</td>\n",
              "    </tr>\n",
              "  </tbody>\n",
              "</table>\n",
              "<p>146581 rows × 7 columns</p>\n",
              "</div>\n",
              "      <button class=\"colab-df-convert\" onclick=\"convertToInteractive('df-561a04e9-b58f-4fce-b070-a30343f5f2b8')\"\n",
              "              title=\"Convert this dataframe to an interactive table.\"\n",
              "              style=\"display:none;\">\n",
              "\n",
              "  <svg xmlns=\"http://www.w3.org/2000/svg\" height=\"24px\"viewBox=\"0 0 24 24\"\n",
              "       width=\"24px\">\n",
              "    <path d=\"M0 0h24v24H0V0z\" fill=\"none\"/>\n",
              "    <path d=\"M18.56 5.44l.94 2.06.94-2.06 2.06-.94-2.06-.94-.94-2.06-.94 2.06-2.06.94zm-11 1L8.5 8.5l.94-2.06 2.06-.94-2.06-.94L8.5 2.5l-.94 2.06-2.06.94zm10 10l.94 2.06.94-2.06 2.06-.94-2.06-.94-.94-2.06-.94 2.06-2.06.94z\"/><path d=\"M17.41 7.96l-1.37-1.37c-.4-.4-.92-.59-1.43-.59-.52 0-1.04.2-1.43.59L10.3 9.45l-7.72 7.72c-.78.78-.78 2.05 0 2.83L4 21.41c.39.39.9.59 1.41.59.51 0 1.02-.2 1.41-.59l7.78-7.78 2.81-2.81c.8-.78.8-2.07 0-2.86zM5.41 20L4 18.59l7.72-7.72 1.47 1.35L5.41 20z\"/>\n",
              "  </svg>\n",
              "      </button>\n",
              "\n",
              "\n",
              "\n",
              "    <div id=\"df-726351c5-748f-473d-bd3d-83a8bafe3788\">\n",
              "      <button class=\"colab-df-quickchart\" onclick=\"quickchart('df-726351c5-748f-473d-bd3d-83a8bafe3788')\"\n",
              "              title=\"Suggest charts.\"\n",
              "              style=\"display:none;\">\n",
              "\n",
              "<svg xmlns=\"http://www.w3.org/2000/svg\" height=\"24px\"viewBox=\"0 0 24 24\"\n",
              "     width=\"24px\">\n",
              "    <g>\n",
              "        <path d=\"M19 3H5c-1.1 0-2 .9-2 2v14c0 1.1.9 2 2 2h14c1.1 0 2-.9 2-2V5c0-1.1-.9-2-2-2zM9 17H7v-7h2v7zm4 0h-2V7h2v10zm4 0h-2v-4h2v4z\"/>\n",
              "    </g>\n",
              "</svg>\n",
              "      </button>\n",
              "    </div>\n",
              "\n",
              "<style>\n",
              "  .colab-df-quickchart {\n",
              "    background-color: #E8F0FE;\n",
              "    border: none;\n",
              "    border-radius: 50%;\n",
              "    cursor: pointer;\n",
              "    display: none;\n",
              "    fill: #1967D2;\n",
              "    height: 32px;\n",
              "    padding: 0 0 0 0;\n",
              "    width: 32px;\n",
              "  }\n",
              "\n",
              "  .colab-df-quickchart:hover {\n",
              "    background-color: #E2EBFA;\n",
              "    box-shadow: 0px 1px 2px rgba(60, 64, 67, 0.3), 0px 1px 3px 1px rgba(60, 64, 67, 0.15);\n",
              "    fill: #174EA6;\n",
              "  }\n",
              "\n",
              "  [theme=dark] .colab-df-quickchart {\n",
              "    background-color: #3B4455;\n",
              "    fill: #D2E3FC;\n",
              "  }\n",
              "\n",
              "  [theme=dark] .colab-df-quickchart:hover {\n",
              "    background-color: #434B5C;\n",
              "    box-shadow: 0px 1px 3px 1px rgba(0, 0, 0, 0.15);\n",
              "    filter: drop-shadow(0px 1px 2px rgba(0, 0, 0, 0.3));\n",
              "    fill: #FFFFFF;\n",
              "  }\n",
              "</style>\n",
              "\n",
              "    <script>\n",
              "      async function quickchart(key) {\n",
              "        const containerElement = document.querySelector('#' + key);\n",
              "        const charts = await google.colab.kernel.invokeFunction(\n",
              "            'suggestCharts', [key], {});\n",
              "      }\n",
              "    </script>\n",
              "\n",
              "      <script>\n",
              "\n",
              "function displayQuickchartButton(domScope) {\n",
              "  let quickchartButtonEl =\n",
              "    domScope.querySelector('#df-726351c5-748f-473d-bd3d-83a8bafe3788 button.colab-df-quickchart');\n",
              "  quickchartButtonEl.style.display =\n",
              "    google.colab.kernel.accessAllowed ? 'block' : 'none';\n",
              "}\n",
              "\n",
              "        displayQuickchartButton(document);\n",
              "      </script>\n",
              "      <style>\n",
              "    .colab-df-container {\n",
              "      display:flex;\n",
              "      flex-wrap:wrap;\n",
              "      gap: 12px;\n",
              "    }\n",
              "\n",
              "    .colab-df-convert {\n",
              "      background-color: #E8F0FE;\n",
              "      border: none;\n",
              "      border-radius: 50%;\n",
              "      cursor: pointer;\n",
              "      display: none;\n",
              "      fill: #1967D2;\n",
              "      height: 32px;\n",
              "      padding: 0 0 0 0;\n",
              "      width: 32px;\n",
              "    }\n",
              "\n",
              "    .colab-df-convert:hover {\n",
              "      background-color: #E2EBFA;\n",
              "      box-shadow: 0px 1px 2px rgba(60, 64, 67, 0.3), 0px 1px 3px 1px rgba(60, 64, 67, 0.15);\n",
              "      fill: #174EA6;\n",
              "    }\n",
              "\n",
              "    [theme=dark] .colab-df-convert {\n",
              "      background-color: #3B4455;\n",
              "      fill: #D2E3FC;\n",
              "    }\n",
              "\n",
              "    [theme=dark] .colab-df-convert:hover {\n",
              "      background-color: #434B5C;\n",
              "      box-shadow: 0px 1px 3px 1px rgba(0, 0, 0, 0.15);\n",
              "      filter: drop-shadow(0px 1px 2px rgba(0, 0, 0, 0.3));\n",
              "      fill: #FFFFFF;\n",
              "    }\n",
              "  </style>\n",
              "\n",
              "      <script>\n",
              "        const buttonEl =\n",
              "          document.querySelector('#df-561a04e9-b58f-4fce-b070-a30343f5f2b8 button.colab-df-convert');\n",
              "        buttonEl.style.display =\n",
              "          google.colab.kernel.accessAllowed ? 'block' : 'none';\n",
              "\n",
              "        async function convertToInteractive(key) {\n",
              "          const element = document.querySelector('#df-561a04e9-b58f-4fce-b070-a30343f5f2b8');\n",
              "          const dataTable =\n",
              "            await google.colab.kernel.invokeFunction('convertToInteractive',\n",
              "                                                     [key], {});\n",
              "          if (!dataTable) return;\n",
              "\n",
              "          const docLinkHtml = 'Like what you see? Visit the ' +\n",
              "            '<a target=\"_blank\" href=https://colab.research.google.com/notebooks/data_table.ipynb>data table notebook</a>'\n",
              "            + ' to learn more about interactive tables.';\n",
              "          element.innerHTML = '';\n",
              "          dataTable['output_type'] = 'display_data';\n",
              "          await google.colab.output.renderOutput(dataTable, element);\n",
              "          const docLink = document.createElement('div');\n",
              "          docLink.innerHTML = docLinkHtml;\n",
              "          element.appendChild(docLink);\n",
              "        }\n",
              "      </script>\n",
              "    </div>\n",
              "  </div>\n"
            ]
          },
          "metadata": {},
          "execution_count": 420
        }
      ]
    },
    {
      "cell_type": "code",
      "source": [
        "mf = generate_metric_frame(s_df, y_true_col='good30', y_prob_col='prediction', y_pred_col='above_gcredit', sf_cols=['gender'])\n",
        "\n",
        "mf.by_group"
      ],
      "metadata": {
        "colab": {
          "base_uri": "https://localhost:8080/",
          "height": 207
        },
        "id": "bEeRW5g6S_QO",
        "outputId": "900ba25e-b27b-4577-ab96-4d8d995d330e"
      },
      "execution_count": null,
      "outputs": [
        {
          "output_type": "execute_result",
          "data": {
            "text/plain": [
              "        accuracy_score  precision_score  recall_score  selection_rate  \\\n",
              "gender                                                                  \n",
              "FEMALE        0.425411          0.98465      0.379283        0.353206   \n",
              "MALE          0.447773          0.97944      0.386140        0.350040   \n",
              "\n",
              "        true_negative_rate  false_positive_rate  false_negative_rate  \\\n",
              "gender                                                                 \n",
              "FEMALE            0.934717             0.065283             0.620717   \n",
              "MALE              0.935816             0.064184             0.613860   \n",
              "\n",
              "        true_positive_rate  negative_predictive_value  false_discovery_rate  \\\n",
              "gender                                                                        \n",
              "FEMALE            0.379283                   0.120018               0.01535   \n",
              "MALE              0.386140                   0.161441               0.02056   \n",
              "\n",
              "        false_omission_rate  positive_predictive_value    count  \n",
              "gender                                                           \n",
              "FEMALE             0.879982                    0.98465  96281.0  \n",
              "MALE               0.838559                    0.97944  50300.0  "
            ],
            "text/html": [
              "\n",
              "\n",
              "  <div id=\"df-4832b97a-4629-4e4a-84ee-02b739c4a9ee\">\n",
              "    <div class=\"colab-df-container\">\n",
              "      <div>\n",
              "<style scoped>\n",
              "    .dataframe tbody tr th:only-of-type {\n",
              "        vertical-align: middle;\n",
              "    }\n",
              "\n",
              "    .dataframe tbody tr th {\n",
              "        vertical-align: top;\n",
              "    }\n",
              "\n",
              "    .dataframe thead th {\n",
              "        text-align: right;\n",
              "    }\n",
              "</style>\n",
              "<table border=\"1\" class=\"dataframe\">\n",
              "  <thead>\n",
              "    <tr style=\"text-align: right;\">\n",
              "      <th></th>\n",
              "      <th>accuracy_score</th>\n",
              "      <th>precision_score</th>\n",
              "      <th>recall_score</th>\n",
              "      <th>selection_rate</th>\n",
              "      <th>true_negative_rate</th>\n",
              "      <th>false_positive_rate</th>\n",
              "      <th>false_negative_rate</th>\n",
              "      <th>true_positive_rate</th>\n",
              "      <th>negative_predictive_value</th>\n",
              "      <th>false_discovery_rate</th>\n",
              "      <th>false_omission_rate</th>\n",
              "      <th>positive_predictive_value</th>\n",
              "      <th>count</th>\n",
              "    </tr>\n",
              "    <tr>\n",
              "      <th>gender</th>\n",
              "      <th></th>\n",
              "      <th></th>\n",
              "      <th></th>\n",
              "      <th></th>\n",
              "      <th></th>\n",
              "      <th></th>\n",
              "      <th></th>\n",
              "      <th></th>\n",
              "      <th></th>\n",
              "      <th></th>\n",
              "      <th></th>\n",
              "      <th></th>\n",
              "      <th></th>\n",
              "    </tr>\n",
              "  </thead>\n",
              "  <tbody>\n",
              "    <tr>\n",
              "      <th>FEMALE</th>\n",
              "      <td>0.425411</td>\n",
              "      <td>0.98465</td>\n",
              "      <td>0.379283</td>\n",
              "      <td>0.353206</td>\n",
              "      <td>0.934717</td>\n",
              "      <td>0.065283</td>\n",
              "      <td>0.620717</td>\n",
              "      <td>0.379283</td>\n",
              "      <td>0.120018</td>\n",
              "      <td>0.01535</td>\n",
              "      <td>0.879982</td>\n",
              "      <td>0.98465</td>\n",
              "      <td>96281.0</td>\n",
              "    </tr>\n",
              "    <tr>\n",
              "      <th>MALE</th>\n",
              "      <td>0.447773</td>\n",
              "      <td>0.97944</td>\n",
              "      <td>0.386140</td>\n",
              "      <td>0.350040</td>\n",
              "      <td>0.935816</td>\n",
              "      <td>0.064184</td>\n",
              "      <td>0.613860</td>\n",
              "      <td>0.386140</td>\n",
              "      <td>0.161441</td>\n",
              "      <td>0.02056</td>\n",
              "      <td>0.838559</td>\n",
              "      <td>0.97944</td>\n",
              "      <td>50300.0</td>\n",
              "    </tr>\n",
              "  </tbody>\n",
              "</table>\n",
              "</div>\n",
              "      <button class=\"colab-df-convert\" onclick=\"convertToInteractive('df-4832b97a-4629-4e4a-84ee-02b739c4a9ee')\"\n",
              "              title=\"Convert this dataframe to an interactive table.\"\n",
              "              style=\"display:none;\">\n",
              "\n",
              "  <svg xmlns=\"http://www.w3.org/2000/svg\" height=\"24px\"viewBox=\"0 0 24 24\"\n",
              "       width=\"24px\">\n",
              "    <path d=\"M0 0h24v24H0V0z\" fill=\"none\"/>\n",
              "    <path d=\"M18.56 5.44l.94 2.06.94-2.06 2.06-.94-2.06-.94-.94-2.06-.94 2.06-2.06.94zm-11 1L8.5 8.5l.94-2.06 2.06-.94-2.06-.94L8.5 2.5l-.94 2.06-2.06.94zm10 10l.94 2.06.94-2.06 2.06-.94-2.06-.94-.94-2.06-.94 2.06-2.06.94z\"/><path d=\"M17.41 7.96l-1.37-1.37c-.4-.4-.92-.59-1.43-.59-.52 0-1.04.2-1.43.59L10.3 9.45l-7.72 7.72c-.78.78-.78 2.05 0 2.83L4 21.41c.39.39.9.59 1.41.59.51 0 1.02-.2 1.41-.59l7.78-7.78 2.81-2.81c.8-.78.8-2.07 0-2.86zM5.41 20L4 18.59l7.72-7.72 1.47 1.35L5.41 20z\"/>\n",
              "  </svg>\n",
              "      </button>\n",
              "\n",
              "\n",
              "\n",
              "    <div id=\"df-7d2b023a-320c-42ca-87ea-bbe0c2380820\">\n",
              "      <button class=\"colab-df-quickchart\" onclick=\"quickchart('df-7d2b023a-320c-42ca-87ea-bbe0c2380820')\"\n",
              "              title=\"Suggest charts.\"\n",
              "              style=\"display:none;\">\n",
              "\n",
              "<svg xmlns=\"http://www.w3.org/2000/svg\" height=\"24px\"viewBox=\"0 0 24 24\"\n",
              "     width=\"24px\">\n",
              "    <g>\n",
              "        <path d=\"M19 3H5c-1.1 0-2 .9-2 2v14c0 1.1.9 2 2 2h14c1.1 0 2-.9 2-2V5c0-1.1-.9-2-2-2zM9 17H7v-7h2v7zm4 0h-2V7h2v10zm4 0h-2v-4h2v4z\"/>\n",
              "    </g>\n",
              "</svg>\n",
              "      </button>\n",
              "    </div>\n",
              "\n",
              "<style>\n",
              "  .colab-df-quickchart {\n",
              "    background-color: #E8F0FE;\n",
              "    border: none;\n",
              "    border-radius: 50%;\n",
              "    cursor: pointer;\n",
              "    display: none;\n",
              "    fill: #1967D2;\n",
              "    height: 32px;\n",
              "    padding: 0 0 0 0;\n",
              "    width: 32px;\n",
              "  }\n",
              "\n",
              "  .colab-df-quickchart:hover {\n",
              "    background-color: #E2EBFA;\n",
              "    box-shadow: 0px 1px 2px rgba(60, 64, 67, 0.3), 0px 1px 3px 1px rgba(60, 64, 67, 0.15);\n",
              "    fill: #174EA6;\n",
              "  }\n",
              "\n",
              "  [theme=dark] .colab-df-quickchart {\n",
              "    background-color: #3B4455;\n",
              "    fill: #D2E3FC;\n",
              "  }\n",
              "\n",
              "  [theme=dark] .colab-df-quickchart:hover {\n",
              "    background-color: #434B5C;\n",
              "    box-shadow: 0px 1px 3px 1px rgba(0, 0, 0, 0.15);\n",
              "    filter: drop-shadow(0px 1px 2px rgba(0, 0, 0, 0.3));\n",
              "    fill: #FFFFFF;\n",
              "  }\n",
              "</style>\n",
              "\n",
              "    <script>\n",
              "      async function quickchart(key) {\n",
              "        const containerElement = document.querySelector('#' + key);\n",
              "        const charts = await google.colab.kernel.invokeFunction(\n",
              "            'suggestCharts', [key], {});\n",
              "      }\n",
              "    </script>\n",
              "\n",
              "      <script>\n",
              "\n",
              "function displayQuickchartButton(domScope) {\n",
              "  let quickchartButtonEl =\n",
              "    domScope.querySelector('#df-7d2b023a-320c-42ca-87ea-bbe0c2380820 button.colab-df-quickchart');\n",
              "  quickchartButtonEl.style.display =\n",
              "    google.colab.kernel.accessAllowed ? 'block' : 'none';\n",
              "}\n",
              "\n",
              "        displayQuickchartButton(document);\n",
              "      </script>\n",
              "      <style>\n",
              "    .colab-df-container {\n",
              "      display:flex;\n",
              "      flex-wrap:wrap;\n",
              "      gap: 12px;\n",
              "    }\n",
              "\n",
              "    .colab-df-convert {\n",
              "      background-color: #E8F0FE;\n",
              "      border: none;\n",
              "      border-radius: 50%;\n",
              "      cursor: pointer;\n",
              "      display: none;\n",
              "      fill: #1967D2;\n",
              "      height: 32px;\n",
              "      padding: 0 0 0 0;\n",
              "      width: 32px;\n",
              "    }\n",
              "\n",
              "    .colab-df-convert:hover {\n",
              "      background-color: #E2EBFA;\n",
              "      box-shadow: 0px 1px 2px rgba(60, 64, 67, 0.3), 0px 1px 3px 1px rgba(60, 64, 67, 0.15);\n",
              "      fill: #174EA6;\n",
              "    }\n",
              "\n",
              "    [theme=dark] .colab-df-convert {\n",
              "      background-color: #3B4455;\n",
              "      fill: #D2E3FC;\n",
              "    }\n",
              "\n",
              "    [theme=dark] .colab-df-convert:hover {\n",
              "      background-color: #434B5C;\n",
              "      box-shadow: 0px 1px 3px 1px rgba(0, 0, 0, 0.15);\n",
              "      filter: drop-shadow(0px 1px 2px rgba(0, 0, 0, 0.3));\n",
              "      fill: #FFFFFF;\n",
              "    }\n",
              "  </style>\n",
              "\n",
              "      <script>\n",
              "        const buttonEl =\n",
              "          document.querySelector('#df-4832b97a-4629-4e4a-84ee-02b739c4a9ee button.colab-df-convert');\n",
              "        buttonEl.style.display =\n",
              "          google.colab.kernel.accessAllowed ? 'block' : 'none';\n",
              "\n",
              "        async function convertToInteractive(key) {\n",
              "          const element = document.querySelector('#df-4832b97a-4629-4e4a-84ee-02b739c4a9ee');\n",
              "          const dataTable =\n",
              "            await google.colab.kernel.invokeFunction('convertToInteractive',\n",
              "                                                     [key], {});\n",
              "          if (!dataTable) return;\n",
              "\n",
              "          const docLinkHtml = 'Like what you see? Visit the ' +\n",
              "            '<a target=\"_blank\" href=https://colab.research.google.com/notebooks/data_table.ipynb>data table notebook</a>'\n",
              "            + ' to learn more about interactive tables.';\n",
              "          element.innerHTML = '';\n",
              "          dataTable['output_type'] = 'display_data';\n",
              "          await google.colab.output.renderOutput(dataTable, element);\n",
              "          const docLink = document.createElement('div');\n",
              "          docLink.innerHTML = docLinkHtml;\n",
              "          element.appendChild(docLink);\n",
              "        }\n",
              "      </script>\n",
              "    </div>\n",
              "  </div>\n"
            ]
          },
          "metadata": {},
          "execution_count": 421
        }
      ]
    },
    {
      "cell_type": "code",
      "source": [
        "mf.difference()"
      ],
      "metadata": {
        "colab": {
          "base_uri": "https://localhost:8080/"
        },
        "id": "doWFKHIaTgZx",
        "outputId": "753ffacb-bf55-4c17-fcf2-18b872935567"
      },
      "execution_count": null,
      "outputs": [
        {
          "output_type": "execute_result",
          "data": {
            "text/plain": [
              "accuracy_score                   0.022362\n",
              "precision_score                  0.005210\n",
              "recall_score                     0.006857\n",
              "selection_rate                   0.003166\n",
              "true_negative_rate               0.001098\n",
              "false_positive_rate              0.001098\n",
              "false_negative_rate              0.006857\n",
              "true_positive_rate               0.006857\n",
              "negative_predictive_value        0.041423\n",
              "false_discovery_rate             0.005210\n",
              "false_omission_rate              0.041423\n",
              "positive_predictive_value        0.005210\n",
              "count                        45981.000000\n",
              "dtype: float64"
            ]
          },
          "metadata": {},
          "execution_count": 422
        }
      ]
    },
    {
      "cell_type": "code",
      "source": [
        "mf.ratio()"
      ],
      "metadata": {
        "colab": {
          "base_uri": "https://localhost:8080/"
        },
        "id": "d5lniRmIabqL",
        "outputId": "c8895241-af61-42ca-d7ef-2ac5e758ac4d"
      },
      "execution_count": null,
      "outputs": [
        {
          "output_type": "execute_result",
          "data": {
            "text/plain": [
              "accuracy_score               0.972627\n",
              "precision_score              0.993924\n",
              "recall_score                 0.963000\n",
              "selection_rate               0.945005\n",
              "true_negative_rate           0.948734\n",
              "false_positive_rate          0.863909\n",
              "false_negative_rate          0.917685\n",
              "true_positive_rate           0.963000\n",
              "negative_predictive_value    0.821809\n",
              "false_discovery_rate         0.850660\n",
              "false_omission_rate          0.954181\n",
              "positive_predictive_value    0.993924\n",
              "count                        0.649113\n",
              "dtype: float64"
            ]
          },
          "metadata": {},
          "execution_count": 347
        }
      ]
    },
    {
      "cell_type": "code",
      "source": [
        "# class FairnessAnalysis:\n",
        "\n",
        "#     def __init__(self, y_true, y_prob, y_pred, sf_mask):\n",
        "\n",
        "\n",
        "\n",
        "# d\n",
        "\n",
        "\n"
      ],
      "metadata": {
        "id": "b-_YY9YN0tS_"
      },
      "execution_count": null,
      "outputs": []
    },
    {
      "cell_type": "code",
      "source": [
        "from collections import namedtuple"
      ],
      "metadata": {
        "id": "G9jjKP3u_cDp"
      },
      "execution_count": null,
      "outputs": []
    },
    {
      "cell_type": "code",
      "source": [
        "rates_st = ModelRates(y_true, y_prob)\n",
        "\n",
        "\n",
        "tpr_a = self.rates_a.tpr(th_a), self.rates_b.tpr(th_b)\n",
        "fpr_a, fpr_b = self.rates_a.fpr(th_a), self.rates_b.fpr(th_b)\n",
        "equal_opp = tpr_a - tpr_b\n",
        "fpr_bal = fpr_a - fpr_b\n",
        "avg_odds = 0.5 * (equal_opp + fpr_bal)\n",
        "dem_parity = self.rates_a.sr(th_a) - self.rates_b.sr(th_b)\n",
        "ppv_parity = self.rates_a.ppv(th_a) - self.rates_b.ppv(th_b)\n"
      ],
      "metadata": {
        "id": "3cCfs1nq_eAU"
      },
      "execution_count": null,
      "outputs": []
    },
    {
      "cell_type": "code",
      "source": [
        "class FairnessAnalysis:\n",
        "    Metrics = namedtuple('Metrics', 'equal_opp fpr_bal avg_odds dem_parity ppv_parity bal_acc, tpr')\n",
        "\n",
        "    metric_names = {'equal_opp': 'Equal Opportunity',\n",
        "                    'fpr_bal': 'False Positive Rate Balance',\n",
        "                    'avg_odds': 'Average Odds',\n",
        "                    'dem_parity': 'Demographic Parity',\n",
        "                    'ppv_parity': 'Positive Predictive Parity',\n",
        "                    'bal_acc': 'Balanced Accuracy',\n",
        "                    'tpr': 'recall'}\n",
        "\n",
        "    def __init__(self, y_true, y_prob, group_mask):\n",
        "        self.rates_a = ModelRates(y_true[group_mask], y_prob[group_mask])\n",
        "        self.rates_b = ModelRates(y_true[~group_mask], y_prob[~group_mask])\n",
        "        self.y_true = y_true\n",
        "        self.y_prob = y_prob\n",
        "        self.group_mask = group_mask\n",
        "        assert np.sum(y_true == 1) + np.sum(y_true == 0) == len(y_true)  # Confirm 1, 0 labelling\n",
        "\n",
        "    def compute(self, th_a=0.5, th_b=None):\n",
        "        # Vectorizable\n",
        "        if th_b is None:\n",
        "            th_b = th_a\n",
        "\n",
        "        # Fairness\n",
        "        tpr_a, tpr_b = self.rates_a.tpr(th_a), self.rates_b.tpr(th_b)\n",
        "        fpr_a, fpr_b = self.rates_a.fpr(th_a), self.rates_b.fpr(th_b)\n",
        "        equal_opp = tpr_a - tpr_b\n",
        "        fpr_bal = fpr_a - fpr_b\n",
        "        avg_odds = 0.5 * (equal_opp + fpr_bal)\n",
        "        dem_parity = self.rates_a.sr(th_a) - self.rates_b.sr(th_b)\n",
        "        ppv_parity = self.rates_a.ppv(th_a) - self.rates_b.ppv(th_b)\n",
        "\n",
        "        # Performance\n",
        "        # Combine TPRs: P(R=1|Y=1) = P(R=1|Y=1,A=1)P(A=1|Y=1) + P(R=1|Y=1,A=0)P(A=0|Y=1)\n",
        "        tpr = (tpr_a * np.mean(self.group_mask[self.y_true == 1]) +\n",
        "               tpr_b * np.mean(~self.group_mask[self.y_true == 1]))\n",
        "        # Combine FPRs: P(R=1|Y=0) = P(R=1|Y=0,A=1)P(A=1|Y=0) + P(R=1|Y=0,A=0)P(A=0|Y=0)\n",
        "        fpr = (fpr_a * np.mean(self.group_mask[self.y_true == 0]) +\n",
        "               fpr_b * np.mean(~self.group_mask[self.y_true == 0]))\n",
        "        bal_acc = 0.5 * (tpr + 1-fpr)\n",
        "\n",
        "        return self.Metrics(equal_opp, fpr_bal, avg_odds, dem_parity, ppv_parity, bal_acc, tpr)"
      ],
      "metadata": {
        "id": "WGePdnAJ06IU"
      },
      "execution_count": null,
      "outputs": []
    },
    {
      "cell_type": "code",
      "source": [
        "sample = FairnessAnalysis(y_true=s_df['good30'], y_prob=1-s_df['prediction'], group_mask=s_df['sf_mask'])"
      ],
      "metadata": {
        "id": "K_cnok4e0_uC"
      },
      "execution_count": null,
      "outputs": []
    },
    {
      "cell_type": "code",
      "source": [
        "sample_split_sweep_single = sample.compute(0.7)"
      ],
      "metadata": {
        "id": "ak036o9tWApu"
      },
      "execution_count": null,
      "outputs": []
    },
    {
      "cell_type": "code",
      "source": [
        "sample_split_sweep_single"
      ],
      "metadata": {
        "colab": {
          "base_uri": "https://localhost:8080/"
        },
        "id": "srlVr-FGWE7n",
        "outputId": "21bedcd5-e9c9-4549-b803-ccdb998e3ce8"
      },
      "execution_count": null,
      "outputs": [
        {
          "output_type": "execute_result",
          "data": {
            "text/plain": [
              "Metrics(equal_opp=-0.04974678047740072, fpr_bal=-0.02066836544471367, avg_odds=-0.0352075729610572, dem_parity=-0.049424675329812706, ppv_parity=0.002275229527638478, bal_acc=0.6583720366515187, tpr=0.3815724687269153)"
            ]
          },
          "metadata": {},
          "execution_count": 425
        }
      ]
    },
    {
      "cell_type": "code",
      "source": [
        "mf.difference()"
      ],
      "metadata": {
        "colab": {
          "base_uri": "https://localhost:8080/"
        },
        "id": "eKSCD7gtWWdC",
        "outputId": "d9377251-a254-47e4-fc92-5cb8e35dfcb7"
      },
      "execution_count": null,
      "outputs": [
        {
          "output_type": "execute_result",
          "data": {
            "text/plain": [
              "accuracy_score                   0.022362\n",
              "precision_score                  0.005210\n",
              "recall_score                     0.006857\n",
              "selection_rate                   0.003166\n",
              "true_negative_rate               0.001098\n",
              "false_positive_rate              0.001098\n",
              "false_negative_rate              0.006857\n",
              "true_positive_rate               0.006857\n",
              "negative_predictive_value        0.041423\n",
              "false_discovery_rate             0.005210\n",
              "false_omission_rate              0.041423\n",
              "positive_predictive_value        0.005210\n",
              "count                        45981.000000\n",
              "dtype: float64"
            ]
          },
          "metadata": {},
          "execution_count": 426
        }
      ]
    },
    {
      "cell_type": "code",
      "source": [
        "mf.by_group"
      ],
      "metadata": {
        "colab": {
          "base_uri": "https://localhost:8080/",
          "height": 207
        },
        "id": "pvgsN_JRXThQ",
        "outputId": "d8ed80a8-b50b-4026-b0c5-3cbf4d8e3f6c"
      },
      "execution_count": null,
      "outputs": [
        {
          "output_type": "execute_result",
          "data": {
            "text/plain": [
              "                               accuracy_score  precision_score  recall_score  \\\n",
              "marital_status__never_married                                                  \n",
              "0.0                                  0.441765         0.984171      0.400073   \n",
              "1.0                                  0.430997         0.981615      0.373314   \n",
              "\n",
              "                               selection_rate  true_negative_rate  \\\n",
              "marital_status__never_married                                       \n",
              "0.0                                  0.374243            0.925364   \n",
              "1.0                                  0.341491            0.938484   \n",
              "\n",
              "                               false_positive_rate  false_negative_rate  \\\n",
              "marital_status__never_married                                             \n",
              "0.0                                       0.074636             0.599927   \n",
              "1.0                                       0.061516             0.626686   \n",
              "\n",
              "                               true_positive_rate  negative_predictive_value  \\\n",
              "marital_status__never_married                                                  \n",
              "0.0                                      0.400073                   0.117372   \n",
              "1.0                                      0.373314                   0.145456   \n",
              "\n",
              "                               false_discovery_rate  false_omission_rate  \\\n",
              "marital_status__never_married                                              \n",
              "0.0                                        0.015829             0.882628   \n",
              "1.0                                        0.018385             0.854544   \n",
              "\n",
              "                               positive_predictive_value    count  \n",
              "marital_status__never_married                                      \n",
              "0.0                                             0.984171  59758.0  \n",
              "1.0                                             0.981615  92061.0  "
            ],
            "text/html": [
              "\n",
              "\n",
              "  <div id=\"df-1af54527-49b0-4529-bedc-72ea65584a3a\">\n",
              "    <div class=\"colab-df-container\">\n",
              "      <div>\n",
              "<style scoped>\n",
              "    .dataframe tbody tr th:only-of-type {\n",
              "        vertical-align: middle;\n",
              "    }\n",
              "\n",
              "    .dataframe tbody tr th {\n",
              "        vertical-align: top;\n",
              "    }\n",
              "\n",
              "    .dataframe thead th {\n",
              "        text-align: right;\n",
              "    }\n",
              "</style>\n",
              "<table border=\"1\" class=\"dataframe\">\n",
              "  <thead>\n",
              "    <tr style=\"text-align: right;\">\n",
              "      <th></th>\n",
              "      <th>accuracy_score</th>\n",
              "      <th>precision_score</th>\n",
              "      <th>recall_score</th>\n",
              "      <th>selection_rate</th>\n",
              "      <th>true_negative_rate</th>\n",
              "      <th>false_positive_rate</th>\n",
              "      <th>false_negative_rate</th>\n",
              "      <th>true_positive_rate</th>\n",
              "      <th>negative_predictive_value</th>\n",
              "      <th>false_discovery_rate</th>\n",
              "      <th>false_omission_rate</th>\n",
              "      <th>positive_predictive_value</th>\n",
              "      <th>count</th>\n",
              "    </tr>\n",
              "    <tr>\n",
              "      <th>marital_status__never_married</th>\n",
              "      <th></th>\n",
              "      <th></th>\n",
              "      <th></th>\n",
              "      <th></th>\n",
              "      <th></th>\n",
              "      <th></th>\n",
              "      <th></th>\n",
              "      <th></th>\n",
              "      <th></th>\n",
              "      <th></th>\n",
              "      <th></th>\n",
              "      <th></th>\n",
              "      <th></th>\n",
              "    </tr>\n",
              "  </thead>\n",
              "  <tbody>\n",
              "    <tr>\n",
              "      <th>0.0</th>\n",
              "      <td>0.441765</td>\n",
              "      <td>0.984171</td>\n",
              "      <td>0.400073</td>\n",
              "      <td>0.374243</td>\n",
              "      <td>0.925364</td>\n",
              "      <td>0.074636</td>\n",
              "      <td>0.599927</td>\n",
              "      <td>0.400073</td>\n",
              "      <td>0.117372</td>\n",
              "      <td>0.015829</td>\n",
              "      <td>0.882628</td>\n",
              "      <td>0.984171</td>\n",
              "      <td>59758.0</td>\n",
              "    </tr>\n",
              "    <tr>\n",
              "      <th>1.0</th>\n",
              "      <td>0.430997</td>\n",
              "      <td>0.981615</td>\n",
              "      <td>0.373314</td>\n",
              "      <td>0.341491</td>\n",
              "      <td>0.938484</td>\n",
              "      <td>0.061516</td>\n",
              "      <td>0.626686</td>\n",
              "      <td>0.373314</td>\n",
              "      <td>0.145456</td>\n",
              "      <td>0.018385</td>\n",
              "      <td>0.854544</td>\n",
              "      <td>0.981615</td>\n",
              "      <td>92061.0</td>\n",
              "    </tr>\n",
              "  </tbody>\n",
              "</table>\n",
              "</div>\n",
              "      <button class=\"colab-df-convert\" onclick=\"convertToInteractive('df-1af54527-49b0-4529-bedc-72ea65584a3a')\"\n",
              "              title=\"Convert this dataframe to an interactive table.\"\n",
              "              style=\"display:none;\">\n",
              "\n",
              "  <svg xmlns=\"http://www.w3.org/2000/svg\" height=\"24px\"viewBox=\"0 0 24 24\"\n",
              "       width=\"24px\">\n",
              "    <path d=\"M0 0h24v24H0V0z\" fill=\"none\"/>\n",
              "    <path d=\"M18.56 5.44l.94 2.06.94-2.06 2.06-.94-2.06-.94-.94-2.06-.94 2.06-2.06.94zm-11 1L8.5 8.5l.94-2.06 2.06-.94-2.06-.94L8.5 2.5l-.94 2.06-2.06.94zm10 10l.94 2.06.94-2.06 2.06-.94-2.06-.94-.94-2.06-.94 2.06-2.06.94z\"/><path d=\"M17.41 7.96l-1.37-1.37c-.4-.4-.92-.59-1.43-.59-.52 0-1.04.2-1.43.59L10.3 9.45l-7.72 7.72c-.78.78-.78 2.05 0 2.83L4 21.41c.39.39.9.59 1.41.59.51 0 1.02-.2 1.41-.59l7.78-7.78 2.81-2.81c.8-.78.8-2.07 0-2.86zM5.41 20L4 18.59l7.72-7.72 1.47 1.35L5.41 20z\"/>\n",
              "  </svg>\n",
              "      </button>\n",
              "\n",
              "\n",
              "\n",
              "    <div id=\"df-f0321335-7297-4fc7-9744-874f049b4801\">\n",
              "      <button class=\"colab-df-quickchart\" onclick=\"quickchart('df-f0321335-7297-4fc7-9744-874f049b4801')\"\n",
              "              title=\"Suggest charts.\"\n",
              "              style=\"display:none;\">\n",
              "\n",
              "<svg xmlns=\"http://www.w3.org/2000/svg\" height=\"24px\"viewBox=\"0 0 24 24\"\n",
              "     width=\"24px\">\n",
              "    <g>\n",
              "        <path d=\"M19 3H5c-1.1 0-2 .9-2 2v14c0 1.1.9 2 2 2h14c1.1 0 2-.9 2-2V5c0-1.1-.9-2-2-2zM9 17H7v-7h2v7zm4 0h-2V7h2v10zm4 0h-2v-4h2v4z\"/>\n",
              "    </g>\n",
              "</svg>\n",
              "      </button>\n",
              "    </div>\n",
              "\n",
              "<style>\n",
              "  .colab-df-quickchart {\n",
              "    background-color: #E8F0FE;\n",
              "    border: none;\n",
              "    border-radius: 50%;\n",
              "    cursor: pointer;\n",
              "    display: none;\n",
              "    fill: #1967D2;\n",
              "    height: 32px;\n",
              "    padding: 0 0 0 0;\n",
              "    width: 32px;\n",
              "  }\n",
              "\n",
              "  .colab-df-quickchart:hover {\n",
              "    background-color: #E2EBFA;\n",
              "    box-shadow: 0px 1px 2px rgba(60, 64, 67, 0.3), 0px 1px 3px 1px rgba(60, 64, 67, 0.15);\n",
              "    fill: #174EA6;\n",
              "  }\n",
              "\n",
              "  [theme=dark] .colab-df-quickchart {\n",
              "    background-color: #3B4455;\n",
              "    fill: #D2E3FC;\n",
              "  }\n",
              "\n",
              "  [theme=dark] .colab-df-quickchart:hover {\n",
              "    background-color: #434B5C;\n",
              "    box-shadow: 0px 1px 3px 1px rgba(0, 0, 0, 0.15);\n",
              "    filter: drop-shadow(0px 1px 2px rgba(0, 0, 0, 0.3));\n",
              "    fill: #FFFFFF;\n",
              "  }\n",
              "</style>\n",
              "\n",
              "    <script>\n",
              "      async function quickchart(key) {\n",
              "        const containerElement = document.querySelector('#' + key);\n",
              "        const charts = await google.colab.kernel.invokeFunction(\n",
              "            'suggestCharts', [key], {});\n",
              "      }\n",
              "    </script>\n",
              "\n",
              "      <script>\n",
              "\n",
              "function displayQuickchartButton(domScope) {\n",
              "  let quickchartButtonEl =\n",
              "    domScope.querySelector('#df-f0321335-7297-4fc7-9744-874f049b4801 button.colab-df-quickchart');\n",
              "  quickchartButtonEl.style.display =\n",
              "    google.colab.kernel.accessAllowed ? 'block' : 'none';\n",
              "}\n",
              "\n",
              "        displayQuickchartButton(document);\n",
              "      </script>\n",
              "      <style>\n",
              "    .colab-df-container {\n",
              "      display:flex;\n",
              "      flex-wrap:wrap;\n",
              "      gap: 12px;\n",
              "    }\n",
              "\n",
              "    .colab-df-convert {\n",
              "      background-color: #E8F0FE;\n",
              "      border: none;\n",
              "      border-radius: 50%;\n",
              "      cursor: pointer;\n",
              "      display: none;\n",
              "      fill: #1967D2;\n",
              "      height: 32px;\n",
              "      padding: 0 0 0 0;\n",
              "      width: 32px;\n",
              "    }\n",
              "\n",
              "    .colab-df-convert:hover {\n",
              "      background-color: #E2EBFA;\n",
              "      box-shadow: 0px 1px 2px rgba(60, 64, 67, 0.3), 0px 1px 3px 1px rgba(60, 64, 67, 0.15);\n",
              "      fill: #174EA6;\n",
              "    }\n",
              "\n",
              "    [theme=dark] .colab-df-convert {\n",
              "      background-color: #3B4455;\n",
              "      fill: #D2E3FC;\n",
              "    }\n",
              "\n",
              "    [theme=dark] .colab-df-convert:hover {\n",
              "      background-color: #434B5C;\n",
              "      box-shadow: 0px 1px 3px 1px rgba(0, 0, 0, 0.15);\n",
              "      filter: drop-shadow(0px 1px 2px rgba(0, 0, 0, 0.3));\n",
              "      fill: #FFFFFF;\n",
              "    }\n",
              "  </style>\n",
              "\n",
              "      <script>\n",
              "        const buttonEl =\n",
              "          document.querySelector('#df-1af54527-49b0-4529-bedc-72ea65584a3a button.colab-df-convert');\n",
              "        buttonEl.style.display =\n",
              "          google.colab.kernel.accessAllowed ? 'block' : 'none';\n",
              "\n",
              "        async function convertToInteractive(key) {\n",
              "          const element = document.querySelector('#df-1af54527-49b0-4529-bedc-72ea65584a3a');\n",
              "          const dataTable =\n",
              "            await google.colab.kernel.invokeFunction('convertToInteractive',\n",
              "                                                     [key], {});\n",
              "          if (!dataTable) return;\n",
              "\n",
              "          const docLinkHtml = 'Like what you see? Visit the ' +\n",
              "            '<a target=\"_blank\" href=https://colab.research.google.com/notebooks/data_table.ipynb>data table notebook</a>'\n",
              "            + ' to learn more about interactive tables.';\n",
              "          element.innerHTML = '';\n",
              "          dataTable['output_type'] = 'display_data';\n",
              "          await google.colab.output.renderOutput(dataTable, element);\n",
              "          const docLink = document.createElement('div');\n",
              "          docLink.innerHTML = docLinkHtml;\n",
              "          element.appendChild(docLink);\n",
              "        }\n",
              "      </script>\n",
              "    </div>\n",
              "  </div>\n"
            ]
          },
          "metadata": {},
          "execution_count": 393
        }
      ]
    },
    {
      "cell_type": "code",
      "source": [
        "s_df['above_normal'].value_counts(), (s_df['prediction']<=0.50).value_counts(), s_df['good30'].value_counts()"
      ],
      "metadata": {
        "colab": {
          "base_uri": "https://localhost:8080/"
        },
        "id": "AvgdbiKQW9z7",
        "outputId": "90654955-22e3-47f6-9eb5-0a500a15d100"
      },
      "execution_count": null,
      "outputs": [
        {
          "output_type": "execute_result",
          "data": {
            "text/plain": [
              "(1    98963\n",
              " 0    52856\n",
              " Name: above_normal, dtype: int64,\n",
              " True     98963\n",
              " False    52856\n",
              " Name: prediction, dtype: int64,\n",
              " 1    137680\n",
              " 0     14139\n",
              " Name: good30, dtype: int64)"
            ]
          },
          "metadata": {},
          "execution_count": 360
        }
      ]
    },
    {
      "cell_type": "code",
      "source": [
        "confusion_matrix(y_true=s_df['good30'], y_pred=s_df['above_normal'])"
      ],
      "metadata": {
        "colab": {
          "base_uri": "https://localhost:8080/"
        },
        "id": "0AOk4HMjWq78",
        "outputId": "d02a5692-36de-4a40-fd6b-e06f88a84c93"
      },
      "execution_count": null,
      "outputs": [
        {
          "output_type": "execute_result",
          "data": {
            "text/plain": [
              "array([[10484,  3655],\n",
              "       [42372, 95308]])"
            ]
          },
          "metadata": {},
          "execution_count": 361
        }
      ]
    },
    {
      "cell_type": "code",
      "source": [],
      "metadata": {
        "id": "dPKlPS0BXSRH"
      },
      "execution_count": null,
      "outputs": []
    },
    {
      "cell_type": "code",
      "source": [
        "confusion_matrix(y_true=s_df['good30'], y_pred= s_df['above_normal'], normalize=\"pred\").ravel()"
      ],
      "metadata": {
        "colab": {
          "base_uri": "https://localhost:8080/"
        },
        "id": "rmnogtqKWqGL",
        "outputId": "359be72d-f2f2-4e91-bbde-0dd8a9c3d4b2"
      },
      "execution_count": null,
      "outputs": [
        {
          "output_type": "execute_result",
          "data": {
            "text/plain": [
              "array([0.20431842, 0.03860262, 0.79568158, 0.96139738])"
            ]
          },
          "metadata": {},
          "execution_count": 300
        }
      ]
    },
    {
      "cell_type": "code",
      "source": [
        "# Split Threshold Sweep\n",
        "th_a = np.linspace(0, 1, 1000)\n",
        "th_b = np.linspace(0, 1, 1000)\n",
        "grid_th_a, grid_th_b = np.meshgrid(th_a, th_b, sparse=True)\n",
        "sample_split_sweep = sample.compute(grid_th_a, grid_th_b)"
      ],
      "metadata": {
        "id": "ENcwR63BA8X6"
      },
      "execution_count": null,
      "outputs": []
    },
    {
      "cell_type": "code",
      "source": [
        "# Find best split threshold\n",
        "bal_acc_grid = sample_split_sweep.tpr\n",
        "idx = np.unravel_index(bal_acc_grid.argmax(), bal_acc_grid.shape)\n",
        "best_th_a, best_th_b = th_a[idx[1]], th_b[idx[0]]\n",
        "print(f\"Best Recall Score (split): {bal_acc_grid.max():.5f} with Male TH: {best_th_a:.3f}, Female TH: {best_th_b:.3f}\")"
      ],
      "metadata": {
        "colab": {
          "base_uri": "https://localhost:8080/"
        },
        "id": "FGscMHPFUdsE",
        "outputId": "07ff1421-7520-4ee1-d790-f10fd5bda618"
      },
      "execution_count": null,
      "outputs": [
        {
          "output_type": "stream",
          "name": "stdout",
          "text": [
            "Best Recall Score (split): 1.00000 with Male TH: 0.000, Female TH: 0.000\n"
          ]
        }
      ]
    },
    {
      "cell_type": "code",
      "source": [
        "th_a[54], th_b[48]"
      ],
      "metadata": {
        "colab": {
          "base_uri": "https://localhost:8080/"
        },
        "id": "1Pzp3SvtZBUD",
        "outputId": "022c7b04-409a-4092-9eec-e1077aa95fee"
      },
      "execution_count": null,
      "outputs": [
        {
          "output_type": "execute_result",
          "data": {
            "text/plain": [
              "(0.05405405405405406, 0.04804804804804805)"
            ]
          },
          "metadata": {},
          "execution_count": 329
        }
      ]
    },
    {
      "cell_type": "code",
      "source": [
        "bal_acc_grid[54, 48]"
      ],
      "metadata": {
        "colab": {
          "base_uri": "https://localhost:8080/"
        },
        "id": "JKFhjeYGY5pm",
        "outputId": "62aea623-79f6-4a69-9beb-151102002983"
      },
      "execution_count": null,
      "outputs": [
        {
          "output_type": "execute_result",
          "data": {
            "text/plain": [
              "1.0"
            ]
          },
          "metadata": {},
          "execution_count": 327
        }
      ]
    },
    {
      "cell_type": "code",
      "source": [
        "np.where(bal_acc_grid==1)"
      ],
      "metadata": {
        "colab": {
          "base_uri": "https://localhost:8080/"
        },
        "id": "p2vsyUt4YKRz",
        "outputId": "a4158414-1ff0-4023-9f74-5aea647637f4"
      },
      "execution_count": null,
      "outputs": [
        {
          "output_type": "execute_result",
          "data": {
            "text/plain": [
              "(array([ 0,  0,  0, ..., 54, 54, 54]), array([ 0,  1,  2, ..., 46, 47, 48]))"
            ]
          },
          "metadata": {},
          "execution_count": 324
        }
      ]
    },
    {
      "cell_type": "code",
      "source": [
        "# Find bal accuracy when fairness constrained\n",
        "constrained_bal_acc = np.copy(bal_acc_grid)\n",
        "constrained_bal_acc[np.where(sample_split_sweep.equal_opp <= -0.000)] = 0\n",
        "idx = np.unravel_index(constrained_bal_acc.argmax(), constrained_bal_acc.shape)\n",
        "best_con_th_a, best_con_th_b = th_a[idx[1]], th_b[idx[0]]\n",
        "print(f\"Best Fairness-Constrained Balanced Accuracy: {constrained_bal_acc.max():.5f} with Male TH: {best_con_th_a:.3f}, Female TH: {best_con_th_b:.3f}\")\n"
      ],
      "metadata": {
        "colab": {
          "base_uri": "https://localhost:8080/"
        },
        "id": "VtLf9lkWVEDn",
        "outputId": "8c342c3b-d07b-4dbb-ca3b-65a47f542770"
      },
      "execution_count": null,
      "outputs": [
        {
          "output_type": "stream",
          "name": "stdout",
          "text": [
            "Best Fairness-Constrained Balanced Accuracy: 0.99999 with Male TH: 0.000, Female TH: 0.055\n"
          ]
        }
      ]
    },
    {
      "cell_type": "code",
      "source": [
        "# Plot\n",
        "plt.figure(figsize=(9,8))\n",
        "plt.title('Fairness vs. Performance Tradeoffs', fontsize=18)\n",
        "plt.xlabel('Lending Threshold FEMALE', fontsize=16)\n",
        "plt.ylabel('Lending Threshold MALE', fontsize=16)\n",
        "plt.xlim(np.min(th_a), np.max(th_a))\n",
        "plt.ylim(np.min(th_b), np.max(th_b))\n",
        "\n",
        "bal_acc_lns = plt.contourf(th_a, th_b, sample_split_sweep.tpr, levels=25)\n",
        "\n",
        "eo_lns = plt.contour(th_a, th_b, sample_split_sweep.dem_parity, colors='white', levels=10)\n",
        "eo_lns.collections[-1].set_label('equal opportunity')\n",
        "\n",
        "cbar = plt.colorbar(bal_acc_lns)\n",
        "cbar.set_label('Model Performance (recall accuracy)', fontsize=14)\n",
        "plt.clabel(eo_lns, inline=1,fmt='%1.2f', fontsize=14)\n",
        "\n",
        "plt.axhline(0.7, color='k')\n",
        "plt.axvline(0.7, color='k')\n",
        "# # Mark maximums\n",
        "# # plt.plot([0, 1], [0, 1], c='gray', ls=':', label='single threshold')\n",
        "# plt.scatter(best_th_a, best_th_b, c='b', marker='d', s=100, label= 'max bal acc', zorder=2)\n",
        "# plt.scatter(best_th, best_th, c='r', marker='x', s=100, label= 'single TH bal acc', zorder=2)\n",
        "# plt.scatter(best_con_th_a, best_con_th_b, c='purple', marker='*', s=100, label= 'equal opp bal acc', zorder=2)\n",
        "# lgnd = plt.legend(framealpha=0.3, facecolor='black', fontsize=12, loc='upper right')\n",
        "# for text in lgnd.get_texts():\n",
        "#     text.set_color(\"white\")\n",
        "# plt.show()"
      ],
      "metadata": {
        "colab": {
          "base_uri": "https://localhost:8080/",
          "height": 747
        },
        "id": "t5tLJIulBIon",
        "outputId": "d3835514-7970-478c-b8d2-e9ed309b29c5"
      },
      "execution_count": null,
      "outputs": [
        {
          "output_type": "execute_result",
          "data": {
            "text/plain": [
              "<matplotlib.lines.Line2D at 0x7db1c9edc580>"
            ]
          },
          "metadata": {},
          "execution_count": 410
        },
        {
          "output_type": "display_data",
          "data": {
            "text/plain": [
              "<Figure size 900x800 with 2 Axes>"
            ],
            "image/png": "[encoded data removed]"
          },
          "metadata": {}
        }
      ]
    },
    {
      "cell_type": "code",
      "source": [
        "recall_score(y_true=s_df['good30'], y_pred=s_df['above_gcredit'])"
      ],
      "metadata": {
        "colab": {
          "base_uri": "https://localhost:8080/"
        },
        "id": "E7APk-QUT759",
        "outputId": "5b9c3327-02f6-4678-d13a-62b0dea132ac"
      },
      "execution_count": null,
      "outputs": [
        {
          "output_type": "execute_result",
          "data": {
            "text/plain": [
              "0.38906028568920326"
            ]
          },
          "metadata": {},
          "execution_count": 408
        }
      ]
    },
    {
      "cell_type": "code",
      "source": [
        "s_df.loc[~s_df.sf_mask_gender & s_df.above_normal==1].sort_values('prediction', ascending=True)"
      ],
      "metadata": {
        "colab": {
          "base_uri": "https://localhost:8080/",
          "height": 424
        },
        "id": "uueY-MOeFnvv",
        "outputId": "d2e9c1ce-4e34-42b8-cefd-ff87fdfb6a5f"
      },
      "execution_count": null,
      "outputs": [
        {
          "output_type": "execute_result",
          "data": {
            "text/plain": [
              "        good30  above_normal  prediction gender  sf_mask_gender\n",
              "270074       1             1    0.005055   MALE           False\n",
              "181343       1             1    0.005130   MALE           False\n",
              "110603       1             1    0.005861   MALE           False\n",
              "165273       1             1    0.006419   MALE           False\n",
              "441980       1             1    0.007722   MALE           False\n",
              "...        ...           ...         ...    ...             ...\n",
              "246259       1             1    0.499961   MALE           False\n",
              "320529       1             1    0.499967   MALE           False\n",
              "406807       1             1    0.499968   MALE           False\n",
              "403325       0             1    0.499981   MALE           False\n",
              "229358       0             1    0.499991   MALE           False\n",
              "\n",
              "[38290 rows x 5 columns]"
            ],
            "text/html": [
              "\n",
              "\n",
              "  <div id=\"df-e1cd356f-04ff-486d-aacc-bccc83baa2ea\">\n",
              "    <div class=\"colab-df-container\">\n",
              "      <div>\n",
              "<style scoped>\n",
              "    .dataframe tbody tr th:only-of-type {\n",
              "        vertical-align: middle;\n",
              "    }\n",
              "\n",
              "    .dataframe tbody tr th {\n",
              "        vertical-align: top;\n",
              "    }\n",
              "\n",
              "    .dataframe thead th {\n",
              "        text-align: right;\n",
              "    }\n",
              "</style>\n",
              "<table border=\"1\" class=\"dataframe\">\n",
              "  <thead>\n",
              "    <tr style=\"text-align: right;\">\n",
              "      <th></th>\n",
              "      <th>good30</th>\n",
              "      <th>above_normal</th>\n",
              "      <th>prediction</th>\n",
              "      <th>gender</th>\n",
              "      <th>sf_mask_gender</th>\n",
              "    </tr>\n",
              "  </thead>\n",
              "  <tbody>\n",
              "    <tr>\n",
              "      <th>270074</th>\n",
              "      <td>1</td>\n",
              "      <td>1</td>\n",
              "      <td>0.005055</td>\n",
              "      <td>MALE</td>\n",
              "      <td>False</td>\n",
              "    </tr>\n",
              "    <tr>\n",
              "      <th>181343</th>\n",
              "      <td>1</td>\n",
              "      <td>1</td>\n",
              "      <td>0.005130</td>\n",
              "      <td>MALE</td>\n",
              "      <td>False</td>\n",
              "    </tr>\n",
              "    <tr>\n",
              "      <th>110603</th>\n",
              "      <td>1</td>\n",
              "      <td>1</td>\n",
              "      <td>0.005861</td>\n",
              "      <td>MALE</td>\n",
              "      <td>False</td>\n",
              "    </tr>\n",
              "    <tr>\n",
              "      <th>165273</th>\n",
              "      <td>1</td>\n",
              "      <td>1</td>\n",
              "      <td>0.006419</td>\n",
              "      <td>MALE</td>\n",
              "      <td>False</td>\n",
              "    </tr>\n",
              "    <tr>\n",
              "      <th>441980</th>\n",
              "      <td>1</td>\n",
              "      <td>1</td>\n",
              "      <td>0.007722</td>\n",
              "      <td>MALE</td>\n",
              "      <td>False</td>\n",
              "    </tr>\n",
              "    <tr>\n",
              "      <th>...</th>\n",
              "      <td>...</td>\n",
              "      <td>...</td>\n",
              "      <td>...</td>\n",
              "      <td>...</td>\n",
              "      <td>...</td>\n",
              "    </tr>\n",
              "    <tr>\n",
              "      <th>246259</th>\n",
              "      <td>1</td>\n",
              "      <td>1</td>\n",
              "      <td>0.499961</td>\n",
              "      <td>MALE</td>\n",
              "      <td>False</td>\n",
              "    </tr>\n",
              "    <tr>\n",
              "      <th>320529</th>\n",
              "      <td>1</td>\n",
              "      <td>1</td>\n",
              "      <td>0.499967</td>\n",
              "      <td>MALE</td>\n",
              "      <td>False</td>\n",
              "    </tr>\n",
              "    <tr>\n",
              "      <th>406807</th>\n",
              "      <td>1</td>\n",
              "      <td>1</td>\n",
              "      <td>0.499968</td>\n",
              "      <td>MALE</td>\n",
              "      <td>False</td>\n",
              "    </tr>\n",
              "    <tr>\n",
              "      <th>403325</th>\n",
              "      <td>0</td>\n",
              "      <td>1</td>\n",
              "      <td>0.499981</td>\n",
              "      <td>MALE</td>\n",
              "      <td>False</td>\n",
              "    </tr>\n",
              "    <tr>\n",
              "      <th>229358</th>\n",
              "      <td>0</td>\n",
              "      <td>1</td>\n",
              "      <td>0.499991</td>\n",
              "      <td>MALE</td>\n",
              "      <td>False</td>\n",
              "    </tr>\n",
              "  </tbody>\n",
              "</table>\n",
              "<p>38290 rows × 5 columns</p>\n",
              "</div>\n",
              "      <button class=\"colab-df-convert\" onclick=\"convertToInteractive('df-e1cd356f-04ff-486d-aacc-bccc83baa2ea')\"\n",
              "              title=\"Convert this dataframe to an interactive table.\"\n",
              "              style=\"display:none;\">\n",
              "\n",
              "  <svg xmlns=\"http://www.w3.org/2000/svg\" height=\"24px\"viewBox=\"0 0 24 24\"\n",
              "       width=\"24px\">\n",
              "    <path d=\"M0 0h24v24H0V0z\" fill=\"none\"/>\n",
              "    <path d=\"M18.56 5.44l.94 2.06.94-2.06 2.06-.94-2.06-.94-.94-2.06-.94 2.06-2.06.94zm-11 1L8.5 8.5l.94-2.06 2.06-.94-2.06-.94L8.5 2.5l-.94 2.06-2.06.94zm10 10l.94 2.06.94-2.06 2.06-.94-2.06-.94-.94-2.06-.94 2.06-2.06.94z\"/><path d=\"M17.41 7.96l-1.37-1.37c-.4-.4-.92-.59-1.43-.59-.52 0-1.04.2-1.43.59L10.3 9.45l-7.72 7.72c-.78.78-.78 2.05 0 2.83L4 21.41c.39.39.9.59 1.41.59.51 0 1.02-.2 1.41-.59l7.78-7.78 2.81-2.81c.8-.78.8-2.07 0-2.86zM5.41 20L4 18.59l7.72-7.72 1.47 1.35L5.41 20z\"/>\n",
              "  </svg>\n",
              "      </button>\n",
              "\n",
              "\n",
              "\n",
              "    <div id=\"df-72efb1ce-06ca-4717-81a3-def7a2695273\">\n",
              "      <button class=\"colab-df-quickchart\" onclick=\"quickchart('df-72efb1ce-06ca-4717-81a3-def7a2695273')\"\n",
              "              title=\"Suggest charts.\"\n",
              "              style=\"display:none;\">\n",
              "\n",
              "<svg xmlns=\"http://www.w3.org/2000/svg\" height=\"24px\"viewBox=\"0 0 24 24\"\n",
              "     width=\"24px\">\n",
              "    <g>\n",
              "        <path d=\"M19 3H5c-1.1 0-2 .9-2 2v14c0 1.1.9 2 2 2h14c1.1 0 2-.9 2-2V5c0-1.1-.9-2-2-2zM9 17H7v-7h2v7zm4 0h-2V7h2v10zm4 0h-2v-4h2v4z\"/>\n",
              "    </g>\n",
              "</svg>\n",
              "      </button>\n",
              "    </div>\n",
              "\n",
              "<style>\n",
              "  .colab-df-quickchart {\n",
              "    background-color: #E8F0FE;\n",
              "    border: none;\n",
              "    border-radius: 50%;\n",
              "    cursor: pointer;\n",
              "    display: none;\n",
              "    fill: #1967D2;\n",
              "    height: 32px;\n",
              "    padding: 0 0 0 0;\n",
              "    width: 32px;\n",
              "  }\n",
              "\n",
              "  .colab-df-quickchart:hover {\n",
              "    background-color: #E2EBFA;\n",
              "    box-shadow: 0px 1px 2px rgba(60, 64, 67, 0.3), 0px 1px 3px 1px rgba(60, 64, 67, 0.15);\n",
              "    fill: #174EA6;\n",
              "  }\n",
              "\n",
              "  [theme=dark] .colab-df-quickchart {\n",
              "    background-color: #3B4455;\n",
              "    fill: #D2E3FC;\n",
              "  }\n",
              "\n",
              "  [theme=dark] .colab-df-quickchart:hover {\n",
              "    background-color: #434B5C;\n",
              "    box-shadow: 0px 1px 3px 1px rgba(0, 0, 0, 0.15);\n",
              "    filter: drop-shadow(0px 1px 2px rgba(0, 0, 0, 0.3));\n",
              "    fill: #FFFFFF;\n",
              "  }\n",
              "</style>\n",
              "\n",
              "    <script>\n",
              "      async function quickchart(key) {\n",
              "        const containerElement = document.querySelector('#' + key);\n",
              "        const charts = await google.colab.kernel.invokeFunction(\n",
              "            'suggestCharts', [key], {});\n",
              "      }\n",
              "    </script>\n",
              "\n",
              "      <script>\n",
              "\n",
              "function displayQuickchartButton(domScope) {\n",
              "  let quickchartButtonEl =\n",
              "    domScope.querySelector('#df-72efb1ce-06ca-4717-81a3-def7a2695273 button.colab-df-quickchart');\n",
              "  quickchartButtonEl.style.display =\n",
              "    google.colab.kernel.accessAllowed ? 'block' : 'none';\n",
              "}\n",
              "\n",
              "        displayQuickchartButton(document);\n",
              "      </script>\n",
              "      <style>\n",
              "    .colab-df-container {\n",
              "      display:flex;\n",
              "      flex-wrap:wrap;\n",
              "      gap: 12px;\n",
              "    }\n",
              "\n",
              "    .colab-df-convert {\n",
              "      background-color: #E8F0FE;\n",
              "      border: none;\n",
              "      border-radius: 50%;\n",
              "      cursor: pointer;\n",
              "      display: none;\n",
              "      fill: #1967D2;\n",
              "      height: 32px;\n",
              "      padding: 0 0 0 0;\n",
              "      width: 32px;\n",
              "    }\n",
              "\n",
              "    .colab-df-convert:hover {\n",
              "      background-color: #E2EBFA;\n",
              "      box-shadow: 0px 1px 2px rgba(60, 64, 67, 0.3), 0px 1px 3px 1px rgba(60, 64, 67, 0.15);\n",
              "      fill: #174EA6;\n",
              "    }\n",
              "\n",
              "    [theme=dark] .colab-df-convert {\n",
              "      background-color: #3B4455;\n",
              "      fill: #D2E3FC;\n",
              "    }\n",
              "\n",
              "    [theme=dark] .colab-df-convert:hover {\n",
              "      background-color: #434B5C;\n",
              "      box-shadow: 0px 1px 3px 1px rgba(0, 0, 0, 0.15);\n",
              "      filter: drop-shadow(0px 1px 2px rgba(0, 0, 0, 0.3));\n",
              "      fill: #FFFFFF;\n",
              "    }\n",
              "  </style>\n",
              "\n",
              "      <script>\n",
              "        const buttonEl =\n",
              "          document.querySelector('#df-e1cd356f-04ff-486d-aacc-bccc83baa2ea button.colab-df-convert');\n",
              "        buttonEl.style.display =\n",
              "          google.colab.kernel.accessAllowed ? 'block' : 'none';\n",
              "\n",
              "        async function convertToInteractive(key) {\n",
              "          const element = document.querySelector('#df-e1cd356f-04ff-486d-aacc-bccc83baa2ea');\n",
              "          const dataTable =\n",
              "            await google.colab.kernel.invokeFunction('convertToInteractive',\n",
              "                                                     [key], {});\n",
              "          if (!dataTable) return;\n",
              "\n",
              "          const docLinkHtml = 'Like what you see? Visit the ' +\n",
              "            '<a target=\"_blank\" href=https://colab.research.google.com/notebooks/data_table.ipynb>data table notebook</a>'\n",
              "            + ' to learn more about interactive tables.';\n",
              "          element.innerHTML = '';\n",
              "          dataTable['output_type'] = 'display_data';\n",
              "          await google.colab.output.renderOutput(dataTable, element);\n",
              "          const docLink = document.createElement('div');\n",
              "          docLink.innerHTML = docLinkHtml;\n",
              "          element.appendChild(docLink);\n",
              "        }\n",
              "      </script>\n",
              "    </div>\n",
              "  </div>\n"
            ]
          },
          "metadata": {},
          "execution_count": 246
        }
      ]
    },
    {
      "cell_type": "code",
      "source": [
        "recall_score(y_true, y_pred)"
      ],
      "metadata": {
        "colab": {
          "base_uri": "https://localhost:8080/"
        },
        "id": "3ZYxC7XPFaFn",
        "outputId": "78fc808a-978b-4261-e291-c94c767a93d3"
      },
      "execution_count": null,
      "outputs": [
        {
          "output_type": "execute_result",
          "data": {
            "text/plain": [
              "0.7016471716249688"
            ]
          },
          "metadata": {},
          "execution_count": 234
        }
      ]
    },
    {
      "cell_type": "code",
      "source": [
        "n = P+N\n",
        "\n",
        "# np.divide((1-N/n)*tpr, PP/n), PP/n\n",
        "tpr*P, PP, np.divide(tpr*P, PP)"
      ],
      "metadata": {
        "colab": {
          "base_uri": "https://localhost:8080/"
        },
        "id": "nfkwS8T5xGtw",
        "outputId": "bff9af49-9cad-4511-de29-e795bfa1157c"
      },
      "execution_count": null,
      "outputs": [
        {
          "output_type": "stream",
          "name": "stderr",
          "text": [
            "<ipython-input-120-884515188ffb>:4: RuntimeWarning: invalid value encountered in true_divide\n",
            "  tpr*P, PP, np.divide(tpr*P, PP)\n"
          ]
        },
        {
          "output_type": "execute_result",
          "data": {
            "text/plain": [
              "(array([0.00000e+00, 1.00000e+00, 4.80000e+01, ..., 4.13011e+05,\n",
              "        4.13011e+05, 4.13011e+05]),\n",
              " array([0.00000e+00, 1.00000e+00, 4.80000e+01, ..., 4.63153e+05,\n",
              "        4.63163e+05, 4.63163e+05]),\n",
              " array([       nan, 1.        , 1.        , ..., 0.89173772, 0.89171847,\n",
              "        0.89171847]))"
            ]
          },
          "metadata": {},
          "execution_count": 120
        }
      ]
    },
    {
      "cell_type": "code",
      "source": [
        " base_default_rate = 1 - np.mean(y_true)\n",
        "accept_rate = (1 - base_default_rate) * tpr + base_default_rate * fpr\n",
        "prob_tp = (1 - base_default_rate) * tpr\n",
        "_ppv = np.divide(prob_tp, accept_rate, out=np.zeros_like(prob_tp), where=(accept_rate != 0))"
      ],
      "metadata": {
        "id": "TjKEGxKZx15k"
      },
      "execution_count": null,
      "outputs": []
    },
    {
      "cell_type": "code",
      "source": [
        "f_or"
      ],
      "metadata": {
        "colab": {
          "base_uri": "https://localhost:8080/"
        },
        "id": "I_p9MO-ByBqL",
        "outputId": "19754936-ce59-4497-a7b1-f49b2336f49e"
      },
      "execution_count": null,
      "outputs": [
        {
          "output_type": "execute_result",
          "data": {
            "text/plain": [
              "array([0.10828153, 0.1082813 , 0.10827031, ..., 0.        , 0.        ,\n",
              "       0.        ])"
            ]
          },
          "metadata": {},
          "execution_count": 128
        }
      ]
    },
    {
      "cell_type": "code",
      "source": [
        "f_or"
      ],
      "metadata": {
        "colab": {
          "base_uri": "https://localhost:8080/"
        },
        "id": "EfYTPB4pyEpU",
        "outputId": "f405016f-5de9-41bc-fef8-821edb19b66c"
      },
      "execution_count": null,
      "outputs": [
        {
          "output_type": "execute_result",
          "data": {
            "text/plain": [
              "array([0.10828153, 0.1082813 , 0.10827031, ..., 0.        , 0.        ,\n",
              "       0.        ])"
            ]
          },
          "metadata": {},
          "execution_count": 126
        }
      ]
    },
    {
      "cell_type": "code",
      "source": [
        "plt.plot(ppv)"
      ],
      "metadata": {
        "colab": {
          "base_uri": "https://localhost:8080/",
          "height": 448
        },
        "id": "g1I2JIa7x3ai",
        "outputId": "d8b6346f-c579-4cff-c91f-8a6600c141ff"
      },
      "execution_count": null,
      "outputs": [
        {
          "output_type": "execute_result",
          "data": {
            "text/plain": [
              "[<matplotlib.lines.Line2D at 0x7db1df6e1b40>]"
            ]
          },
          "metadata": {},
          "execution_count": 132
        },
        {
          "output_type": "display_data",
          "data": {
            "text/plain": [
              "<Figure size 640x480 with 1 Axes>"
            ],
            "image/png": "[encoded data removed]"
          },
          "metadata": {}
        }
      ]
    },
    {
      "cell_type": "code",
      "source": [
        "plt.plot(f_or)"
      ],
      "metadata": {
        "colab": {
          "base_uri": "https://localhost:8080/",
          "height": 448
        },
        "id": "fnObgK38x9M0",
        "outputId": "5e3a34f9-1777-4ae0-8f22-48bc681bd89d"
      },
      "execution_count": null,
      "outputs": [
        {
          "output_type": "execute_result",
          "data": {
            "text/plain": [
              "[<matplotlib.lines.Line2D at 0x7db1df750910>]"
            ]
          },
          "metadata": {},
          "execution_count": 133
        },
        {
          "output_type": "display_data",
          "data": {
            "text/plain": [
              "<Figure size 640x480 with 1 Axes>"
            ],
            "image/png": "[encoded data removed]"
          },
          "metadata": {}
        }
      ]
    },
    {
      "cell_type": "code",
      "source": [
        "rates = ModelRates(y_true, y_prob)"
      ],
      "metadata": {
        "id": "mmPxathfwy-_"
      },
      "execution_count": null,
      "outputs": []
    },
    {
      "cell_type": "code",
      "source": [
        "rates.ppv(0.001)"
      ],
      "metadata": {
        "colab": {
          "base_uri": "https://localhost:8080/"
        },
        "id": "nQF7OIvp012d",
        "outputId": "e7e0c464-e677-47c1-9d21-e842b54f4b7f"
      },
      "execution_count": null,
      "outputs": [
        {
          "output_type": "execute_result",
          "data": {
            "text/plain": [
              "array(0.89171847)"
            ]
          },
          "metadata": {},
          "execution_count": 159
        }
      ]
    },
    {
      "cell_type": "code",
      "source": [
        "def compute_rates(y_true, y_prob):\n",
        "\n",
        "\n",
        "    fpr, tpr, ths = roc_curve(y_true, y_prob)\n",
        "\n",
        "    ths[0] = 1.0\n",
        "    ths = np.append(ths, [0])  # Add endpoints for ease of interpolation\n",
        "    fpr = np.append(fpr, [1])\n",
        "    tpr = np.append(tpr, [1])"
      ],
      "metadata": {
        "id": "w0zL22EnSaSI"
      },
      "execution_count": null,
      "outputs": []
    },
    {
      "cell_type": "code",
      "source": [
        "base_default_rate = 1 - np.mean(y_true)"
      ],
      "metadata": {
        "id": "7IgwVoEiTfWc"
      },
      "execution_count": null,
      "outputs": []
    },
    {
      "cell_type": "code",
      "source": [
        "roc_display = RocCurveDisplay(fpr=fpr, tpr=tpr).plot()a"
      ],
      "metadata": {
        "colab": {
          "base_uri": "https://localhost:8080/",
          "height": 449
        },
        "id": "0vsikJC7Taqp",
        "outputId": "bde093f5-16ce-458c-910d-508671a9f776"
      },
      "execution_count": null,
      "outputs": [
        {
          "output_type": "display_data",
          "data": {
            "text/plain": [
              "<Figure size 640x480 with 1 Axes>"
            ],
            "image/png": "[encoded data removed]"
          },
          "metadata": {}
        }
      ]
    },
    {
      "cell_type": "code",
      "source": [
        "#base_default_rate\n",
        "\n",
        "np.mean(y_true)"
      ],
      "metadata": {
        "colab": {
          "base_uri": "https://localhost:8080/"
        },
        "id": "vBWT7fGxneBN",
        "outputId": "39c5ac41-0561-465f-b624-f4ba0e19cc27"
      },
      "execution_count": null,
      "outputs": [
        {
          "output_type": "execute_result",
          "data": {
            "text/plain": [
              "0.10828153371491246"
            ]
          },
          "metadata": {},
          "execution_count": 101
        }
      ]
    },
    {
      "cell_type": "code",
      "source": [
        "y_true.value_counts(), 413011/(413011+50152)"
      ],
      "metadata": {
        "colab": {
          "base_uri": "https://localhost:8080/"
        },
        "id": "rJM-O9RRniHj",
        "outputId": "86f3c3e8-701b-452e-97ac-0340b930c427"
      },
      "execution_count": null,
      "outputs": [
        {
          "output_type": "execute_result",
          "data": {
            "text/plain": [
              "(1    413011\n",
              " 0     50152\n",
              " Name: good30, dtype: int64,\n",
              " 0.8917184662850876)"
            ]
          },
          "metadata": {},
          "execution_count": 98
        }
      ]
    },
    {
      "cell_type": "code",
      "source": [
        "fnr = 1 - tpr\n",
        "tnr = 1 - fpr\n",
        "\n",
        "P, N = (y_true==1).sum(), (y_true==0).sum()\n",
        "PP = tpr*P + fpr*N\n",
        "PN = tnr*P + fnr*N\n",
        "ppv = pd.Series(np.divide(tpr*P, PP)).bfill().values\n",
        "\n",
        "f_or = pd.Series(np.divide(fnr*N, PN)).ffill().values\n",
        "fdr = 1 - ppv\n",
        "npv = 1 - f_or"
      ],
      "metadata": {
        "colab": {
          "base_uri": "https://localhost:8080/"
        },
        "id": "r87AywmVhkYy",
        "outputId": "ea4a17a4-d97c-4db9-b6d7-39b3cf95bbb1"
      },
      "execution_count": null,
      "outputs": [
        {
          "output_type": "stream",
          "name": "stderr",
          "text": [
            "<ipython-input-91-792c9c72e960>:7: RuntimeWarning: invalid value encountered in true_divide\n",
            "  ppv = pd.Series(np.divide(tpr*P, PP)).bfill().values\n",
            "<ipython-input-91-792c9c72e960>:8: RuntimeWarning: invalid value encountered in true_divide\n",
            "  f_or = pd.Series(np.divide(fnr*N, PN)).ffill().values\n"
          ]
        }
      ]
    },
    {
      "cell_type": "code",
      "source": [
        "n = 28394\n",
        "false_discovery_rate(y_true, (y_prob_good_30 >= ths[n]).map(int)), fdr[n]"
      ],
      "metadata": {
        "id": "Dn6HnT0Sbylo",
        "colab": {
          "base_uri": "https://localhost:8080/"
        },
        "outputId": "ca6bbb84-d0cc-4b69-cc8c-ad32fb41f716"
      },
      "execution_count": null,
      "outputs": [
        {
          "output_type": "execute_result",
          "data": {
            "text/plain": [
              "(0.048098631579961526, 0.048098631579961526)"
            ]
          },
          "metadata": {},
          "execution_count": 23
        }
      ]
    },
    {
      "cell_type": "code",
      "source": [
        "th_a = np.linspace(0.3, 0.7, 500)\n",
        "th_b = np.linspace(0.3, 0.7, 500)\n",
        "grid_th_a, grid_th_b = np.meshgrid(th_a, th_b, sparse=True)\n"
      ],
      "metadata": {
        "id": "gGCMJbX9ojTx"
      },
      "execution_count": null,
      "outputs": []
    },
    {
      "cell_type": "code",
      "source": [],
      "metadata": {
        "id": "Z_vQthG8SFQt"
      },
      "execution_count": null,
      "outputs": []
    },
    {
      "cell_type": "code",
      "source": [
        "class ModelRates:\n",
        "    def __init__(self, y_true, y_prob):\n",
        "        (ths, tpr, fpr, ppv, bdr, ar) = self._compute_rates(y_true, y_prob)\n",
        "        self.base_default_rate = bdr\n",
        "        self.tpr = interp1d(ths, tpr)\n",
        "        self.fpr = interp1d(ths, fpr)\n",
        "        self.ppv = interp1d(ths, ppv)\n",
        "        self.accept_rate = interp1d(ths, ar)\n",
        "\n",
        "    @staticmethod\n",
        "    def _compute_rates(y_true, y_prob):\n",
        "        # Vectorizable computation of rates\n",
        "        fpr, tpr, ths = roc_curve(y_true, y_prob, pos_label=1)\n",
        "        ths[0] = 1.0  # roc_curve sets max threshold arbitrarily above 1\n",
        "        ths = np.append(ths, [0.0])  # Add endpoints for ease of interpolation\n",
        "        fpr = np.append(fpr, [1.0])\n",
        "        tpr = np.append(tpr, [1.0])\n",
        "        base_default_rate = 1 - np.mean(y_true)\n",
        "        accept_rate = (1 - base_default_rate) * tpr + base_default_rate * fpr\n",
        "        prob_tp = (1 - base_default_rate) * tpr\n",
        "        ppv = np.divide(prob_tp, accept_rate, out=np.zeros_like(prob_tp), where=(accept_rate != 0))\n",
        "        return ths, tpr, fpr, ppv, base_default_rate, accept_rate"
      ],
      "metadata": {
        "id": "y19D6qI2okX4"
      },
      "execution_count": null,
      "outputs": []
    },
    {
      "cell_type": "code",
      "source": [],
      "metadata": {
        "id": "_XliAY1-qXCr"
      },
      "execution_count": null,
      "outputs": []
    },
    {
      "cell_type": "markdown",
      "source": [],
      "metadata": {
        "id": "RPIdABjkQWLV"
      }
    }
  ]
}